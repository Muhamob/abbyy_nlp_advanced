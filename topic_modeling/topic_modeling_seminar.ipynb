{
  "nbformat": 4,
  "nbformat_minor": 0,
  "metadata": {
    "kernelspec": {
      "display_name": "Python 2",
      "language": "python",
      "name": "python2"
    },
    "language_info": {
      "codemirror_mode": {
        "name": "ipython",
        "version": 2
      },
      "file_extension": ".py",
      "mimetype": "text/x-python",
      "name": "python",
      "nbconvert_exporter": "python",
      "pygments_lexer": "ipython2",
      "version": "2.7.13"
    },
    "colab": {
      "name": "topic_modelling_seminar.ipynb",
      "provenance": [],
      "collapsed_sections": []
    }
  },
  "cells": [
    {
      "cell_type": "code",
      "metadata": {
        "id": "E3-dGfXbRim8",
        "colab_type": "code",
        "colab": {}
      },
      "source": [
        "from sklearn.feature_extraction.text import CountVectorizer\n",
        "from sklearn.decomposition import LatentDirichletAllocation\n",
        "from sklearn.datasets import fetch_20newsgroups\n",
        "import gensim"
      ],
      "execution_count": 0,
      "outputs": []
    },
    {
      "cell_type": "markdown",
      "metadata": {
        "id": "fmp_THAuRinH",
        "colab_type": "text"
      },
      "source": [
        "### пункт 0\n",
        "\n",
        "Загрузите датасет с помощью функции fetch_20newsgroups"
      ]
    },
    {
      "cell_type": "code",
      "metadata": {
        "id": "_AuyXfFRRinL",
        "colab_type": "code",
        "outputId": "dd5eeafa-824a-4e5e-dc44-2336276f801d",
        "colab": {
          "base_uri": "https://localhost:8080/",
          "height": 52
        }
      },
      "source": [
        "d = fetch_20newsgroups(remove=('headers', 'footer', 'quotes')).data"
      ],
      "execution_count": 0,
      "outputs": [
        {
          "output_type": "stream",
          "text": [
            "Downloading 20news dataset. This may take a few minutes.\n",
            "Downloading dataset from https://ndownloader.figshare.com/files/5975967 (14 MB)\n"
          ],
          "name": "stderr"
        }
      ]
    },
    {
      "cell_type": "markdown",
      "metadata": {
        "id": "V3Tpivl6RinR",
        "colab_type": "text"
      },
      "source": [
        "### part 1: LDA из sklearn\n",
        "\n",
        "- Однопоточный, неэффективный.\n",
        "- Совместим в векторайзерами sklearn\n",
        "- легко исопльзовать"
      ]
    },
    {
      "cell_type": "markdown",
      "metadata": {
        "id": "WjhtmsHrRinT",
        "colab_type": "text"
      },
      "source": [
        "### пункт 1\n",
        "\n",
        "1) создайте объект класса CountVectorizer \n",
        "\n",
        "2) примените его к вашей коллекции, причем так, чтобы коллекция документов была представлена не всеми словами из словаря, а только 1000 словами, которые наиболее часто встречаются в коллекции\n",
        "\n",
        "(для этого надо воспользоваться методом fit_transform и указать соответствующий параметр)"
      ]
    },
    {
      "cell_type": "code",
      "metadata": {
        "id": "Y31ejlZaRinU",
        "colab_type": "code",
        "colab": {}
      },
      "source": [
        "cv = CountVectorizer(stop_words='english')\n",
        "\n",
        "transformed_dataset = cv.fit_transform(d)"
      ],
      "execution_count": 0,
      "outputs": []
    },
    {
      "cell_type": "markdown",
      "metadata": {
        "id": "kaDD-bGSRina",
        "colab_type": "text"
      },
      "source": [
        "### пункт 2\n",
        "Получите названия тех топ-1000 слов, которые вы только что закодировали векторайзером"
      ]
    },
    {
      "cell_type": "code",
      "metadata": {
        "id": "fG79INJHRinb",
        "colab_type": "code",
        "colab": {}
      },
      "source": [
        "import numpy as np\n",
        "\n",
        "inv_vocab = dict([(val, key) for key, val in cv.vocabulary_.items()])\n",
        "counter = np.array(transformed_dataset.sum(axis=0))[0]\n",
        "top_indices = np.argsort(counter, )[-1000:]\n",
        "tf_features = transformed_dataset[:,top_indices]\n",
        "tf_feature_names = [inv_vocab[i] for i in top_indices]\n",
        "assert len(tf_feature_names) == 1000"
      ],
      "execution_count": 0,
      "outputs": []
    },
    {
      "cell_type": "markdown",
      "metadata": {
        "id": "Ykhgdw0eRing",
        "colab_type": "text"
      },
      "source": [
        "Обучите LatentDirichletAllocation из sklearn со следующими параметрами n_topics=20, max_iter=50, learning_method='batch'"
      ]
    },
    {
      "cell_type": "code",
      "metadata": {
        "id": "kfI8XlSLRini",
        "colab_type": "code",
        "outputId": "b4bca23e-beae-4f0c-90ba-a388d6bfecff",
        "colab": {
          "base_uri": "https://localhost:8080/",
          "height": 139
        }
      },
      "source": [
        "lda = LatentDirichletAllocation(20, max_iter=50, learning_method='batch')\n",
        "lda.fit(tf_features)"
      ],
      "execution_count": 0,
      "outputs": [
        {
          "output_type": "execute_result",
          "data": {
            "text/plain": [
              "LatentDirichletAllocation(batch_size=128, doc_topic_prior=None,\n",
              "             evaluate_every=-1, learning_decay=0.7,\n",
              "             learning_method='batch', learning_offset=10.0,\n",
              "             max_doc_update_iter=100, max_iter=50, mean_change_tol=0.001,\n",
              "             n_components=20, n_jobs=None, n_topics=None, perp_tol=0.1,\n",
              "             random_state=None, topic_word_prior=None,\n",
              "             total_samples=1000000.0, verbose=0)"
            ]
          },
          "metadata": {
            "tags": []
          },
          "execution_count": 55
        }
      ]
    },
    {
      "cell_type": "markdown",
      "metadata": {
        "id": "JWCYhwdhRino",
        "colab_type": "text"
      },
      "source": [
        "Воспользуйтесь следующей функцией, чтобы вывести ключевые слова конкретной темы."
      ]
    },
    {
      "cell_type": "code",
      "metadata": {
        "id": "4lbpXIkeRinq",
        "colab_type": "code",
        "colab": {}
      },
      "source": [
        "def print_top_words(model, feature_names, n_top_words):\n",
        "    for topic_idx, topic in enumerate(model.components_):\n",
        "        print 'Topic {}:'.format(topic_idx)\n",
        "        print ' '.join([feature_names[i] for i in topic.argsort()[:-n_top_words - 1:-1]]) "
      ],
      "execution_count": 0,
      "outputs": []
    },
    {
      "cell_type": "code",
      "metadata": {
        "id": "9LO4WzFkRinu",
        "colab_type": "code",
        "outputId": "b825c1f8-3d2f-452f-f3f5-75eb45345f13",
        "colab": {
          "base_uri": "https://localhost:8080/",
          "height": 712
        }
      },
      "source": [
        "n_top_words = 10\n",
        "print_top_words(lda, tf_feature_names, n_top_words)"
      ],
      "execution_count": 0,
      "outputs": [
        {
          "output_type": "stream",
          "text": [
            "Topic 0:\n",
            "don just like think know people good time ve really\n",
            "Topic 1:\n",
            "game year team car games play dod season hockey good\n",
            "Topic 2:\n",
            "00 price 50 new 000 sale 100 offer 10 20\n",
            "Topic 3:\n",
            "available ftp software image server version edu pub graphics faq\n",
            "Topic 4:\n",
            "government law state states right power rights people military federal\n",
            "Topic 5:\n",
            "said armenian db turkish people armenians went children armenia did\n",
            "Topic 6:\n",
            "university research new center 1993 science national information april technology\n",
            "Topic 7:\n",
            "10 11 12 16 17 14 25 15 18 13\n",
            "Topic 8:\n",
            "people israel evidence jews question does israeli human true argument\n",
            "Topic 9:\n",
            "gun control guns group use crime firearms news service self\n",
            "Topic 10:\n",
            "god jesus bible believe church christian faith christ christians does\n",
            "Topic 11:\n",
            "mr president going stephanopoulos think know don money jobs said\n",
            "Topic 12:\n",
            "key encryption chip keys clipper security privacy public use w7\n",
            "Topic 13:\n",
            "space nasa __ 0d ___ gov launch _o 145 air\n",
            "Topic 14:\n",
            "edu com mail cs uk internet send email address list\n",
            "Topic 15:\n",
            "ax max g9v b8f a86 pl 145 1d9 1t 0t\n",
            "Topic 16:\n",
            "file output program entry section files line use build rules\n",
            "Topic 17:\n",
            "drive card scsi disk bit mac hard video apple memory\n",
            "Topic 18:\n",
            "thanks windows know does help like problem use ve hi\n",
            "Topic 19:\n",
            "window use application set display using widget code screen color\n"
          ],
          "name": "stdout"
        }
      ]
    },
    {
      "cell_type": "markdown",
      "metadata": {
        "id": "a7R6ZKHWRinz",
        "colab_type": "text"
      },
      "source": [
        "### part 2: Gensim\n",
        "\n",
        "- Неэффективный.\n",
        "- Совместим в векторайзерами sklearn.\n",
        "- Легко использовать.\n",
        "- Поддерживает несколько входных форматов."
      ]
    },
    {
      "cell_type": "markdown",
      "metadata": {
        "id": "oC1S7v21Rin0",
        "colab_type": "text"
      },
      "source": [
        "Преобразуйте корпус следующим образом"
      ]
    },
    {
      "cell_type": "code",
      "metadata": {
        "id": "DsvymaWtRin0",
        "colab_type": "code",
        "colab": {}
      },
      "source": [
        "corpus = gensim.matutils.Sparse2Corpus(tf_features, documents_columns=False)"
      ],
      "execution_count": 0,
      "outputs": []
    },
    {
      "cell_type": "markdown",
      "metadata": {
        "id": "m5pmj3QkRin6",
        "colab_type": "text"
      },
      "source": [
        "### пункт 3\n",
        "Заполните словарь id2word в виде {индекс:слово}"
      ]
    },
    {
      "cell_type": "code",
      "metadata": {
        "id": "lrjCupqjRin6",
        "colab_type": "code",
        "colab": {}
      },
      "source": [
        "id2word = dict(enumerate(tf_feature_names))"
      ],
      "execution_count": 0,
      "outputs": []
    },
    {
      "cell_type": "markdown",
      "metadata": {
        "id": "SJj8iPW8Rin_",
        "colab_type": "text"
      },
      "source": [
        "### пункт 4\n",
        "Обучите модель LDA из gensim (для этого надо воспользоваться gensim.models.ldamodel.LdaModel)"
      ]
    },
    {
      "cell_type": "code",
      "metadata": {
        "id": "waGZIodwRioA",
        "colab_type": "code",
        "colab": {}
      },
      "source": [
        "lda = gensim.models.ldamodel.LdaModel(corpus, num_topics=20, id2word=id2word)"
      ],
      "execution_count": 0,
      "outputs": []
    },
    {
      "cell_type": "markdown",
      "metadata": {
        "id": "C9Orbqv8RioF",
        "colab_type": "text"
      },
      "source": [
        "Выведите наиболее вероятные слова для каждой темы"
      ]
    },
    {
      "cell_type": "code",
      "metadata": {
        "id": "B2meZ1bmRioH",
        "colab_type": "code",
        "outputId": "fec84016-7be8-4e39-de90-6675d2ed680b",
        "colab": {
          "base_uri": "https://localhost:8080/",
          "height": 712
        }
      },
      "source": [
        "lda.print_topics(lda.num_topics)"
      ],
      "execution_count": 0,
      "outputs": [
        {
          "output_type": "execute_result",
          "data": {
            "text/plain": [
              "[(0,\n",
              "  u'0.015*\"key\" + 0.014*\"use\" + 0.012*\"bit\" + 0.011*\"like\" + 0.010*\"windows\" + 0.010*\"dos\" + 0.009*\"used\" + 0.009*\"using\" + 0.009*\"software\" + 0.008*\"serial\"'),\n",
              " (1,\n",
              "  u'0.027*\"window\" + 0.018*\"win\" + 0.014*\"server\" + 0.013*\"games\" + 0.012*\"vs\" + 0.012*\"package\" + 0.012*\"run\" + 0.012*\"ms\" + 0.011*\"game\" + 0.010*\"problem\"'),\n",
              " (2,\n",
              "  u'0.024*\"power\" + 0.016*\"problem\" + 0.013*\"dod\" + 0.013*\"like\" + 0.012*\"disk\" + 0.012*\"bike\" + 0.011*\"ground\" + 0.011*\"hard\" + 0.010*\"apple\" + 0.010*\"use\"'),\n",
              " (3,\n",
              "  u'0.018*\"people\" + 0.017*\"said\" + 0.016*\"gun\" + 0.015*\"000\" + 0.012*\"armenian\" + 0.012*\"turkish\" + 0.012*\"armenians\" + 0.012*\"war\" + 0.012*\"children\" + 0.011*\"guns\"'),\n",
              " (4,\n",
              "  u'0.023*\"don\" + 0.021*\"just\" + 0.019*\"like\" + 0.018*\"think\" + 0.016*\"know\" + 0.015*\"people\" + 0.014*\"time\" + 0.013*\"good\" + 0.010*\"say\" + 0.009*\"ll\"'),\n",
              " (5,\n",
              "  u'0.138*\"ax\" + 0.021*\"max\" + 0.019*\"orbit\" + 0.012*\"like\" + 0.009*\"know\" + 0.008*\"just\" + 0.007*\"edu\" + 0.007*\"a86\" + 0.007*\"think\" + 0.006*\"things\"'),\n",
              " (6,\n",
              "  u'0.028*\"new\" + 0.022*\"edu\" + 0.021*\"team\" + 0.014*\"john\" + 0.013*\"division\" + 0.013*\"hockey\" + 0.012*\"shall\" + 0.012*\"toronto\" + 0.011*\"gm\" + 0.011*\"jesus\"'),\n",
              " (7,\n",
              "  u'0.037*\"drive\" + 0.028*\"00\" + 0.018*\"scsi\" + 0.014*\"new\" + 0.013*\"drives\" + 0.011*\"controller\" + 0.010*\"ide\" + 0.010*\"cd\" + 0.009*\"50\" + 0.008*\"thanks\"'),\n",
              " (8,\n",
              "  u'0.034*\"edu\" + 0.032*\"file\" + 0.016*\"com\" + 0.015*\"program\" + 0.015*\"entry\" + 0.015*\"use\" + 0.012*\"image\" + 0.012*\"section\" + 0.012*\"files\" + 0.010*\"ftp\"'),\n",
              " (9,\n",
              "  u'0.734*\"ax\" + 0.053*\"max\" + 0.021*\"0d\" + 0.020*\"g9v\" + 0.013*\"_o\" + 0.012*\"a86\" + 0.010*\"b8f\" + 0.010*\"145\" + 0.009*\"pl\" + 0.009*\"3t\"'),\n",
              " (10,\n",
              "  u'0.019*\"government\" + 0.017*\"people\" + 0.014*\"law\" + 0.012*\"key\" + 0.011*\"state\" + 0.010*\"right\" + 0.009*\"public\" + 0.009*\"encryption\" + 0.009*\"use\" + 0.008*\"israel\"'),\n",
              " (11,\n",
              "  u'0.027*\"women\" + 0.024*\"lk\" + 0.021*\"satellite\" + 0.021*\"air\" + 0.019*\"launch\" + 0.019*\"closed\" + 0.018*\"cx\" + 0.017*\"soviet\" + 0.016*\"turkish\" + 0.016*\"w7\"'),\n",
              " (12,\n",
              "  u'0.046*\"god\" + 0.014*\"jesus\" + 0.014*\"people\" + 0.014*\"believe\" + 0.013*\"does\" + 0.012*\"bible\" + 0.010*\"don\" + 0.009*\"think\" + 0.009*\"know\" + 0.009*\"say\"'),\n",
              " (13,\n",
              "  u'0.025*\"com\" + 0.019*\"stephanopoulos\" + 0.014*\"edu\" + 0.013*\"health\" + 0.011*\"jews\" + 0.010*\"know\" + 0.010*\"medical\" + 0.009*\"center\" + 0.009*\"people\" + 0.009*\"research\"'),\n",
              " (14,\n",
              "  u'0.020*\"bit\" + 0.019*\"db\" + 0.017*\"cs\" + 0.017*\"problem\" + 0.011*\"edu\" + 0.010*\"wrong\" + 0.010*\"know\" + 0.009*\"peace\" + 0.008*\"like\" + 0.008*\"people\"'),\n",
              " (15,\n",
              "  u'0.056*\"picture\" + 0.028*\"base\" + 0.025*\"800\" + 0.025*\"wire\" + 0.024*\"com\" + 0.022*\"home\" + 0.017*\"ax\" + 0.016*\"45\" + 0.015*\"hp\" + 0.015*\"price\"'),\n",
              " (16,\n",
              "  u'0.036*\"25\" + 0.031*\"10\" + 0.022*\"16\" + 0.022*\"17\" + 0.021*\"11\" + 0.020*\"14\" + 0.020*\"cx\" + 0.019*\"15\" + 0.019*\"12\" + 0.018*\"24\"'),\n",
              " (17,\n",
              "  u'0.023*\"space\" + 0.017*\"information\" + 0.016*\"data\" + 0.012*\"mail\" + 0.011*\"nasa\" + 0.011*\"list\" + 0.011*\"available\" + 0.010*\"use\" + 0.010*\"technology\" + 0.009*\"research\"'),\n",
              " (18,\n",
              "  u'0.051*\"thanks\" + 0.030*\"windows\" + 0.027*\"card\" + 0.024*\"know\" + 0.021*\"edu\" + 0.020*\"advance\" + 0.018*\"hi\" + 0.018*\"video\" + 0.017*\"does\" + 0.017*\"color\"'),\n",
              " (19,\n",
              "  u'0.091*\"145\" + 0.089*\"0d\" + 0.086*\"ax\" + 0.061*\"6um\" + 0.043*\"a86\" + 0.031*\"2di\" + 0.028*\"0t\" + 0.028*\"_o\" + 0.022*\"34u\" + 0.020*\"excellent\"')]"
            ]
          },
          "metadata": {
            "tags": []
          },
          "execution_count": 62
        }
      ]
    },
    {
      "cell_type": "markdown",
      "metadata": {
        "id": "7HDXrpDuRioL",
        "colab_type": "text"
      },
      "source": [
        "### пункт 5\n",
        "Обучите модель LSI из gensim (для этого надо воспользоваться gensim.models.lsimodel.LsiModel)"
      ]
    },
    {
      "cell_type": "code",
      "metadata": {
        "id": "21TZQRF0RioL",
        "colab_type": "code",
        "colab": {}
      },
      "source": [
        "lsi = gensim.models.lsimodel.LsiModel(corpus, 20, id2word)"
      ],
      "execution_count": 0,
      "outputs": []
    },
    {
      "cell_type": "markdown",
      "metadata": {
        "id": "7IkPJUFwRioR",
        "colab_type": "text"
      },
      "source": [
        "Выведите наиболее вероятные слова для каждой темы"
      ]
    },
    {
      "cell_type": "code",
      "metadata": {
        "id": "npBY-PsyRioR",
        "colab_type": "code",
        "outputId": "5fcd4412-b7ad-44d0-a20b-869a551eb036",
        "colab": {
          "base_uri": "https://localhost:8080/",
          "height": 732
        }
      },
      "source": [
        "lsi.print_topics(lsi.num_topics)"
      ],
      "execution_count": 0,
      "outputs": [
        {
          "output_type": "execute_result",
          "data": {
            "text/plain": [
              "[(0,\n",
              "  u'0.997*\"ax\" + 0.072*\"max\" + 0.016*\"g9v\" + 0.012*\"b8f\" + 0.010*\"a86\" + 0.009*\"pl\" + 0.007*\"1d9\" + 0.006*\"1t\" + 0.006*\"145\" + 0.006*\"bhj\"'),\n",
              " (1,\n",
              "  u'0.387*\"145\" + 0.378*\"a86\" + 0.374*\"b8f\" + 0.359*\"g9v\" + 0.324*\"0d\" + 0.226*\"1d9\" + 0.211*\"0t\" + 0.187*\"2di\" + 0.172*\"_o\" + 0.171*\"34u\"'),\n",
              " (2,\n",
              "  u'-0.309*\"file\" + -0.248*\"edu\" + -0.171*\"use\" + -0.144*\"available\" + -0.129*\"com\" + -0.122*\"program\" + -0.121*\"information\" + -0.117*\"people\" + -0.117*\"pub\" + -0.114*\"ftp\"'),\n",
              " (3,\n",
              "  u'0.972*\"db\" + 0.149*\"cs\" + 0.089*\"al\" + 0.082*\"cx\" + 0.064*\"bits\" + -0.041*\"file\" + -0.021*\"edu\" + 0.021*\"gas\" + 0.020*\"higher\" + 0.020*\"ah\"'),\n",
              " (4,\n",
              "  u'-0.675*\"g9v\" + 0.507*\"0d\" + 0.331*\"_o\" + -0.182*\"b8f\" + 0.129*\"145\" + 0.128*\"6um\" + -0.113*\"1d9\" + 0.110*\"6ei\" + 0.096*\"3t\" + 0.088*\"75u\"'),\n",
              " (5,\n",
              "  u'0.244*\"10\" + 0.230*\"14\" + 0.225*\"16\" + 0.189*\"12\" + 0.186*\"25\" + 0.180*\"15\" + 0.178*\"20\" + 0.175*\"13\" + 0.174*\"11\" + 0.170*\"00\"'),\n",
              " (6,\n",
              "  u'0.298*\"file\" + -0.233*\"stephanopoulos\" + -0.233*\"mr\" + -0.210*\"know\" + -0.201*\"said\" + -0.197*\"people\" + -0.186*\"don\" + 0.161*\"edu\" + -0.157*\"think\" + -0.156*\"president\"'),\n",
              " (7,\n",
              "  u'0.589*\"g9v\" + 0.448*\"0d\" + -0.285*\"b8f\" + 0.284*\"_o\" + -0.198*\"pl\" + -0.182*\"1d9\" + -0.177*\"0t\" + -0.161*\"145\" + -0.146*\"a86\" + -0.136*\"wm\"'),\n",
              " (8,\n",
              "  u'0.642*\"file\" + -0.310*\"edu\" + 0.252*\"output\" + 0.179*\"entry\" + 0.159*\"gun\" + -0.137*\"available\" + 0.129*\"mr\" + -0.127*\"com\" + -0.103*\"pub\" + 0.092*\"congress\"'),\n",
              " (9,\n",
              "  u'-0.602*\"jpeg\" + -0.321*\"image\" + -0.235*\"gif\" + 0.186*\"edu\" + -0.185*\"color\" + -0.156*\"images\" + -0.147*\"bit\" + 0.144*\"com\" + -0.131*\"format\" + -0.120*\"quality\"'),\n",
              " (10,\n",
              "  u'-0.498*\"mr\" + -0.484*\"stephanopoulos\" + -0.241*\"president\" + 0.235*\"people\" + -0.157*\"edu\" + 0.113*\"god\" + 0.105*\"didn\" + 0.100*\"entry\" + 0.099*\"like\" + -0.095*\"package\"'),\n",
              " (11,\n",
              "  u'-0.612*\"cx\" + -0.438*\"w7\" + -0.284*\"chz\" + -0.268*\"lk\" + -0.212*\"17\" + -0.148*\"d9\" + 0.125*\"a86\" + 0.122*\"b8f\" + -0.118*\"27\" + -0.116*\"34u\"'),\n",
              " (12,\n",
              "  u'-0.323*\"entry\" + -0.304*\"output\" + -0.229*\"program\" + 0.214*\"file\" + 0.202*\"jpeg\" + 0.184*\"gun\" + -0.118*\"stephanopoulos\" + -0.118*\"rules\" + -0.116*\"build\" + 0.113*\"privacy\"'),\n",
              " (13,\n",
              "  u'0.362*\"edu\" + -0.222*\"privacy\" + -0.207*\"use\" + -0.205*\"internet\" + 0.161*\"com\" + 0.160*\"hockey\" + 0.159*\"output\" + -0.157*\"anonymous\" + 0.123*\"said\" + -0.122*\"disk\"'),\n",
              " (14,\n",
              "  u'0.215*\"00\" + -0.202*\"file\" + 0.196*\"entry\" + 0.189*\"privacy\" + -0.184*\"scsi\" + 0.180*\"internet\" + -0.176*\"disk\" + -0.174*\"drive\" + -0.166*\"gun\" + 0.154*\"anonymous\"'),\n",
              " (15,\n",
              "  u'-0.292*\"hockey\" + -0.225*\"new\" + -0.208*\"league\" + -0.187*\"nhl\" + -0.185*\"team\" + -0.171*\"season\" + -0.147*\"year\" + 0.146*\"file\" + 0.138*\"widget\" + -0.131*\"space\"'),\n",
              " (16,\n",
              "  u'0.811*\"00\" + 0.219*\"dos\" + -0.152*\"55\" + 0.141*\"50\" + 0.134*\"appears\" + 0.109*\"art\" + 0.101*\"40\" + -0.094*\"14\" + -0.085*\"entry\" + -0.081*\"12\"'),\n",
              " (17,\n",
              "  u'0.211*\"edu\" + -0.204*\"widget\" + -0.181*\"window\" + 0.172*\"output\" + -0.159*\"subject\" + -0.156*\"use\" + 0.152*\"internet\" + 0.145*\"anonymous\" + 0.142*\"privacy\" + -0.135*\"wire\"'),\n",
              " (18,\n",
              "  u'0.382*\"34u\" + -0.351*\"145\" + 0.316*\"1d9\" + 0.268*\"pl\" + 0.267*\"sl\" + -0.261*\"a86\" + 0.246*\"3t\" + -0.221*\"cx\" + 0.195*\"2tm\" + -0.186*\"b8f\"'),\n",
              " (19,\n",
              "  u'-0.449*\"space\" + -0.224*\"data\" + 0.224*\"god\" + -0.222*\"launch\" + -0.158*\"nasa\" + -0.146*\"satellite\" + -0.134*\"image\" + 0.125*\"use\" + 0.122*\"jpeg\" + 0.116*\"jesus\"')]"
            ]
          },
          "metadata": {
            "tags": []
          },
          "execution_count": 64
        }
      ]
    },
    {
      "cell_type": "markdown",
      "metadata": {
        "id": "4CUc_A3MRioV",
        "colab_type": "text"
      },
      "source": [
        "Какая модель по вашему мнению лучше выделила темы?"
      ]
    },
    {
      "cell_type": "markdown",
      "metadata": {
        "id": "MhuqJdoWZ5BN",
        "colab_type": "text"
      },
      "source": [
        "Сложно сказать какой алгоритм лучше выделил темы. Так например, LSI лучше выделил тему про хоккей, а LDA про оружие"
      ]
    },
    {
      "cell_type": "code",
      "metadata": {
        "id": "I3QTpkn0RioW",
        "colab_type": "code",
        "colab": {}
      },
      "source": [
        ""
      ],
      "execution_count": 0,
      "outputs": []
    }
  ]
}