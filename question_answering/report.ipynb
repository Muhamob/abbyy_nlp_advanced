{
  "nbformat": 4,
  "nbformat_minor": 0,
  "metadata": {
    "colab": {
      "name": "report.ipynb",
      "provenance": [],
      "collapsed_sections": []
    },
    "kernelspec": {
      "name": "python3",
      "display_name": "Python 3"
    },
    "accelerator": "GPU",
    "widgets": {
      "application/vnd.jupyter.widget-state+json": {
        "5908e4c7535546a4832d24096c97b37e": {
          "model_module": "@jupyter-widgets/controls",
          "model_name": "HBoxModel",
          "state": {
            "_view_name": "HBoxView",
            "_dom_classes": [],
            "_model_name": "HBoxModel",
            "_view_module": "@jupyter-widgets/controls",
            "_model_module_version": "1.5.0",
            "_view_count": null,
            "_view_module_version": "1.5.0",
            "box_style": "",
            "layout": "IPY_MODEL_b3c6f96fd06a4fbebe0ea21caa9c388c",
            "_model_module": "@jupyter-widgets/controls",
            "children": [
              "IPY_MODEL_ec60d6238f8040b7a5c2c449f5ea39ea",
              "IPY_MODEL_f8f6fd1debe94a7392a6dc358707d3b9"
            ]
          }
        },
        "b3c6f96fd06a4fbebe0ea21caa9c388c": {
          "model_module": "@jupyter-widgets/base",
          "model_name": "LayoutModel",
          "state": {
            "_view_name": "LayoutView",
            "grid_template_rows": null,
            "right": null,
            "justify_content": null,
            "_view_module": "@jupyter-widgets/base",
            "overflow": null,
            "_model_module_version": "1.2.0",
            "_view_count": null,
            "flex_flow": null,
            "width": null,
            "min_width": null,
            "border": null,
            "align_items": null,
            "bottom": null,
            "_model_module": "@jupyter-widgets/base",
            "top": null,
            "grid_column": null,
            "overflow_y": null,
            "overflow_x": null,
            "grid_auto_flow": null,
            "grid_area": null,
            "grid_template_columns": null,
            "flex": null,
            "_model_name": "LayoutModel",
            "justify_items": null,
            "grid_row": null,
            "max_height": null,
            "align_content": null,
            "visibility": null,
            "align_self": null,
            "height": null,
            "min_height": null,
            "padding": null,
            "grid_auto_rows": null,
            "grid_gap": null,
            "max_width": null,
            "order": null,
            "_view_module_version": "1.2.0",
            "grid_template_areas": null,
            "object_position": null,
            "object_fit": null,
            "grid_auto_columns": null,
            "margin": null,
            "display": null,
            "left": null
          }
        },
        "ec60d6238f8040b7a5c2c449f5ea39ea": {
          "model_module": "@jupyter-widgets/controls",
          "model_name": "IntProgressModel",
          "state": {
            "_view_name": "ProgressView",
            "style": "IPY_MODEL_1dc9beb1c971406d96f3be68013aa0d2",
            "_dom_classes": [],
            "description": "100%",
            "_model_name": "IntProgressModel",
            "bar_style": "success",
            "max": 9427,
            "_view_module": "@jupyter-widgets/controls",
            "_model_module_version": "1.5.0",
            "value": 9427,
            "_view_count": null,
            "_view_module_version": "1.5.0",
            "orientation": "horizontal",
            "min": 0,
            "description_tooltip": null,
            "_model_module": "@jupyter-widgets/controls",
            "layout": "IPY_MODEL_584f256ec01341b2816592bbdb53cd53"
          }
        },
        "f8f6fd1debe94a7392a6dc358707d3b9": {
          "model_module": "@jupyter-widgets/controls",
          "model_name": "HTMLModel",
          "state": {
            "_view_name": "HTMLView",
            "style": "IPY_MODEL_22d46d3c0441410ea5d7e7196ec65524",
            "_dom_classes": [],
            "description": "",
            "_model_name": "HTMLModel",
            "placeholder": "​",
            "_view_module": "@jupyter-widgets/controls",
            "_model_module_version": "1.5.0",
            "value": " 9427/9427 [09:52&lt;00:00, 15.92it/s]",
            "_view_count": null,
            "_view_module_version": "1.5.0",
            "description_tooltip": null,
            "_model_module": "@jupyter-widgets/controls",
            "layout": "IPY_MODEL_913f3adfaa7c464aa57d5dbbaf4e0f3b"
          }
        },
        "1dc9beb1c971406d96f3be68013aa0d2": {
          "model_module": "@jupyter-widgets/controls",
          "model_name": "ProgressStyleModel",
          "state": {
            "_view_name": "StyleView",
            "_model_name": "ProgressStyleModel",
            "description_width": "initial",
            "_view_module": "@jupyter-widgets/base",
            "_model_module_version": "1.5.0",
            "_view_count": null,
            "_view_module_version": "1.2.0",
            "bar_color": null,
            "_model_module": "@jupyter-widgets/controls"
          }
        },
        "584f256ec01341b2816592bbdb53cd53": {
          "model_module": "@jupyter-widgets/base",
          "model_name": "LayoutModel",
          "state": {
            "_view_name": "LayoutView",
            "grid_template_rows": null,
            "right": null,
            "justify_content": null,
            "_view_module": "@jupyter-widgets/base",
            "overflow": null,
            "_model_module_version": "1.2.0",
            "_view_count": null,
            "flex_flow": null,
            "width": null,
            "min_width": null,
            "border": null,
            "align_items": null,
            "bottom": null,
            "_model_module": "@jupyter-widgets/base",
            "top": null,
            "grid_column": null,
            "overflow_y": null,
            "overflow_x": null,
            "grid_auto_flow": null,
            "grid_area": null,
            "grid_template_columns": null,
            "flex": null,
            "_model_name": "LayoutModel",
            "justify_items": null,
            "grid_row": null,
            "max_height": null,
            "align_content": null,
            "visibility": null,
            "align_self": null,
            "height": null,
            "min_height": null,
            "padding": null,
            "grid_auto_rows": null,
            "grid_gap": null,
            "max_width": null,
            "order": null,
            "_view_module_version": "1.2.0",
            "grid_template_areas": null,
            "object_position": null,
            "object_fit": null,
            "grid_auto_columns": null,
            "margin": null,
            "display": null,
            "left": null
          }
        },
        "22d46d3c0441410ea5d7e7196ec65524": {
          "model_module": "@jupyter-widgets/controls",
          "model_name": "DescriptionStyleModel",
          "state": {
            "_view_name": "StyleView",
            "_model_name": "DescriptionStyleModel",
            "description_width": "",
            "_view_module": "@jupyter-widgets/base",
            "_model_module_version": "1.5.0",
            "_view_count": null,
            "_view_module_version": "1.2.0",
            "_model_module": "@jupyter-widgets/controls"
          }
        },
        "913f3adfaa7c464aa57d5dbbaf4e0f3b": {
          "model_module": "@jupyter-widgets/base",
          "model_name": "LayoutModel",
          "state": {
            "_view_name": "LayoutView",
            "grid_template_rows": null,
            "right": null,
            "justify_content": null,
            "_view_module": "@jupyter-widgets/base",
            "overflow": null,
            "_model_module_version": "1.2.0",
            "_view_count": null,
            "flex_flow": null,
            "width": null,
            "min_width": null,
            "border": null,
            "align_items": null,
            "bottom": null,
            "_model_module": "@jupyter-widgets/base",
            "top": null,
            "grid_column": null,
            "overflow_y": null,
            "overflow_x": null,
            "grid_auto_flow": null,
            "grid_area": null,
            "grid_template_columns": null,
            "flex": null,
            "_model_name": "LayoutModel",
            "justify_items": null,
            "grid_row": null,
            "max_height": null,
            "align_content": null,
            "visibility": null,
            "align_self": null,
            "height": null,
            "min_height": null,
            "padding": null,
            "grid_auto_rows": null,
            "grid_gap": null,
            "max_width": null,
            "order": null,
            "_view_module_version": "1.2.0",
            "grid_template_areas": null,
            "object_position": null,
            "object_fit": null,
            "grid_auto_columns": null,
            "margin": null,
            "display": null,
            "left": null
          }
        },
        "fb040377ef414bdea69f8734e5d6c078": {
          "model_module": "@jupyter-widgets/controls",
          "model_name": "HBoxModel",
          "state": {
            "_view_name": "HBoxView",
            "_dom_classes": [],
            "_model_name": "HBoxModel",
            "_view_module": "@jupyter-widgets/controls",
            "_model_module_version": "1.5.0",
            "_view_count": null,
            "_view_module_version": "1.5.0",
            "box_style": "",
            "layout": "IPY_MODEL_a00e0afafb6241a99226c62f546b3dec",
            "_model_module": "@jupyter-widgets/controls",
            "children": [
              "IPY_MODEL_aea150b357214332b41a3fcaa7f879b6",
              "IPY_MODEL_adea57cc48254229a9c9773e1b039816"
            ]
          }
        },
        "a00e0afafb6241a99226c62f546b3dec": {
          "model_module": "@jupyter-widgets/base",
          "model_name": "LayoutModel",
          "state": {
            "_view_name": "LayoutView",
            "grid_template_rows": null,
            "right": null,
            "justify_content": null,
            "_view_module": "@jupyter-widgets/base",
            "overflow": null,
            "_model_module_version": "1.2.0",
            "_view_count": null,
            "flex_flow": null,
            "width": null,
            "min_width": null,
            "border": null,
            "align_items": null,
            "bottom": null,
            "_model_module": "@jupyter-widgets/base",
            "top": null,
            "grid_column": null,
            "overflow_y": null,
            "overflow_x": null,
            "grid_auto_flow": null,
            "grid_area": null,
            "grid_template_columns": null,
            "flex": null,
            "_model_name": "LayoutModel",
            "justify_items": null,
            "grid_row": null,
            "max_height": null,
            "align_content": null,
            "visibility": null,
            "align_self": null,
            "height": null,
            "min_height": null,
            "padding": null,
            "grid_auto_rows": null,
            "grid_gap": null,
            "max_width": null,
            "order": null,
            "_view_module_version": "1.2.0",
            "grid_template_areas": null,
            "object_position": null,
            "object_fit": null,
            "grid_auto_columns": null,
            "margin": null,
            "display": null,
            "left": null
          }
        },
        "aea150b357214332b41a3fcaa7f879b6": {
          "model_module": "@jupyter-widgets/controls",
          "model_name": "IntProgressModel",
          "state": {
            "_view_name": "ProgressView",
            "style": "IPY_MODEL_b8a5703421fa4355b2c0fa95bc251d46",
            "_dom_classes": [],
            "description": "100%",
            "_model_name": "IntProgressModel",
            "bar_style": "success",
            "max": 3270,
            "_view_module": "@jupyter-widgets/controls",
            "_model_module_version": "1.5.0",
            "value": 3270,
            "_view_count": null,
            "_view_module_version": "1.5.0",
            "orientation": "horizontal",
            "min": 0,
            "description_tooltip": null,
            "_model_module": "@jupyter-widgets/controls",
            "layout": "IPY_MODEL_622b081831f0453c80ac93fdd4fcbe7b"
          }
        },
        "adea57cc48254229a9c9773e1b039816": {
          "model_module": "@jupyter-widgets/controls",
          "model_name": "HTMLModel",
          "state": {
            "_view_name": "HTMLView",
            "style": "IPY_MODEL_9a4c2ba0723343ec82f11b9f917781a3",
            "_dom_classes": [],
            "description": "",
            "_model_name": "HTMLModel",
            "placeholder": "​",
            "_view_module": "@jupyter-widgets/controls",
            "_model_module_version": "1.5.0",
            "value": " 3270/3270 [01:21&lt;00:00, 39.91it/s]",
            "_view_count": null,
            "_view_module_version": "1.5.0",
            "description_tooltip": null,
            "_model_module": "@jupyter-widgets/controls",
            "layout": "IPY_MODEL_da6d4bd78442429a92f0b5f9902dceda"
          }
        },
        "b8a5703421fa4355b2c0fa95bc251d46": {
          "model_module": "@jupyter-widgets/controls",
          "model_name": "ProgressStyleModel",
          "state": {
            "_view_name": "StyleView",
            "_model_name": "ProgressStyleModel",
            "description_width": "initial",
            "_view_module": "@jupyter-widgets/base",
            "_model_module_version": "1.5.0",
            "_view_count": null,
            "_view_module_version": "1.2.0",
            "bar_color": null,
            "_model_module": "@jupyter-widgets/controls"
          }
        },
        "622b081831f0453c80ac93fdd4fcbe7b": {
          "model_module": "@jupyter-widgets/base",
          "model_name": "LayoutModel",
          "state": {
            "_view_name": "LayoutView",
            "grid_template_rows": null,
            "right": null,
            "justify_content": null,
            "_view_module": "@jupyter-widgets/base",
            "overflow": null,
            "_model_module_version": "1.2.0",
            "_view_count": null,
            "flex_flow": null,
            "width": null,
            "min_width": null,
            "border": null,
            "align_items": null,
            "bottom": null,
            "_model_module": "@jupyter-widgets/base",
            "top": null,
            "grid_column": null,
            "overflow_y": null,
            "overflow_x": null,
            "grid_auto_flow": null,
            "grid_area": null,
            "grid_template_columns": null,
            "flex": null,
            "_model_name": "LayoutModel",
            "justify_items": null,
            "grid_row": null,
            "max_height": null,
            "align_content": null,
            "visibility": null,
            "align_self": null,
            "height": null,
            "min_height": null,
            "padding": null,
            "grid_auto_rows": null,
            "grid_gap": null,
            "max_width": null,
            "order": null,
            "_view_module_version": "1.2.0",
            "grid_template_areas": null,
            "object_position": null,
            "object_fit": null,
            "grid_auto_columns": null,
            "margin": null,
            "display": null,
            "left": null
          }
        },
        "9a4c2ba0723343ec82f11b9f917781a3": {
          "model_module": "@jupyter-widgets/controls",
          "model_name": "DescriptionStyleModel",
          "state": {
            "_view_name": "StyleView",
            "_model_name": "DescriptionStyleModel",
            "description_width": "",
            "_view_module": "@jupyter-widgets/base",
            "_model_module_version": "1.5.0",
            "_view_count": null,
            "_view_module_version": "1.2.0",
            "_model_module": "@jupyter-widgets/controls"
          }
        },
        "da6d4bd78442429a92f0b5f9902dceda": {
          "model_module": "@jupyter-widgets/base",
          "model_name": "LayoutModel",
          "state": {
            "_view_name": "LayoutView",
            "grid_template_rows": null,
            "right": null,
            "justify_content": null,
            "_view_module": "@jupyter-widgets/base",
            "overflow": null,
            "_model_module_version": "1.2.0",
            "_view_count": null,
            "flex_flow": null,
            "width": null,
            "min_width": null,
            "border": null,
            "align_items": null,
            "bottom": null,
            "_model_module": "@jupyter-widgets/base",
            "top": null,
            "grid_column": null,
            "overflow_y": null,
            "overflow_x": null,
            "grid_auto_flow": null,
            "grid_area": null,
            "grid_template_columns": null,
            "flex": null,
            "_model_name": "LayoutModel",
            "justify_items": null,
            "grid_row": null,
            "max_height": null,
            "align_content": null,
            "visibility": null,
            "align_self": null,
            "height": null,
            "min_height": null,
            "padding": null,
            "grid_auto_rows": null,
            "grid_gap": null,
            "max_width": null,
            "order": null,
            "_view_module_version": "1.2.0",
            "grid_template_areas": null,
            "object_position": null,
            "object_fit": null,
            "grid_auto_columns": null,
            "margin": null,
            "display": null,
            "left": null
          }
        },
        "746a71f283cc498abc56bfdb4d79ad9a": {
          "model_module": "@jupyter-widgets/controls",
          "model_name": "HBoxModel",
          "state": {
            "_view_name": "HBoxView",
            "_dom_classes": [],
            "_model_name": "HBoxModel",
            "_view_module": "@jupyter-widgets/controls",
            "_model_module_version": "1.5.0",
            "_view_count": null,
            "_view_module_version": "1.5.0",
            "box_style": "",
            "layout": "IPY_MODEL_7c7e653ccedd4ca88d25c3fa162fd5ac",
            "_model_module": "@jupyter-widgets/controls",
            "children": [
              "IPY_MODEL_6214246065dd476884f38155899119c8",
              "IPY_MODEL_48adbf89bf994719b39a9fcf15bc5c50"
            ]
          }
        },
        "7c7e653ccedd4ca88d25c3fa162fd5ac": {
          "model_module": "@jupyter-widgets/base",
          "model_name": "LayoutModel",
          "state": {
            "_view_name": "LayoutView",
            "grid_template_rows": null,
            "right": null,
            "justify_content": null,
            "_view_module": "@jupyter-widgets/base",
            "overflow": null,
            "_model_module_version": "1.2.0",
            "_view_count": null,
            "flex_flow": null,
            "width": null,
            "min_width": null,
            "border": null,
            "align_items": null,
            "bottom": null,
            "_model_module": "@jupyter-widgets/base",
            "top": null,
            "grid_column": null,
            "overflow_y": null,
            "overflow_x": null,
            "grid_auto_flow": null,
            "grid_area": null,
            "grid_template_columns": null,
            "flex": null,
            "_model_name": "LayoutModel",
            "justify_items": null,
            "grid_row": null,
            "max_height": null,
            "align_content": null,
            "visibility": null,
            "align_self": null,
            "height": null,
            "min_height": null,
            "padding": null,
            "grid_auto_rows": null,
            "grid_gap": null,
            "max_width": null,
            "order": null,
            "_view_module_version": "1.2.0",
            "grid_template_areas": null,
            "object_position": null,
            "object_fit": null,
            "grid_auto_columns": null,
            "margin": null,
            "display": null,
            "left": null
          }
        },
        "6214246065dd476884f38155899119c8": {
          "model_module": "@jupyter-widgets/controls",
          "model_name": "IntProgressModel",
          "state": {
            "_view_name": "ProgressView",
            "style": "IPY_MODEL_10b6aac59dfc46f494725aa31667d872",
            "_dom_classes": [],
            "description": "Downloading: 100%",
            "_model_name": "IntProgressModel",
            "bar_style": "success",
            "max": 231508,
            "_view_module": "@jupyter-widgets/controls",
            "_model_module_version": "1.5.0",
            "value": 231508,
            "_view_count": null,
            "_view_module_version": "1.5.0",
            "orientation": "horizontal",
            "min": 0,
            "description_tooltip": null,
            "_model_module": "@jupyter-widgets/controls",
            "layout": "IPY_MODEL_f18a08914a544b09a58f21fbddd5089d"
          }
        },
        "48adbf89bf994719b39a9fcf15bc5c50": {
          "model_module": "@jupyter-widgets/controls",
          "model_name": "HTMLModel",
          "state": {
            "_view_name": "HTMLView",
            "style": "IPY_MODEL_34503b5393c04c10b182da50927a953a",
            "_dom_classes": [],
            "description": "",
            "_model_name": "HTMLModel",
            "placeholder": "​",
            "_view_module": "@jupyter-widgets/controls",
            "_model_module_version": "1.5.0",
            "value": " 232k/232k [00:00&lt;00:00, 742kB/s]",
            "_view_count": null,
            "_view_module_version": "1.5.0",
            "description_tooltip": null,
            "_model_module": "@jupyter-widgets/controls",
            "layout": "IPY_MODEL_4bdbb99714194c3aa0142da7d77fa170"
          }
        },
        "10b6aac59dfc46f494725aa31667d872": {
          "model_module": "@jupyter-widgets/controls",
          "model_name": "ProgressStyleModel",
          "state": {
            "_view_name": "StyleView",
            "_model_name": "ProgressStyleModel",
            "description_width": "initial",
            "_view_module": "@jupyter-widgets/base",
            "_model_module_version": "1.5.0",
            "_view_count": null,
            "_view_module_version": "1.2.0",
            "bar_color": null,
            "_model_module": "@jupyter-widgets/controls"
          }
        },
        "f18a08914a544b09a58f21fbddd5089d": {
          "model_module": "@jupyter-widgets/base",
          "model_name": "LayoutModel",
          "state": {
            "_view_name": "LayoutView",
            "grid_template_rows": null,
            "right": null,
            "justify_content": null,
            "_view_module": "@jupyter-widgets/base",
            "overflow": null,
            "_model_module_version": "1.2.0",
            "_view_count": null,
            "flex_flow": null,
            "width": null,
            "min_width": null,
            "border": null,
            "align_items": null,
            "bottom": null,
            "_model_module": "@jupyter-widgets/base",
            "top": null,
            "grid_column": null,
            "overflow_y": null,
            "overflow_x": null,
            "grid_auto_flow": null,
            "grid_area": null,
            "grid_template_columns": null,
            "flex": null,
            "_model_name": "LayoutModel",
            "justify_items": null,
            "grid_row": null,
            "max_height": null,
            "align_content": null,
            "visibility": null,
            "align_self": null,
            "height": null,
            "min_height": null,
            "padding": null,
            "grid_auto_rows": null,
            "grid_gap": null,
            "max_width": null,
            "order": null,
            "_view_module_version": "1.2.0",
            "grid_template_areas": null,
            "object_position": null,
            "object_fit": null,
            "grid_auto_columns": null,
            "margin": null,
            "display": null,
            "left": null
          }
        },
        "34503b5393c04c10b182da50927a953a": {
          "model_module": "@jupyter-widgets/controls",
          "model_name": "DescriptionStyleModel",
          "state": {
            "_view_name": "StyleView",
            "_model_name": "DescriptionStyleModel",
            "description_width": "",
            "_view_module": "@jupyter-widgets/base",
            "_model_module_version": "1.5.0",
            "_view_count": null,
            "_view_module_version": "1.2.0",
            "_model_module": "@jupyter-widgets/controls"
          }
        },
        "4bdbb99714194c3aa0142da7d77fa170": {
          "model_module": "@jupyter-widgets/base",
          "model_name": "LayoutModel",
          "state": {
            "_view_name": "LayoutView",
            "grid_template_rows": null,
            "right": null,
            "justify_content": null,
            "_view_module": "@jupyter-widgets/base",
            "overflow": null,
            "_model_module_version": "1.2.0",
            "_view_count": null,
            "flex_flow": null,
            "width": null,
            "min_width": null,
            "border": null,
            "align_items": null,
            "bottom": null,
            "_model_module": "@jupyter-widgets/base",
            "top": null,
            "grid_column": null,
            "overflow_y": null,
            "overflow_x": null,
            "grid_auto_flow": null,
            "grid_area": null,
            "grid_template_columns": null,
            "flex": null,
            "_model_name": "LayoutModel",
            "justify_items": null,
            "grid_row": null,
            "max_height": null,
            "align_content": null,
            "visibility": null,
            "align_self": null,
            "height": null,
            "min_height": null,
            "padding": null,
            "grid_auto_rows": null,
            "grid_gap": null,
            "max_width": null,
            "order": null,
            "_view_module_version": "1.2.0",
            "grid_template_areas": null,
            "object_position": null,
            "object_fit": null,
            "grid_auto_columns": null,
            "margin": null,
            "display": null,
            "left": null
          }
        },
        "e504a8d3ca994aafbd208a39afc13761": {
          "model_module": "@jupyter-widgets/controls",
          "model_name": "HBoxModel",
          "state": {
            "_view_name": "HBoxView",
            "_dom_classes": [],
            "_model_name": "HBoxModel",
            "_view_module": "@jupyter-widgets/controls",
            "_model_module_version": "1.5.0",
            "_view_count": null,
            "_view_module_version": "1.5.0",
            "box_style": "",
            "layout": "IPY_MODEL_7824073acebb489cb333011d9fbc0dc3",
            "_model_module": "@jupyter-widgets/controls",
            "children": [
              "IPY_MODEL_174d49d2990240e3898056e51902b952",
              "IPY_MODEL_cc37fc0a279b4a8291ed004d89d37025"
            ]
          }
        },
        "7824073acebb489cb333011d9fbc0dc3": {
          "model_module": "@jupyter-widgets/base",
          "model_name": "LayoutModel",
          "state": {
            "_view_name": "LayoutView",
            "grid_template_rows": null,
            "right": null,
            "justify_content": null,
            "_view_module": "@jupyter-widgets/base",
            "overflow": null,
            "_model_module_version": "1.2.0",
            "_view_count": null,
            "flex_flow": null,
            "width": null,
            "min_width": null,
            "border": null,
            "align_items": null,
            "bottom": null,
            "_model_module": "@jupyter-widgets/base",
            "top": null,
            "grid_column": null,
            "overflow_y": null,
            "overflow_x": null,
            "grid_auto_flow": null,
            "grid_area": null,
            "grid_template_columns": null,
            "flex": null,
            "_model_name": "LayoutModel",
            "justify_items": null,
            "grid_row": null,
            "max_height": null,
            "align_content": null,
            "visibility": null,
            "align_self": null,
            "height": null,
            "min_height": null,
            "padding": null,
            "grid_auto_rows": null,
            "grid_gap": null,
            "max_width": null,
            "order": null,
            "_view_module_version": "1.2.0",
            "grid_template_areas": null,
            "object_position": null,
            "object_fit": null,
            "grid_auto_columns": null,
            "margin": null,
            "display": null,
            "left": null
          }
        },
        "174d49d2990240e3898056e51902b952": {
          "model_module": "@jupyter-widgets/controls",
          "model_name": "IntProgressModel",
          "state": {
            "_view_name": "ProgressView",
            "style": "IPY_MODEL_3f7de007984a48fd8c33fad3770e4e15",
            "_dom_classes": [],
            "description": "Downloading: 100%",
            "_model_name": "IntProgressModel",
            "bar_style": "success",
            "max": 433,
            "_view_module": "@jupyter-widgets/controls",
            "_model_module_version": "1.5.0",
            "value": 433,
            "_view_count": null,
            "_view_module_version": "1.5.0",
            "orientation": "horizontal",
            "min": 0,
            "description_tooltip": null,
            "_model_module": "@jupyter-widgets/controls",
            "layout": "IPY_MODEL_9ff24e4ec4064e9e8708981dddc9801e"
          }
        },
        "cc37fc0a279b4a8291ed004d89d37025": {
          "model_module": "@jupyter-widgets/controls",
          "model_name": "HTMLModel",
          "state": {
            "_view_name": "HTMLView",
            "style": "IPY_MODEL_684b46ef7afa4b8a8cef09582b041295",
            "_dom_classes": [],
            "description": "",
            "_model_name": "HTMLModel",
            "placeholder": "​",
            "_view_module": "@jupyter-widgets/controls",
            "_model_module_version": "1.5.0",
            "value": " 433/433 [00:15&lt;00:00, 28.4B/s]",
            "_view_count": null,
            "_view_module_version": "1.5.0",
            "description_tooltip": null,
            "_model_module": "@jupyter-widgets/controls",
            "layout": "IPY_MODEL_53e2faf3007e4eccbb46890eb84e2223"
          }
        },
        "3f7de007984a48fd8c33fad3770e4e15": {
          "model_module": "@jupyter-widgets/controls",
          "model_name": "ProgressStyleModel",
          "state": {
            "_view_name": "StyleView",
            "_model_name": "ProgressStyleModel",
            "description_width": "initial",
            "_view_module": "@jupyter-widgets/base",
            "_model_module_version": "1.5.0",
            "_view_count": null,
            "_view_module_version": "1.2.0",
            "bar_color": null,
            "_model_module": "@jupyter-widgets/controls"
          }
        },
        "9ff24e4ec4064e9e8708981dddc9801e": {
          "model_module": "@jupyter-widgets/base",
          "model_name": "LayoutModel",
          "state": {
            "_view_name": "LayoutView",
            "grid_template_rows": null,
            "right": null,
            "justify_content": null,
            "_view_module": "@jupyter-widgets/base",
            "overflow": null,
            "_model_module_version": "1.2.0",
            "_view_count": null,
            "flex_flow": null,
            "width": null,
            "min_width": null,
            "border": null,
            "align_items": null,
            "bottom": null,
            "_model_module": "@jupyter-widgets/base",
            "top": null,
            "grid_column": null,
            "overflow_y": null,
            "overflow_x": null,
            "grid_auto_flow": null,
            "grid_area": null,
            "grid_template_columns": null,
            "flex": null,
            "_model_name": "LayoutModel",
            "justify_items": null,
            "grid_row": null,
            "max_height": null,
            "align_content": null,
            "visibility": null,
            "align_self": null,
            "height": null,
            "min_height": null,
            "padding": null,
            "grid_auto_rows": null,
            "grid_gap": null,
            "max_width": null,
            "order": null,
            "_view_module_version": "1.2.0",
            "grid_template_areas": null,
            "object_position": null,
            "object_fit": null,
            "grid_auto_columns": null,
            "margin": null,
            "display": null,
            "left": null
          }
        },
        "684b46ef7afa4b8a8cef09582b041295": {
          "model_module": "@jupyter-widgets/controls",
          "model_name": "DescriptionStyleModel",
          "state": {
            "_view_name": "StyleView",
            "_model_name": "DescriptionStyleModel",
            "description_width": "",
            "_view_module": "@jupyter-widgets/base",
            "_model_module_version": "1.5.0",
            "_view_count": null,
            "_view_module_version": "1.2.0",
            "_model_module": "@jupyter-widgets/controls"
          }
        },
        "53e2faf3007e4eccbb46890eb84e2223": {
          "model_module": "@jupyter-widgets/base",
          "model_name": "LayoutModel",
          "state": {
            "_view_name": "LayoutView",
            "grid_template_rows": null,
            "right": null,
            "justify_content": null,
            "_view_module": "@jupyter-widgets/base",
            "overflow": null,
            "_model_module_version": "1.2.0",
            "_view_count": null,
            "flex_flow": null,
            "width": null,
            "min_width": null,
            "border": null,
            "align_items": null,
            "bottom": null,
            "_model_module": "@jupyter-widgets/base",
            "top": null,
            "grid_column": null,
            "overflow_y": null,
            "overflow_x": null,
            "grid_auto_flow": null,
            "grid_area": null,
            "grid_template_columns": null,
            "flex": null,
            "_model_name": "LayoutModel",
            "justify_items": null,
            "grid_row": null,
            "max_height": null,
            "align_content": null,
            "visibility": null,
            "align_self": null,
            "height": null,
            "min_height": null,
            "padding": null,
            "grid_auto_rows": null,
            "grid_gap": null,
            "max_width": null,
            "order": null,
            "_view_module_version": "1.2.0",
            "grid_template_areas": null,
            "object_position": null,
            "object_fit": null,
            "grid_auto_columns": null,
            "margin": null,
            "display": null,
            "left": null
          }
        },
        "4236444d58fb4407adbd664a0a1f6eef": {
          "model_module": "@jupyter-widgets/controls",
          "model_name": "HBoxModel",
          "state": {
            "_view_name": "HBoxView",
            "_dom_classes": [],
            "_model_name": "HBoxModel",
            "_view_module": "@jupyter-widgets/controls",
            "_model_module_version": "1.5.0",
            "_view_count": null,
            "_view_module_version": "1.5.0",
            "box_style": "",
            "layout": "IPY_MODEL_44faa4e91b4446cba381b79c611d802d",
            "_model_module": "@jupyter-widgets/controls",
            "children": [
              "IPY_MODEL_ea4bd7eff8b44a55ae4e9f36b4278a90",
              "IPY_MODEL_8ba0fc86927c48c6a8cd67100f6fe93c"
            ]
          }
        },
        "44faa4e91b4446cba381b79c611d802d": {
          "model_module": "@jupyter-widgets/base",
          "model_name": "LayoutModel",
          "state": {
            "_view_name": "LayoutView",
            "grid_template_rows": null,
            "right": null,
            "justify_content": null,
            "_view_module": "@jupyter-widgets/base",
            "overflow": null,
            "_model_module_version": "1.2.0",
            "_view_count": null,
            "flex_flow": null,
            "width": null,
            "min_width": null,
            "border": null,
            "align_items": null,
            "bottom": null,
            "_model_module": "@jupyter-widgets/base",
            "top": null,
            "grid_column": null,
            "overflow_y": null,
            "overflow_x": null,
            "grid_auto_flow": null,
            "grid_area": null,
            "grid_template_columns": null,
            "flex": null,
            "_model_name": "LayoutModel",
            "justify_items": null,
            "grid_row": null,
            "max_height": null,
            "align_content": null,
            "visibility": null,
            "align_self": null,
            "height": null,
            "min_height": null,
            "padding": null,
            "grid_auto_rows": null,
            "grid_gap": null,
            "max_width": null,
            "order": null,
            "_view_module_version": "1.2.0",
            "grid_template_areas": null,
            "object_position": null,
            "object_fit": null,
            "grid_auto_columns": null,
            "margin": null,
            "display": null,
            "left": null
          }
        },
        "ea4bd7eff8b44a55ae4e9f36b4278a90": {
          "model_module": "@jupyter-widgets/controls",
          "model_name": "IntProgressModel",
          "state": {
            "_view_name": "ProgressView",
            "style": "IPY_MODEL_58d456be4317474194caf0a7c0e37699",
            "_dom_classes": [],
            "description": "Downloading: 100%",
            "_model_name": "IntProgressModel",
            "bar_style": "success",
            "max": 440473133,
            "_view_module": "@jupyter-widgets/controls",
            "_model_module_version": "1.5.0",
            "value": 440473133,
            "_view_count": null,
            "_view_module_version": "1.5.0",
            "orientation": "horizontal",
            "min": 0,
            "description_tooltip": null,
            "_model_module": "@jupyter-widgets/controls",
            "layout": "IPY_MODEL_544133a195804ce68a5c026984ddd98e"
          }
        },
        "8ba0fc86927c48c6a8cd67100f6fe93c": {
          "model_module": "@jupyter-widgets/controls",
          "model_name": "HTMLModel",
          "state": {
            "_view_name": "HTMLView",
            "style": "IPY_MODEL_848aa3fbf4ba4ae9931449eceb774a03",
            "_dom_classes": [],
            "description": "",
            "_model_name": "HTMLModel",
            "placeholder": "​",
            "_view_module": "@jupyter-widgets/controls",
            "_model_module_version": "1.5.0",
            "value": " 440M/440M [00:14&lt;00:00, 30.5MB/s]",
            "_view_count": null,
            "_view_module_version": "1.5.0",
            "description_tooltip": null,
            "_model_module": "@jupyter-widgets/controls",
            "layout": "IPY_MODEL_824db2b8f7c54a0dbe98be171fc1546e"
          }
        },
        "58d456be4317474194caf0a7c0e37699": {
          "model_module": "@jupyter-widgets/controls",
          "model_name": "ProgressStyleModel",
          "state": {
            "_view_name": "StyleView",
            "_model_name": "ProgressStyleModel",
            "description_width": "initial",
            "_view_module": "@jupyter-widgets/base",
            "_model_module_version": "1.5.0",
            "_view_count": null,
            "_view_module_version": "1.2.0",
            "bar_color": null,
            "_model_module": "@jupyter-widgets/controls"
          }
        },
        "544133a195804ce68a5c026984ddd98e": {
          "model_module": "@jupyter-widgets/base",
          "model_name": "LayoutModel",
          "state": {
            "_view_name": "LayoutView",
            "grid_template_rows": null,
            "right": null,
            "justify_content": null,
            "_view_module": "@jupyter-widgets/base",
            "overflow": null,
            "_model_module_version": "1.2.0",
            "_view_count": null,
            "flex_flow": null,
            "width": null,
            "min_width": null,
            "border": null,
            "align_items": null,
            "bottom": null,
            "_model_module": "@jupyter-widgets/base",
            "top": null,
            "grid_column": null,
            "overflow_y": null,
            "overflow_x": null,
            "grid_auto_flow": null,
            "grid_area": null,
            "grid_template_columns": null,
            "flex": null,
            "_model_name": "LayoutModel",
            "justify_items": null,
            "grid_row": null,
            "max_height": null,
            "align_content": null,
            "visibility": null,
            "align_self": null,
            "height": null,
            "min_height": null,
            "padding": null,
            "grid_auto_rows": null,
            "grid_gap": null,
            "max_width": null,
            "order": null,
            "_view_module_version": "1.2.0",
            "grid_template_areas": null,
            "object_position": null,
            "object_fit": null,
            "grid_auto_columns": null,
            "margin": null,
            "display": null,
            "left": null
          }
        },
        "848aa3fbf4ba4ae9931449eceb774a03": {
          "model_module": "@jupyter-widgets/controls",
          "model_name": "DescriptionStyleModel",
          "state": {
            "_view_name": "StyleView",
            "_model_name": "DescriptionStyleModel",
            "description_width": "",
            "_view_module": "@jupyter-widgets/base",
            "_model_module_version": "1.5.0",
            "_view_count": null,
            "_view_module_version": "1.2.0",
            "_model_module": "@jupyter-widgets/controls"
          }
        },
        "824db2b8f7c54a0dbe98be171fc1546e": {
          "model_module": "@jupyter-widgets/base",
          "model_name": "LayoutModel",
          "state": {
            "_view_name": "LayoutView",
            "grid_template_rows": null,
            "right": null,
            "justify_content": null,
            "_view_module": "@jupyter-widgets/base",
            "overflow": null,
            "_model_module_version": "1.2.0",
            "_view_count": null,
            "flex_flow": null,
            "width": null,
            "min_width": null,
            "border": null,
            "align_items": null,
            "bottom": null,
            "_model_module": "@jupyter-widgets/base",
            "top": null,
            "grid_column": null,
            "overflow_y": null,
            "overflow_x": null,
            "grid_auto_flow": null,
            "grid_area": null,
            "grid_template_columns": null,
            "flex": null,
            "_model_name": "LayoutModel",
            "justify_items": null,
            "grid_row": null,
            "max_height": null,
            "align_content": null,
            "visibility": null,
            "align_self": null,
            "height": null,
            "min_height": null,
            "padding": null,
            "grid_auto_rows": null,
            "grid_gap": null,
            "max_width": null,
            "order": null,
            "_view_module_version": "1.2.0",
            "grid_template_areas": null,
            "object_position": null,
            "object_fit": null,
            "grid_auto_columns": null,
            "margin": null,
            "display": null,
            "left": null
          }
        },
        "f6a1d20ad0d8497ea5dc2774297f5724": {
          "model_module": "@jupyter-widgets/controls",
          "model_name": "HBoxModel",
          "state": {
            "_view_name": "HBoxView",
            "_dom_classes": [],
            "_model_name": "HBoxModel",
            "_view_module": "@jupyter-widgets/controls",
            "_model_module_version": "1.5.0",
            "_view_count": null,
            "_view_module_version": "1.5.0",
            "box_style": "",
            "layout": "IPY_MODEL_7698f1fffff64d32b439dc3959cf74cf",
            "_model_module": "@jupyter-widgets/controls",
            "children": [
              "IPY_MODEL_d06218c0eefb4b0b8789f5f1a4d317a7",
              "IPY_MODEL_4ba4f171e69e45b3b39b12f4bcc265d1"
            ]
          }
        },
        "7698f1fffff64d32b439dc3959cf74cf": {
          "model_module": "@jupyter-widgets/base",
          "model_name": "LayoutModel",
          "state": {
            "_view_name": "LayoutView",
            "grid_template_rows": null,
            "right": null,
            "justify_content": null,
            "_view_module": "@jupyter-widgets/base",
            "overflow": null,
            "_model_module_version": "1.2.0",
            "_view_count": null,
            "flex_flow": null,
            "width": null,
            "min_width": null,
            "border": null,
            "align_items": null,
            "bottom": null,
            "_model_module": "@jupyter-widgets/base",
            "top": null,
            "grid_column": null,
            "overflow_y": null,
            "overflow_x": null,
            "grid_auto_flow": null,
            "grid_area": null,
            "grid_template_columns": null,
            "flex": null,
            "_model_name": "LayoutModel",
            "justify_items": null,
            "grid_row": null,
            "max_height": null,
            "align_content": null,
            "visibility": null,
            "align_self": null,
            "height": null,
            "min_height": null,
            "padding": null,
            "grid_auto_rows": null,
            "grid_gap": null,
            "max_width": null,
            "order": null,
            "_view_module_version": "1.2.0",
            "grid_template_areas": null,
            "object_position": null,
            "object_fit": null,
            "grid_auto_columns": null,
            "margin": null,
            "display": null,
            "left": null
          }
        },
        "d06218c0eefb4b0b8789f5f1a4d317a7": {
          "model_module": "@jupyter-widgets/controls",
          "model_name": "IntProgressModel",
          "state": {
            "_view_name": "ProgressView",
            "style": "IPY_MODEL_529cd8ff0aeb4b9d8c2bb82b1430e1df",
            "_dom_classes": [],
            "description": "100%",
            "_model_name": "IntProgressModel",
            "bar_style": "success",
            "max": 9427,
            "_view_module": "@jupyter-widgets/controls",
            "_model_module_version": "1.5.0",
            "value": 9427,
            "_view_count": null,
            "_view_module_version": "1.5.0",
            "orientation": "horizontal",
            "min": 0,
            "description_tooltip": null,
            "_model_module": "@jupyter-widgets/controls",
            "layout": "IPY_MODEL_18366c830e0b4fa1ac6280be9c55338b"
          }
        },
        "4ba4f171e69e45b3b39b12f4bcc265d1": {
          "model_module": "@jupyter-widgets/controls",
          "model_name": "HTMLModel",
          "state": {
            "_view_name": "HTMLView",
            "style": "IPY_MODEL_deaf63843a6345339b47e70d56698707",
            "_dom_classes": [],
            "description": "",
            "_model_name": "HTMLModel",
            "placeholder": "​",
            "_view_module": "@jupyter-widgets/controls",
            "_model_module_version": "1.5.0",
            "value": " 9427/9427 [02:38&lt;00:00, 59.65it/s]",
            "_view_count": null,
            "_view_module_version": "1.5.0",
            "description_tooltip": null,
            "_model_module": "@jupyter-widgets/controls",
            "layout": "IPY_MODEL_ac790ff83015411cadf25ebf214c5bf1"
          }
        },
        "529cd8ff0aeb4b9d8c2bb82b1430e1df": {
          "model_module": "@jupyter-widgets/controls",
          "model_name": "ProgressStyleModel",
          "state": {
            "_view_name": "StyleView",
            "_model_name": "ProgressStyleModel",
            "description_width": "initial",
            "_view_module": "@jupyter-widgets/base",
            "_model_module_version": "1.5.0",
            "_view_count": null,
            "_view_module_version": "1.2.0",
            "bar_color": null,
            "_model_module": "@jupyter-widgets/controls"
          }
        },
        "18366c830e0b4fa1ac6280be9c55338b": {
          "model_module": "@jupyter-widgets/base",
          "model_name": "LayoutModel",
          "state": {
            "_view_name": "LayoutView",
            "grid_template_rows": null,
            "right": null,
            "justify_content": null,
            "_view_module": "@jupyter-widgets/base",
            "overflow": null,
            "_model_module_version": "1.2.0",
            "_view_count": null,
            "flex_flow": null,
            "width": null,
            "min_width": null,
            "border": null,
            "align_items": null,
            "bottom": null,
            "_model_module": "@jupyter-widgets/base",
            "top": null,
            "grid_column": null,
            "overflow_y": null,
            "overflow_x": null,
            "grid_auto_flow": null,
            "grid_area": null,
            "grid_template_columns": null,
            "flex": null,
            "_model_name": "LayoutModel",
            "justify_items": null,
            "grid_row": null,
            "max_height": null,
            "align_content": null,
            "visibility": null,
            "align_self": null,
            "height": null,
            "min_height": null,
            "padding": null,
            "grid_auto_rows": null,
            "grid_gap": null,
            "max_width": null,
            "order": null,
            "_view_module_version": "1.2.0",
            "grid_template_areas": null,
            "object_position": null,
            "object_fit": null,
            "grid_auto_columns": null,
            "margin": null,
            "display": null,
            "left": null
          }
        },
        "deaf63843a6345339b47e70d56698707": {
          "model_module": "@jupyter-widgets/controls",
          "model_name": "DescriptionStyleModel",
          "state": {
            "_view_name": "StyleView",
            "_model_name": "DescriptionStyleModel",
            "description_width": "",
            "_view_module": "@jupyter-widgets/base",
            "_model_module_version": "1.5.0",
            "_view_count": null,
            "_view_module_version": "1.2.0",
            "_model_module": "@jupyter-widgets/controls"
          }
        },
        "ac790ff83015411cadf25ebf214c5bf1": {
          "model_module": "@jupyter-widgets/base",
          "model_name": "LayoutModel",
          "state": {
            "_view_name": "LayoutView",
            "grid_template_rows": null,
            "right": null,
            "justify_content": null,
            "_view_module": "@jupyter-widgets/base",
            "overflow": null,
            "_model_module_version": "1.2.0",
            "_view_count": null,
            "flex_flow": null,
            "width": null,
            "min_width": null,
            "border": null,
            "align_items": null,
            "bottom": null,
            "_model_module": "@jupyter-widgets/base",
            "top": null,
            "grid_column": null,
            "overflow_y": null,
            "overflow_x": null,
            "grid_auto_flow": null,
            "grid_area": null,
            "grid_template_columns": null,
            "flex": null,
            "_model_name": "LayoutModel",
            "justify_items": null,
            "grid_row": null,
            "max_height": null,
            "align_content": null,
            "visibility": null,
            "align_self": null,
            "height": null,
            "min_height": null,
            "padding": null,
            "grid_auto_rows": null,
            "grid_gap": null,
            "max_width": null,
            "order": null,
            "_view_module_version": "1.2.0",
            "grid_template_areas": null,
            "object_position": null,
            "object_fit": null,
            "grid_auto_columns": null,
            "margin": null,
            "display": null,
            "left": null
          }
        },
        "1997df3f596641f19fac6b8049ea026a": {
          "model_module": "@jupyter-widgets/controls",
          "model_name": "HBoxModel",
          "state": {
            "_view_name": "HBoxView",
            "_dom_classes": [],
            "_model_name": "HBoxModel",
            "_view_module": "@jupyter-widgets/controls",
            "_model_module_version": "1.5.0",
            "_view_count": null,
            "_view_module_version": "1.5.0",
            "box_style": "",
            "layout": "IPY_MODEL_73246d4679e645029d1eb967ee0bbe5f",
            "_model_module": "@jupyter-widgets/controls",
            "children": [
              "IPY_MODEL_0cd2fcd2a1f444bda2f4a294a78664a1",
              "IPY_MODEL_8183342dde814bf28bbdb36998accaff"
            ]
          }
        },
        "73246d4679e645029d1eb967ee0bbe5f": {
          "model_module": "@jupyter-widgets/base",
          "model_name": "LayoutModel",
          "state": {
            "_view_name": "LayoutView",
            "grid_template_rows": null,
            "right": null,
            "justify_content": null,
            "_view_module": "@jupyter-widgets/base",
            "overflow": null,
            "_model_module_version": "1.2.0",
            "_view_count": null,
            "flex_flow": null,
            "width": null,
            "min_width": null,
            "border": null,
            "align_items": null,
            "bottom": null,
            "_model_module": "@jupyter-widgets/base",
            "top": null,
            "grid_column": null,
            "overflow_y": null,
            "overflow_x": null,
            "grid_auto_flow": null,
            "grid_area": null,
            "grid_template_columns": null,
            "flex": null,
            "_model_name": "LayoutModel",
            "justify_items": null,
            "grid_row": null,
            "max_height": null,
            "align_content": null,
            "visibility": null,
            "align_self": null,
            "height": null,
            "min_height": null,
            "padding": null,
            "grid_auto_rows": null,
            "grid_gap": null,
            "max_width": null,
            "order": null,
            "_view_module_version": "1.2.0",
            "grid_template_areas": null,
            "object_position": null,
            "object_fit": null,
            "grid_auto_columns": null,
            "margin": null,
            "display": null,
            "left": null
          }
        },
        "0cd2fcd2a1f444bda2f4a294a78664a1": {
          "model_module": "@jupyter-widgets/controls",
          "model_name": "IntProgressModel",
          "state": {
            "_view_name": "ProgressView",
            "style": "IPY_MODEL_3ac6088e84f040f09c551a60fb4616e7",
            "_dom_classes": [],
            "description": "100%",
            "_model_name": "IntProgressModel",
            "bar_style": "success",
            "max": 9427,
            "_view_module": "@jupyter-widgets/controls",
            "_model_module_version": "1.5.0",
            "value": 9427,
            "_view_count": null,
            "_view_module_version": "1.5.0",
            "orientation": "horizontal",
            "min": 0,
            "description_tooltip": null,
            "_model_module": "@jupyter-widgets/controls",
            "layout": "IPY_MODEL_709bf75a858f4003a1191015797a83b4"
          }
        },
        "8183342dde814bf28bbdb36998accaff": {
          "model_module": "@jupyter-widgets/controls",
          "model_name": "HTMLModel",
          "state": {
            "_view_name": "HTMLView",
            "style": "IPY_MODEL_21a1fe502fee4317815c20aadc943a4c",
            "_dom_classes": [],
            "description": "",
            "_model_name": "HTMLModel",
            "placeholder": "​",
            "_view_module": "@jupyter-widgets/controls",
            "_model_module_version": "1.5.0",
            "value": " 9427/9427 [04:43&lt;00:00, 33.24it/s]",
            "_view_count": null,
            "_view_module_version": "1.5.0",
            "description_tooltip": null,
            "_model_module": "@jupyter-widgets/controls",
            "layout": "IPY_MODEL_b08fd63282ac408c9ec290459494f011"
          }
        },
        "3ac6088e84f040f09c551a60fb4616e7": {
          "model_module": "@jupyter-widgets/controls",
          "model_name": "ProgressStyleModel",
          "state": {
            "_view_name": "StyleView",
            "_model_name": "ProgressStyleModel",
            "description_width": "initial",
            "_view_module": "@jupyter-widgets/base",
            "_model_module_version": "1.5.0",
            "_view_count": null,
            "_view_module_version": "1.2.0",
            "bar_color": null,
            "_model_module": "@jupyter-widgets/controls"
          }
        },
        "709bf75a858f4003a1191015797a83b4": {
          "model_module": "@jupyter-widgets/base",
          "model_name": "LayoutModel",
          "state": {
            "_view_name": "LayoutView",
            "grid_template_rows": null,
            "right": null,
            "justify_content": null,
            "_view_module": "@jupyter-widgets/base",
            "overflow": null,
            "_model_module_version": "1.2.0",
            "_view_count": null,
            "flex_flow": null,
            "width": null,
            "min_width": null,
            "border": null,
            "align_items": null,
            "bottom": null,
            "_model_module": "@jupyter-widgets/base",
            "top": null,
            "grid_column": null,
            "overflow_y": null,
            "overflow_x": null,
            "grid_auto_flow": null,
            "grid_area": null,
            "grid_template_columns": null,
            "flex": null,
            "_model_name": "LayoutModel",
            "justify_items": null,
            "grid_row": null,
            "max_height": null,
            "align_content": null,
            "visibility": null,
            "align_self": null,
            "height": null,
            "min_height": null,
            "padding": null,
            "grid_auto_rows": null,
            "grid_gap": null,
            "max_width": null,
            "order": null,
            "_view_module_version": "1.2.0",
            "grid_template_areas": null,
            "object_position": null,
            "object_fit": null,
            "grid_auto_columns": null,
            "margin": null,
            "display": null,
            "left": null
          }
        },
        "21a1fe502fee4317815c20aadc943a4c": {
          "model_module": "@jupyter-widgets/controls",
          "model_name": "DescriptionStyleModel",
          "state": {
            "_view_name": "StyleView",
            "_model_name": "DescriptionStyleModel",
            "description_width": "",
            "_view_module": "@jupyter-widgets/base",
            "_model_module_version": "1.5.0",
            "_view_count": null,
            "_view_module_version": "1.2.0",
            "_model_module": "@jupyter-widgets/controls"
          }
        },
        "b08fd63282ac408c9ec290459494f011": {
          "model_module": "@jupyter-widgets/base",
          "model_name": "LayoutModel",
          "state": {
            "_view_name": "LayoutView",
            "grid_template_rows": null,
            "right": null,
            "justify_content": null,
            "_view_module": "@jupyter-widgets/base",
            "overflow": null,
            "_model_module_version": "1.2.0",
            "_view_count": null,
            "flex_flow": null,
            "width": null,
            "min_width": null,
            "border": null,
            "align_items": null,
            "bottom": null,
            "_model_module": "@jupyter-widgets/base",
            "top": null,
            "grid_column": null,
            "overflow_y": null,
            "overflow_x": null,
            "grid_auto_flow": null,
            "grid_area": null,
            "grid_template_columns": null,
            "flex": null,
            "_model_name": "LayoutModel",
            "justify_items": null,
            "grid_row": null,
            "max_height": null,
            "align_content": null,
            "visibility": null,
            "align_self": null,
            "height": null,
            "min_height": null,
            "padding": null,
            "grid_auto_rows": null,
            "grid_gap": null,
            "max_width": null,
            "order": null,
            "_view_module_version": "1.2.0",
            "grid_template_areas": null,
            "object_position": null,
            "object_fit": null,
            "grid_auto_columns": null,
            "margin": null,
            "display": null,
            "left": null
          }
        },
        "3a1887d8943840ae8c5c6d5fde9df462": {
          "model_module": "@jupyter-widgets/controls",
          "model_name": "HBoxModel",
          "state": {
            "_view_name": "HBoxView",
            "_dom_classes": [],
            "_model_name": "HBoxModel",
            "_view_module": "@jupyter-widgets/controls",
            "_model_module_version": "1.5.0",
            "_view_count": null,
            "_view_module_version": "1.5.0",
            "box_style": "",
            "layout": "IPY_MODEL_c5be0cef458742e5a708794b20fae77e",
            "_model_module": "@jupyter-widgets/controls",
            "children": [
              "IPY_MODEL_1809c36173104c49957230f9ecd2e61b",
              "IPY_MODEL_a10eadc7f09c4c2e8371a5ef51d83252"
            ]
          }
        },
        "c5be0cef458742e5a708794b20fae77e": {
          "model_module": "@jupyter-widgets/base",
          "model_name": "LayoutModel",
          "state": {
            "_view_name": "LayoutView",
            "grid_template_rows": null,
            "right": null,
            "justify_content": null,
            "_view_module": "@jupyter-widgets/base",
            "overflow": null,
            "_model_module_version": "1.2.0",
            "_view_count": null,
            "flex_flow": null,
            "width": null,
            "min_width": null,
            "border": null,
            "align_items": null,
            "bottom": null,
            "_model_module": "@jupyter-widgets/base",
            "top": null,
            "grid_column": null,
            "overflow_y": null,
            "overflow_x": null,
            "grid_auto_flow": null,
            "grid_area": null,
            "grid_template_columns": null,
            "flex": null,
            "_model_name": "LayoutModel",
            "justify_items": null,
            "grid_row": null,
            "max_height": null,
            "align_content": null,
            "visibility": null,
            "align_self": null,
            "height": null,
            "min_height": null,
            "padding": null,
            "grid_auto_rows": null,
            "grid_gap": null,
            "max_width": null,
            "order": null,
            "_view_module_version": "1.2.0",
            "grid_template_areas": null,
            "object_position": null,
            "object_fit": null,
            "grid_auto_columns": null,
            "margin": null,
            "display": null,
            "left": null
          }
        },
        "1809c36173104c49957230f9ecd2e61b": {
          "model_module": "@jupyter-widgets/controls",
          "model_name": "IntProgressModel",
          "state": {
            "_view_name": "ProgressView",
            "style": "IPY_MODEL_8895532a440f4efa9655a85fa6c04174",
            "_dom_classes": [],
            "description": "100%",
            "_model_name": "IntProgressModel",
            "bar_style": "success",
            "max": 3270,
            "_view_module": "@jupyter-widgets/controls",
            "_model_module_version": "1.5.0",
            "value": 3270,
            "_view_count": null,
            "_view_module_version": "1.5.0",
            "orientation": "horizontal",
            "min": 0,
            "description_tooltip": null,
            "_model_module": "@jupyter-widgets/controls",
            "layout": "IPY_MODEL_6579b06780a141ba8809f1a14feb1489"
          }
        },
        "a10eadc7f09c4c2e8371a5ef51d83252": {
          "model_module": "@jupyter-widgets/controls",
          "model_name": "HTMLModel",
          "state": {
            "_view_name": "HTMLView",
            "style": "IPY_MODEL_f4c17755e6e4463895fd92f7d5aec8fb",
            "_dom_classes": [],
            "description": "",
            "_model_name": "HTMLModel",
            "placeholder": "​",
            "_view_module": "@jupyter-widgets/controls",
            "_model_module_version": "1.5.0",
            "value": " 3270/3270 [00:55&lt;00:00, 58.88it/s]",
            "_view_count": null,
            "_view_module_version": "1.5.0",
            "description_tooltip": null,
            "_model_module": "@jupyter-widgets/controls",
            "layout": "IPY_MODEL_f22d0fc558b14305840548d94ca2aea6"
          }
        },
        "8895532a440f4efa9655a85fa6c04174": {
          "model_module": "@jupyter-widgets/controls",
          "model_name": "ProgressStyleModel",
          "state": {
            "_view_name": "StyleView",
            "_model_name": "ProgressStyleModel",
            "description_width": "initial",
            "_view_module": "@jupyter-widgets/base",
            "_model_module_version": "1.5.0",
            "_view_count": null,
            "_view_module_version": "1.2.0",
            "bar_color": null,
            "_model_module": "@jupyter-widgets/controls"
          }
        },
        "6579b06780a141ba8809f1a14feb1489": {
          "model_module": "@jupyter-widgets/base",
          "model_name": "LayoutModel",
          "state": {
            "_view_name": "LayoutView",
            "grid_template_rows": null,
            "right": null,
            "justify_content": null,
            "_view_module": "@jupyter-widgets/base",
            "overflow": null,
            "_model_module_version": "1.2.0",
            "_view_count": null,
            "flex_flow": null,
            "width": null,
            "min_width": null,
            "border": null,
            "align_items": null,
            "bottom": null,
            "_model_module": "@jupyter-widgets/base",
            "top": null,
            "grid_column": null,
            "overflow_y": null,
            "overflow_x": null,
            "grid_auto_flow": null,
            "grid_area": null,
            "grid_template_columns": null,
            "flex": null,
            "_model_name": "LayoutModel",
            "justify_items": null,
            "grid_row": null,
            "max_height": null,
            "align_content": null,
            "visibility": null,
            "align_self": null,
            "height": null,
            "min_height": null,
            "padding": null,
            "grid_auto_rows": null,
            "grid_gap": null,
            "max_width": null,
            "order": null,
            "_view_module_version": "1.2.0",
            "grid_template_areas": null,
            "object_position": null,
            "object_fit": null,
            "grid_auto_columns": null,
            "margin": null,
            "display": null,
            "left": null
          }
        },
        "f4c17755e6e4463895fd92f7d5aec8fb": {
          "model_module": "@jupyter-widgets/controls",
          "model_name": "DescriptionStyleModel",
          "state": {
            "_view_name": "StyleView",
            "_model_name": "DescriptionStyleModel",
            "description_width": "",
            "_view_module": "@jupyter-widgets/base",
            "_model_module_version": "1.5.0",
            "_view_count": null,
            "_view_module_version": "1.2.0",
            "_model_module": "@jupyter-widgets/controls"
          }
        },
        "f22d0fc558b14305840548d94ca2aea6": {
          "model_module": "@jupyter-widgets/base",
          "model_name": "LayoutModel",
          "state": {
            "_view_name": "LayoutView",
            "grid_template_rows": null,
            "right": null,
            "justify_content": null,
            "_view_module": "@jupyter-widgets/base",
            "overflow": null,
            "_model_module_version": "1.2.0",
            "_view_count": null,
            "flex_flow": null,
            "width": null,
            "min_width": null,
            "border": null,
            "align_items": null,
            "bottom": null,
            "_model_module": "@jupyter-widgets/base",
            "top": null,
            "grid_column": null,
            "overflow_y": null,
            "overflow_x": null,
            "grid_auto_flow": null,
            "grid_area": null,
            "grid_template_columns": null,
            "flex": null,
            "_model_name": "LayoutModel",
            "justify_items": null,
            "grid_row": null,
            "max_height": null,
            "align_content": null,
            "visibility": null,
            "align_self": null,
            "height": null,
            "min_height": null,
            "padding": null,
            "grid_auto_rows": null,
            "grid_gap": null,
            "max_width": null,
            "order": null,
            "_view_module_version": "1.2.0",
            "grid_template_areas": null,
            "object_position": null,
            "object_fit": null,
            "grid_auto_columns": null,
            "margin": null,
            "display": null,
            "left": null
          }
        },
        "4e9889697feb4852bfd8dde5f3ae8efd": {
          "model_module": "@jupyter-widgets/controls",
          "model_name": "HBoxModel",
          "state": {
            "_view_name": "HBoxView",
            "_dom_classes": [],
            "_model_name": "HBoxModel",
            "_view_module": "@jupyter-widgets/controls",
            "_model_module_version": "1.5.0",
            "_view_count": null,
            "_view_module_version": "1.5.0",
            "box_style": "",
            "layout": "IPY_MODEL_6ebdf6b6f52c45e18fe1153a9ffc2c4e",
            "_model_module": "@jupyter-widgets/controls",
            "children": [
              "IPY_MODEL_53a9b459271e430c9f7d05d2132d3c2b",
              "IPY_MODEL_b3306d06980c460d94338a67619fb29e"
            ]
          }
        },
        "6ebdf6b6f52c45e18fe1153a9ffc2c4e": {
          "model_module": "@jupyter-widgets/base",
          "model_name": "LayoutModel",
          "state": {
            "_view_name": "LayoutView",
            "grid_template_rows": null,
            "right": null,
            "justify_content": null,
            "_view_module": "@jupyter-widgets/base",
            "overflow": null,
            "_model_module_version": "1.2.0",
            "_view_count": null,
            "flex_flow": null,
            "width": null,
            "min_width": null,
            "border": null,
            "align_items": null,
            "bottom": null,
            "_model_module": "@jupyter-widgets/base",
            "top": null,
            "grid_column": null,
            "overflow_y": null,
            "overflow_x": null,
            "grid_auto_flow": null,
            "grid_area": null,
            "grid_template_columns": null,
            "flex": null,
            "_model_name": "LayoutModel",
            "justify_items": null,
            "grid_row": null,
            "max_height": null,
            "align_content": null,
            "visibility": null,
            "align_self": null,
            "height": null,
            "min_height": null,
            "padding": null,
            "grid_auto_rows": null,
            "grid_gap": null,
            "max_width": null,
            "order": null,
            "_view_module_version": "1.2.0",
            "grid_template_areas": null,
            "object_position": null,
            "object_fit": null,
            "grid_auto_columns": null,
            "margin": null,
            "display": null,
            "left": null
          }
        },
        "53a9b459271e430c9f7d05d2132d3c2b": {
          "model_module": "@jupyter-widgets/controls",
          "model_name": "IntProgressModel",
          "state": {
            "_view_name": "ProgressView",
            "style": "IPY_MODEL_00fcd91089e843898d59ecd0144a4a5b",
            "_dom_classes": [],
            "description": "100%",
            "_model_name": "IntProgressModel",
            "bar_style": "success",
            "max": 3270,
            "_view_module": "@jupyter-widgets/controls",
            "_model_module_version": "1.5.0",
            "value": 3270,
            "_view_count": null,
            "_view_module_version": "1.5.0",
            "orientation": "horizontal",
            "min": 0,
            "description_tooltip": null,
            "_model_module": "@jupyter-widgets/controls",
            "layout": "IPY_MODEL_24ef8c6b15e944429c4354d3ad278d91"
          }
        },
        "b3306d06980c460d94338a67619fb29e": {
          "model_module": "@jupyter-widgets/controls",
          "model_name": "HTMLModel",
          "state": {
            "_view_name": "HTMLView",
            "style": "IPY_MODEL_cae11ce289804330959e1113f4fb6700",
            "_dom_classes": [],
            "description": "",
            "_model_name": "HTMLModel",
            "placeholder": "​",
            "_view_module": "@jupyter-widgets/controls",
            "_model_module_version": "1.5.0",
            "value": " 3270/3270 [01:18&lt;00:00, 41.52it/s]",
            "_view_count": null,
            "_view_module_version": "1.5.0",
            "description_tooltip": null,
            "_model_module": "@jupyter-widgets/controls",
            "layout": "IPY_MODEL_3c5824503ef14ee484e634cd05f40aef"
          }
        },
        "00fcd91089e843898d59ecd0144a4a5b": {
          "model_module": "@jupyter-widgets/controls",
          "model_name": "ProgressStyleModel",
          "state": {
            "_view_name": "StyleView",
            "_model_name": "ProgressStyleModel",
            "description_width": "initial",
            "_view_module": "@jupyter-widgets/base",
            "_model_module_version": "1.5.0",
            "_view_count": null,
            "_view_module_version": "1.2.0",
            "bar_color": null,
            "_model_module": "@jupyter-widgets/controls"
          }
        },
        "24ef8c6b15e944429c4354d3ad278d91": {
          "model_module": "@jupyter-widgets/base",
          "model_name": "LayoutModel",
          "state": {
            "_view_name": "LayoutView",
            "grid_template_rows": null,
            "right": null,
            "justify_content": null,
            "_view_module": "@jupyter-widgets/base",
            "overflow": null,
            "_model_module_version": "1.2.0",
            "_view_count": null,
            "flex_flow": null,
            "width": null,
            "min_width": null,
            "border": null,
            "align_items": null,
            "bottom": null,
            "_model_module": "@jupyter-widgets/base",
            "top": null,
            "grid_column": null,
            "overflow_y": null,
            "overflow_x": null,
            "grid_auto_flow": null,
            "grid_area": null,
            "grid_template_columns": null,
            "flex": null,
            "_model_name": "LayoutModel",
            "justify_items": null,
            "grid_row": null,
            "max_height": null,
            "align_content": null,
            "visibility": null,
            "align_self": null,
            "height": null,
            "min_height": null,
            "padding": null,
            "grid_auto_rows": null,
            "grid_gap": null,
            "max_width": null,
            "order": null,
            "_view_module_version": "1.2.0",
            "grid_template_areas": null,
            "object_position": null,
            "object_fit": null,
            "grid_auto_columns": null,
            "margin": null,
            "display": null,
            "left": null
          }
        },
        "cae11ce289804330959e1113f4fb6700": {
          "model_module": "@jupyter-widgets/controls",
          "model_name": "DescriptionStyleModel",
          "state": {
            "_view_name": "StyleView",
            "_model_name": "DescriptionStyleModel",
            "description_width": "",
            "_view_module": "@jupyter-widgets/base",
            "_model_module_version": "1.5.0",
            "_view_count": null,
            "_view_module_version": "1.2.0",
            "_model_module": "@jupyter-widgets/controls"
          }
        },
        "3c5824503ef14ee484e634cd05f40aef": {
          "model_module": "@jupyter-widgets/base",
          "model_name": "LayoutModel",
          "state": {
            "_view_name": "LayoutView",
            "grid_template_rows": null,
            "right": null,
            "justify_content": null,
            "_view_module": "@jupyter-widgets/base",
            "overflow": null,
            "_model_module_version": "1.2.0",
            "_view_count": null,
            "flex_flow": null,
            "width": null,
            "min_width": null,
            "border": null,
            "align_items": null,
            "bottom": null,
            "_model_module": "@jupyter-widgets/base",
            "top": null,
            "grid_column": null,
            "overflow_y": null,
            "overflow_x": null,
            "grid_auto_flow": null,
            "grid_area": null,
            "grid_template_columns": null,
            "flex": null,
            "_model_name": "LayoutModel",
            "justify_items": null,
            "grid_row": null,
            "max_height": null,
            "align_content": null,
            "visibility": null,
            "align_self": null,
            "height": null,
            "min_height": null,
            "padding": null,
            "grid_auto_rows": null,
            "grid_gap": null,
            "max_width": null,
            "order": null,
            "_view_module_version": "1.2.0",
            "grid_template_areas": null,
            "object_position": null,
            "object_fit": null,
            "grid_auto_columns": null,
            "margin": null,
            "display": null,
            "left": null
          }
        }
      }
    }
  },
  "cells": [
    {
      "cell_type": "markdown",
      "metadata": {
        "id": "Hyk2vRT_8rGb",
        "colab_type": "text"
      },
      "source": [
        "# Отчёт по домашнему заданию"
      ]
    },
    {
      "cell_type": "markdown",
      "metadata": {
        "id": "7cCUqt-0-kkZ",
        "colab_type": "text"
      },
      "source": [
        "## Setup"
      ]
    },
    {
      "cell_type": "code",
      "metadata": {
        "id": "9vB534oz9rm6",
        "colab_type": "code",
        "outputId": "46de2686-0656-4077-a5f2-20379ade5c23",
        "colab": {
          "base_uri": "https://localhost:8080/",
          "height": 124
        }
      },
      "source": [
        "from google.colab import drive\n",
        "drive.mount('/content/gdrive')"
      ],
      "execution_count": 1,
      "outputs": [
        {
          "output_type": "stream",
          "text": [
            "Go to this URL in a browser: https://accounts.google.com/o/oauth2/auth?client_id=947318989803-6bn6qk8qdgf4n4g3pfee6491hc0brc4i.apps.googleusercontent.com&redirect_uri=urn%3aietf%3awg%3aoauth%3a2.0%3aoob&response_type=code&scope=email%20https%3a%2f%2fwww.googleapis.com%2fauth%2fdocs.test%20https%3a%2f%2fwww.googleapis.com%2fauth%2fdrive%20https%3a%2f%2fwww.googleapis.com%2fauth%2fdrive.photos.readonly%20https%3a%2f%2fwww.googleapis.com%2fauth%2fpeopleapi.readonly\n",
            "\n",
            "Enter your authorization code:\n",
            "··········\n",
            "Mounted at /content/gdrive\n"
          ],
          "name": "stdout"
        }
      ]
    },
    {
      "cell_type": "code",
      "metadata": {
        "id": "ba9K8Kp59xhX",
        "colab_type": "code",
        "colab": {
          "base_uri": "https://localhost:8080/",
          "height": 1000
        },
        "outputId": "e3422292-c78a-4300-ffc3-f6ed05edb1ed"
      },
      "source": [
        "!cp /content/gdrive/My\\ Drive/abbyy-nlp/train.jsonl /content\n",
        "!cp /content/gdrive/My\\ Drive/abbyy-nlp/dev.jsonl /content\n",
        "!cp /content/gdrive/My\\ Drive/abbyy-nlp/wiki.en.zip /content\n",
        "!unzip wiki.en.zip\n",
        "!rm wiki.en.zip\n",
        "!rm wiki.en.vec\n",
        "\n",
        "!pip install gensim\n",
        "!pip install transformers\n",
        "!pip install nltk\n",
        "!pip install spacy"
      ],
      "execution_count": 2,
      "outputs": [
        {
          "output_type": "stream",
          "text": [
            "Archive:  wiki.en.zip\n",
            "  inflating: wiki.en.vec             \n",
            "  inflating: wiki.en.bin             \n",
            "Requirement already satisfied: gensim in /usr/local/lib/python3.6/dist-packages (3.6.0)\n",
            "Requirement already satisfied: smart-open>=1.2.1 in /usr/local/lib/python3.6/dist-packages (from gensim) (2.0.0)\n",
            "Requirement already satisfied: numpy>=1.11.3 in /usr/local/lib/python3.6/dist-packages (from gensim) (1.18.3)\n",
            "Requirement already satisfied: six>=1.5.0 in /usr/local/lib/python3.6/dist-packages (from gensim) (1.12.0)\n",
            "Requirement already satisfied: scipy>=0.18.1 in /usr/local/lib/python3.6/dist-packages (from gensim) (1.4.1)\n",
            "Requirement already satisfied: boto in /usr/local/lib/python3.6/dist-packages (from smart-open>=1.2.1->gensim) (2.49.0)\n",
            "Requirement already satisfied: requests in /usr/local/lib/python3.6/dist-packages (from smart-open>=1.2.1->gensim) (2.23.0)\n",
            "Requirement already satisfied: boto3 in /usr/local/lib/python3.6/dist-packages (from smart-open>=1.2.1->gensim) (1.13.1)\n",
            "Requirement already satisfied: certifi>=2017.4.17 in /usr/local/lib/python3.6/dist-packages (from requests->smart-open>=1.2.1->gensim) (2020.4.5.1)\n",
            "Requirement already satisfied: chardet<4,>=3.0.2 in /usr/local/lib/python3.6/dist-packages (from requests->smart-open>=1.2.1->gensim) (3.0.4)\n",
            "Requirement already satisfied: urllib3!=1.25.0,!=1.25.1,<1.26,>=1.21.1 in /usr/local/lib/python3.6/dist-packages (from requests->smart-open>=1.2.1->gensim) (1.24.3)\n",
            "Requirement already satisfied: idna<3,>=2.5 in /usr/local/lib/python3.6/dist-packages (from requests->smart-open>=1.2.1->gensim) (2.9)\n",
            "Requirement already satisfied: s3transfer<0.4.0,>=0.3.0 in /usr/local/lib/python3.6/dist-packages (from boto3->smart-open>=1.2.1->gensim) (0.3.3)\n",
            "Requirement already satisfied: jmespath<1.0.0,>=0.7.1 in /usr/local/lib/python3.6/dist-packages (from boto3->smart-open>=1.2.1->gensim) (0.9.5)\n",
            "Requirement already satisfied: botocore<1.17.0,>=1.16.1 in /usr/local/lib/python3.6/dist-packages (from boto3->smart-open>=1.2.1->gensim) (1.16.1)\n",
            "Requirement already satisfied: python-dateutil<3.0.0,>=2.1 in /usr/local/lib/python3.6/dist-packages (from botocore<1.17.0,>=1.16.1->boto3->smart-open>=1.2.1->gensim) (2.8.1)\n",
            "Requirement already satisfied: docutils<0.16,>=0.10 in /usr/local/lib/python3.6/dist-packages (from botocore<1.17.0,>=1.16.1->boto3->smart-open>=1.2.1->gensim) (0.15.2)\n",
            "Collecting transformers\n",
            "\u001b[?25l  Downloading https://files.pythonhosted.org/packages/a3/78/92cedda05552398352ed9784908b834ee32a0bd071a9b32de287327370b7/transformers-2.8.0-py3-none-any.whl (563kB)\n",
            "\u001b[K     |████████████████████████████████| 573kB 6.5MB/s \n",
            "\u001b[?25hRequirement already satisfied: numpy in /usr/local/lib/python3.6/dist-packages (from transformers) (1.18.3)\n",
            "Requirement already satisfied: tqdm>=4.27 in /usr/local/lib/python3.6/dist-packages (from transformers) (4.38.0)\n",
            "Requirement already satisfied: filelock in /usr/local/lib/python3.6/dist-packages (from transformers) (3.0.12)\n",
            "Requirement already satisfied: regex!=2019.12.17 in /usr/local/lib/python3.6/dist-packages (from transformers) (2019.12.20)\n",
            "Collecting sacremoses\n",
            "\u001b[?25l  Downloading https://files.pythonhosted.org/packages/7d/34/09d19aff26edcc8eb2a01bed8e98f13a1537005d31e95233fd48216eed10/sacremoses-0.0.43.tar.gz (883kB)\n",
            "\u001b[K     |████████████████████████████████| 890kB 35.5MB/s \n",
            "\u001b[?25hRequirement already satisfied: requests in /usr/local/lib/python3.6/dist-packages (from transformers) (2.23.0)\n",
            "Collecting sentencepiece\n",
            "\u001b[?25l  Downloading https://files.pythonhosted.org/packages/98/2c/8df20f3ac6c22ac224fff307ebc102818206c53fc454ecd37d8ac2060df5/sentencepiece-0.1.86-cp36-cp36m-manylinux1_x86_64.whl (1.0MB)\n",
            "\u001b[K     |████████████████████████████████| 1.0MB 26.0MB/s \n",
            "\u001b[?25hRequirement already satisfied: boto3 in /usr/local/lib/python3.6/dist-packages (from transformers) (1.13.1)\n",
            "Requirement already satisfied: dataclasses; python_version < \"3.7\" in /usr/local/lib/python3.6/dist-packages (from transformers) (0.7)\n",
            "Collecting tokenizers==0.5.2\n",
            "\u001b[?25l  Downloading https://files.pythonhosted.org/packages/d1/3f/73c881ea4723e43c1e9acf317cf407fab3a278daab3a69c98dcac511c04f/tokenizers-0.5.2-cp36-cp36m-manylinux1_x86_64.whl (3.7MB)\n",
            "\u001b[K     |████████████████████████████████| 3.7MB 39.7MB/s \n",
            "\u001b[?25hRequirement already satisfied: six in /usr/local/lib/python3.6/dist-packages (from sacremoses->transformers) (1.12.0)\n",
            "Requirement already satisfied: click in /usr/local/lib/python3.6/dist-packages (from sacremoses->transformers) (7.1.2)\n",
            "Requirement already satisfied: joblib in /usr/local/lib/python3.6/dist-packages (from sacremoses->transformers) (0.14.1)\n",
            "Requirement already satisfied: chardet<4,>=3.0.2 in /usr/local/lib/python3.6/dist-packages (from requests->transformers) (3.0.4)\n",
            "Requirement already satisfied: urllib3!=1.25.0,!=1.25.1,<1.26,>=1.21.1 in /usr/local/lib/python3.6/dist-packages (from requests->transformers) (1.24.3)\n",
            "Requirement already satisfied: idna<3,>=2.5 in /usr/local/lib/python3.6/dist-packages (from requests->transformers) (2.9)\n",
            "Requirement already satisfied: certifi>=2017.4.17 in /usr/local/lib/python3.6/dist-packages (from requests->transformers) (2020.4.5.1)\n",
            "Requirement already satisfied: botocore<1.17.0,>=1.16.1 in /usr/local/lib/python3.6/dist-packages (from boto3->transformers) (1.16.1)\n",
            "Requirement already satisfied: jmespath<1.0.0,>=0.7.1 in /usr/local/lib/python3.6/dist-packages (from boto3->transformers) (0.9.5)\n",
            "Requirement already satisfied: s3transfer<0.4.0,>=0.3.0 in /usr/local/lib/python3.6/dist-packages (from boto3->transformers) (0.3.3)\n",
            "Requirement already satisfied: python-dateutil<3.0.0,>=2.1 in /usr/local/lib/python3.6/dist-packages (from botocore<1.17.0,>=1.16.1->boto3->transformers) (2.8.1)\n",
            "Requirement already satisfied: docutils<0.16,>=0.10 in /usr/local/lib/python3.6/dist-packages (from botocore<1.17.0,>=1.16.1->boto3->transformers) (0.15.2)\n",
            "Building wheels for collected packages: sacremoses\n",
            "  Building wheel for sacremoses (setup.py) ... \u001b[?25l\u001b[?25hdone\n",
            "  Created wheel for sacremoses: filename=sacremoses-0.0.43-cp36-none-any.whl size=893260 sha256=2259704614dd711b30ae8d5df2795e8fdc9165cbc4fefca750b5d31af4e764ad\n",
            "  Stored in directory: /root/.cache/pip/wheels/29/3c/fd/7ce5c3f0666dab31a50123635e6fb5e19ceb42ce38d4e58f45\n",
            "Successfully built sacremoses\n",
            "Installing collected packages: sacremoses, sentencepiece, tokenizers, transformers\n",
            "Successfully installed sacremoses-0.0.43 sentencepiece-0.1.86 tokenizers-0.5.2 transformers-2.8.0\n",
            "Requirement already satisfied: nltk in /usr/local/lib/python3.6/dist-packages (3.2.5)\n",
            "Requirement already satisfied: six in /usr/local/lib/python3.6/dist-packages (from nltk) (1.12.0)\n",
            "Requirement already satisfied: spacy in /usr/local/lib/python3.6/dist-packages (2.2.4)\n",
            "Requirement already satisfied: blis<0.5.0,>=0.4.0 in /usr/local/lib/python3.6/dist-packages (from spacy) (0.4.1)\n",
            "Requirement already satisfied: requests<3.0.0,>=2.13.0 in /usr/local/lib/python3.6/dist-packages (from spacy) (2.23.0)\n",
            "Requirement already satisfied: thinc==7.4.0 in /usr/local/lib/python3.6/dist-packages (from spacy) (7.4.0)\n",
            "Requirement already satisfied: setuptools in /usr/local/lib/python3.6/dist-packages (from spacy) (46.1.3)\n",
            "Requirement already satisfied: plac<1.2.0,>=0.9.6 in /usr/local/lib/python3.6/dist-packages (from spacy) (1.1.3)\n",
            "Requirement already satisfied: murmurhash<1.1.0,>=0.28.0 in /usr/local/lib/python3.6/dist-packages (from spacy) (1.0.2)\n",
            "Requirement already satisfied: wasabi<1.1.0,>=0.4.0 in /usr/local/lib/python3.6/dist-packages (from spacy) (0.6.0)\n",
            "Requirement already satisfied: preshed<3.1.0,>=3.0.2 in /usr/local/lib/python3.6/dist-packages (from spacy) (3.0.2)\n",
            "Requirement already satisfied: catalogue<1.1.0,>=0.0.7 in /usr/local/lib/python3.6/dist-packages (from spacy) (1.0.0)\n",
            "Requirement already satisfied: numpy>=1.15.0 in /usr/local/lib/python3.6/dist-packages (from spacy) (1.18.3)\n",
            "Requirement already satisfied: tqdm<5.0.0,>=4.38.0 in /usr/local/lib/python3.6/dist-packages (from spacy) (4.38.0)\n",
            "Requirement already satisfied: cymem<2.1.0,>=2.0.2 in /usr/local/lib/python3.6/dist-packages (from spacy) (2.0.3)\n",
            "Requirement already satisfied: srsly<1.1.0,>=1.0.2 in /usr/local/lib/python3.6/dist-packages (from spacy) (1.0.2)\n",
            "Requirement already satisfied: idna<3,>=2.5 in /usr/local/lib/python3.6/dist-packages (from requests<3.0.0,>=2.13.0->spacy) (2.9)\n",
            "Requirement already satisfied: urllib3!=1.25.0,!=1.25.1,<1.26,>=1.21.1 in /usr/local/lib/python3.6/dist-packages (from requests<3.0.0,>=2.13.0->spacy) (1.24.3)\n",
            "Requirement already satisfied: chardet<4,>=3.0.2 in /usr/local/lib/python3.6/dist-packages (from requests<3.0.0,>=2.13.0->spacy) (3.0.4)\n",
            "Requirement already satisfied: certifi>=2017.4.17 in /usr/local/lib/python3.6/dist-packages (from requests<3.0.0,>=2.13.0->spacy) (2020.4.5.1)\n",
            "Requirement already satisfied: importlib-metadata>=0.20; python_version < \"3.8\" in /usr/local/lib/python3.6/dist-packages (from catalogue<1.1.0,>=0.0.7->spacy) (1.6.0)\n",
            "Requirement already satisfied: zipp>=0.5 in /usr/local/lib/python3.6/dist-packages (from importlib-metadata>=0.20; python_version < \"3.8\"->catalogue<1.1.0,>=0.0.7->spacy) (3.1.0)\n"
          ],
          "name": "stdout"
        }
      ]
    },
    {
      "cell_type": "markdown",
      "metadata": {
        "id": "bS95jZvZ-vMz",
        "colab_type": "text"
      },
      "source": [
        "### Load dataset"
      ]
    },
    {
      "cell_type": "code",
      "metadata": {
        "id": "AiHwkxFt8qgj",
        "colab_type": "code",
        "colab": {}
      },
      "source": [
        "from pprint import pprint\n",
        "import json\n",
        "\n",
        "with open(\"train.jsonl\", ) as reader:\n",
        "    train_dataset = list(map(json.loads, reader))\n",
        "\n",
        "with open(\"dev.jsonl\", ) as reader:\n",
        "    dev_dataset = list(map(json.loads, reader))\n"
      ],
      "execution_count": 0,
      "outputs": []
    },
    {
      "cell_type": "code",
      "metadata": {
        "id": "BHJRa9k-xken",
        "colab_type": "code",
        "outputId": "146df40c-5fd0-42b9-e49c-05d650406b5a",
        "colab": {
          "base_uri": "https://localhost:8080/",
          "height": 903
        }
      },
      "source": [
        "from random import randint\n",
        "\n",
        "n_samples = 2\n",
        "print(\"Примеры из обучающей выборки: \\n\")\n",
        "_ = [pprint(train_dataset[randint(0, len(train_dataset)-1)]) for _ in range(n_samples)]\n",
        "print(\"\\n\", \"=\"*50, \"\\n\")\n",
        "print(\"Примеры из тестовой выборки: \\n\")\n",
        "_ = [pprint(dev_dataset[randint(0, len(dev_dataset)-1)]) for _ in range(n_samples)]"
      ],
      "execution_count": 4,
      "outputs": [
        {
          "output_type": "stream",
          "text": [
            "Примеры из обучающей выборки: \n",
            "\n",
            "{'answer': True,\n",
            " 'passage': 'This is a list of all penalty shoot-outs that have occurred in '\n",
            "            'the Finals tournament of the FIFA World Cup. Penalty shoot-outs '\n",
            "            'were introduced as tie-breakers in the 1978 World Cup but did not '\n",
            "            'occur before 1982. The first time a World Cup title was won by '\n",
            "            'penalty shoot-out was in 1994. The only other time was in 2006. '\n",
            "            'By the end of the 2018 edition, 30 shoot-outs have taken place in '\n",
            "            'the World Cup. Of these, only two reached the sudden death stage '\n",
            "            \"after still being tied at the end of ``best of five kicks''.\",\n",
            " 'question': 'does the world cup final go to penalties',\n",
            " 'title': 'List of FIFA World Cup penalty shoot-outs'}\n",
            "{'answer': True,\n",
            " 'passage': 'Clobetasol propionate /kloʊˈbeɪtəsɒl/ is a corticosteroid of the '\n",
            "            'glucocorticoid class used to treat various skin disorders '\n",
            "            'including eczema and psoriasis. It is also highly effective for '\n",
            "            'contact dermatitis caused by exposure to poison ivy/oak. '\n",
            "            'Clobetasol belongs to US Class I (Europe: class IV) of the '\n",
            "            'corticosteroids, making it one of the most potent available. It '\n",
            "            'comes in shampoo, mousse, ointment and emollient cream '\n",
            "            'presentations. It has very high potency and typically should not '\n",
            "            'be used with occlusive dressings, or for extended continuous use '\n",
            "            '(beyond two weeks). It is also used to treat several autoimmune '\n",
            "            'diseases including alopecia areata, lichen sclerosus, and lichen '\n",
            "            'planus.',\n",
            " 'question': 'is clobetasol propionate cream good for poison ivy',\n",
            " 'title': 'Clobetasol propionate'}\n",
            "\n",
            " ================================================== \n",
            "\n",
            "Примеры из тестовой выборки: \n",
            "\n",
            "{'answer': False,\n",
            " 'passage': 'In mathematics, and more specifically set theory, the empty set '\n",
            "            'or null set is the unique set having no elements; its size or '\n",
            "            'cardinality (count of elements in a set) is zero. Some axiomatic '\n",
            "            'set theories ensure that the empty set exists by including an '\n",
            "            'axiom of empty set; in other theories, its existence can be '\n",
            "            'deduced. Many possible properties of sets are vacuously true for '\n",
            "            'the empty set.',\n",
            " 'question': 'is the empty set an element of the set containing the empty set',\n",
            " 'title': 'Empty set'}\n",
            "{'answer': True,\n",
            " 'passage': 'The Kissing Booth is a 2018 American romantic comedy film '\n",
            "            'directed by Vince Marcello, based on the novel of the same name '\n",
            "            'by Beth Reekles. It stars Molly Ringwald, Joey King, Jacob Elordi '\n",
            "            'and Joel Courtney. The film was released on May 11, 2018 on '\n",
            "            'Netflix.',\n",
            " 'question': 'is the movie the kissing booth on netflix',\n",
            " 'title': 'The Kissing Booth'}\n"
          ],
          "name": "stdout"
        }
      ]
    },
    {
      "cell_type": "markdown",
      "metadata": {
        "id": "_G9Wfo3Q-7Po",
        "colab_type": "text"
      },
      "source": [
        "# Часть 1. [1 балл] Эксплоративный анализ"
      ]
    },
    {
      "cell_type": "markdown",
      "metadata": {
        "id": "4DpEdWY6_gRZ",
        "colab_type": "text"
      },
      "source": [
        "## 1.1 Доля yes и no классов в корпусе"
      ]
    },
    {
      "cell_type": "code",
      "metadata": {
        "id": "mOmrzmJT-wz5",
        "colab_type": "code",
        "outputId": "5a48fb5e-be67-4366-e5fd-c31c8b446cc8",
        "colab": {
          "base_uri": "https://localhost:8080/",
          "height": 121
        }
      },
      "source": [
        "get_yes_ratio = lambda ds: sum(map(lambda x: x['answer'], ds)) / len(ds)\n",
        "\n",
        "print(\"Обучающая выборка\")\n",
        "print(\"\\t yes:\", get_yes_ratio(train_dataset))\n",
        "print(f\"\\t no:\", 1 - get_yes_ratio(train_dataset))\n",
        "\n",
        "print(\"Тестовая выборка\")\n",
        "print(f\"\\t yes:\", get_yes_ratio(dev_dataset))\n",
        "print(f\"\\t no:\", 1 - get_yes_ratio(dev_dataset))"
      ],
      "execution_count": 5,
      "outputs": [
        {
          "output_type": "stream",
          "text": [
            "Обучающая выборка\n",
            "\t yes: 0.6231038506417736\n",
            "\t no: 0.37689614935822635\n",
            "Тестовая выборка\n",
            "\t yes: 0.6217125382262997\n",
            "\t no: 0.3782874617737003\n"
          ],
          "name": "stdout"
        }
      ]
    },
    {
      "cell_type": "markdown",
      "metadata": {
        "id": "LWCu48piBJBN",
        "colab_type": "text"
      },
      "source": [
        "## 1.2-3 Средняя длина вопроса и параграфа"
      ]
    },
    {
      "cell_type": "code",
      "metadata": {
        "id": "HUFAgLDiBEPW",
        "colab_type": "code",
        "outputId": "070ce4cc-debe-4f97-b4d1-d41e2aec210a",
        "colab": {
          "base_uri": "https://localhost:8080/",
          "height": 260
        }
      },
      "source": [
        "from nltk.tokenize import TweetTokenizer\n",
        "\n",
        "tokenizer = TweetTokenizer()\n",
        "get_word_count = lambda paragraph, field: len(tokenizer.tokenize(paragraph[field]))\n",
        "get_avg_word_count = lambda ds, field: sum(map(lambda x: get_word_count(x, field), ds)) / len(ds)\n",
        "get_avg_char_count = lambda ds, field: sum(map(lambda x: len(x[field]), ds)) / len(ds)\n",
        "\n",
        "print(\"Средняя длина вопроса:\")\n",
        "print(\"\\t в обучающей выборке:\")\n",
        "print(\"\\t\\t word:\", get_avg_word_count(train_dataset, 'question'))\n",
        "print(\"\\t\\t char:\", get_avg_char_count(train_dataset, 'question'))\n",
        "\n",
        "print(\"\\t в тестовой выборке:\")\n",
        "print(\"\\t\\t word:\", get_avg_word_count(dev_dataset, 'question'))\n",
        "print(\"\\t\\t char:\", get_avg_char_count(dev_dataset, 'question'))\n",
        "\n",
        "print(\"Средняя длина параграфа:\")\n",
        "print(\"\\t в обучающей выборке:\")\n",
        "print(\"\\t\\t word:\", get_avg_word_count(train_dataset, 'passage'))\n",
        "print(\"\\t\\t char:\", get_avg_char_count(train_dataset, 'passage'))\n",
        "\n",
        "print(\"\\t в тестовой выборке:\")\n",
        "print(\"\\t\\t word:\", get_avg_word_count(dev_dataset, 'passage'))\n",
        "print(\"\\t\\t char:\", get_avg_char_count(dev_dataset, 'passage'))"
      ],
      "execution_count": 6,
      "outputs": [
        {
          "output_type": "stream",
          "text": [
            "Средняя длина вопроса:\n",
            "\t в обучающей выборке:\n",
            "\t\t word: 8.831971995332555\n",
            "\t\t char: 43.99193805028111\n",
            "\t в тестовой выборке:\n",
            "\t\t word: 8.726299694189603\n",
            "\t\t char: 43.206422018348626\n",
            "Средняя длина параграфа:\n",
            "\t в обучающей выборке:\n",
            "\t\t word: 109.20685265726105\n",
            "\t\t char: 565.6130264134931\n",
            "\t в тестовой выборке:\n",
            "\t\t word: 108.27033639143731\n",
            "\t\t char: 559.0522935779817\n"
          ],
          "name": "stdout"
        }
      ]
    },
    {
      "cell_type": "markdown",
      "metadata": {
        "id": "kyFERhPswTVV",
        "colab_type": "text"
      },
      "source": [
        "## Эвристики, по которым был собран датасет"
      ]
    },
    {
      "cell_type": "markdown",
      "metadata": {
        "id": "RL8LSH6QzDdJ",
        "colab_type": "text"
      },
      "source": [
        "Авторы статьи оставляли только те вопросы, которые начинались с одного из слова {“did”, “do”, “does”, “is”, “are”, “was”, “were”, “have”, “has”, “can”, “could”, “will”, “would”}. После этого фильтровались вопросы, которые при запросе в поиске гугл, не выдавали страницу с википедией среди первых 5 выдач."
      ]
    },
    {
      "cell_type": "code",
      "metadata": {
        "id": "AhY8_YmUvSZv",
        "colab_type": "code",
        "colab": {}
      },
      "source": [
        "from collections import Counter\n",
        "\n",
        "starter_tokens = {\"did\", \"do\", \"does\", \"is\", \"are\", \"was\", \"were\", \"have\", \"has\", \"can\", \"could\", \"will\", \"would\"}\n",
        "first_question_words = Counter([doc['question'].split()[0] for doc in train_dataset])"
      ],
      "execution_count": 0,
      "outputs": []
    },
    {
      "cell_type": "markdown",
      "metadata": {
        "id": "TSmPh26K45dp",
        "colab_type": "text"
      },
      "source": [
        "### 20 наиболее часто встречающихся первых токенов вопроса"
      ]
    },
    {
      "cell_type": "code",
      "metadata": {
        "id": "Tbjo8PKM4G7e",
        "colab_type": "code",
        "outputId": "9d924f32-5841-4558-e97a-22edd787d689",
        "colab": {
          "base_uri": "https://localhost:8080/",
          "height": 364
        }
      },
      "source": [
        "pprint(first_question_words.most_common(20))"
      ],
      "execution_count": 8,
      "outputs": [
        {
          "output_type": "stream",
          "text": [
            "[('is', 4190),\n",
            " ('can', 1136),\n",
            " ('does', 952),\n",
            " ('are', 693),\n",
            " ('do', 664),\n",
            " ('did', 461),\n",
            " ('was', 335),\n",
            " ('has', 302),\n",
            " ('will', 181),\n",
            " ('the', 91),\n",
            " ('have', 70),\n",
            " ('in', 35),\n",
            " ('were', 25),\n",
            " ('if', 17),\n",
            " ('a', 16),\n",
            " ('what', 11),\n",
            " ('when', 10),\n",
            " ('could', 9),\n",
            " ('who', 5),\n",
            " ('where', 5)]\n"
          ],
          "name": "stdout"
        }
      ]
    },
    {
      "cell_type": "markdown",
      "metadata": {
        "id": "bn4YNUiz4_0i",
        "colab_type": "text"
      },
      "source": [
        "### Процент вопросов, начинающихся со слов \"did\", \"do\", \"does\", \"is\", \"are\", \"was\", \"were\", \"have\", \"has\", \"can\", \"could\", \"will\", \"would\""
      ]
    },
    {
      "cell_type": "code",
      "metadata": {
        "id": "VqUVSvRl4Ipo",
        "colab_type": "code",
        "outputId": "fc9b69ec-2ca3-428b-93cf-7583bf8a2aa4",
        "colab": {
          "base_uri": "https://localhost:8080/",
          "height": 34
        }
      },
      "source": [
        "sum([first_question_words[word] for word in starter_tokens]) / len(train_dataset)"
      ],
      "execution_count": 9,
      "outputs": [
        {
          "output_type": "execute_result",
          "data": {
            "text/plain": [
              "0.9570382942611647"
            ]
          },
          "metadata": {
            "tags": []
          },
          "execution_count": 9
        }
      ]
    },
    {
      "cell_type": "markdown",
      "metadata": {
        "id": "ombGYE_Q5PvQ",
        "colab_type": "text"
      },
      "source": [
        "### Примеры вопросов, начинающихся не на данные слова"
      ]
    },
    {
      "cell_type": "code",
      "metadata": {
        "id": "bwR7sFhC1frF",
        "colab_type": "code",
        "outputId": "5d9e4ee0-c2c1-4cc5-a0e5-58c58d4fb6f5",
        "colab": {
          "base_uri": "https://localhost:8080/",
          "height": 1000
        }
      },
      "source": [
        "from random import choices\n",
        "indices = [i for i, x in enumerate([doc['question'].split()[0] not in starter_tokens for doc in train_dataset]) if x]\n",
        "subsample = choices(indices, k=3)\n",
        "_ = [pprint(train_dataset[i]) for i in subsample]"
      ],
      "execution_count": 10,
      "outputs": [
        {
          "output_type": "stream",
          "text": [
            "{'answer': False,\n",
            " 'passage': 'Quantico has received positive reviews from critics, with praise '\n",
            "            \"for Chopra's performance and the diversity of the cast. However, \"\n",
            "            \"the ``confusing dual timelines'' received some criticism. The \"\n",
            "            \"series has been nominated for four People's Choice Awards, with \"\n",
            "            'Chopra winning two: Favorite Actress in a New TV Series in '\n",
            "            \"2016--making her the first South Asian to win a People's Choice \"\n",
            "            'Award--and Favorite Dramatic TV Actress in 2017. ABC renewed the '\n",
            "            'series for a third season, which premiered on April 26, 2018. As '\n",
            "            'part of the renewal process, Safran was replaced as primary '\n",
            "            'showrunner by Michael Seitzman. On May 11, 2018, ABC cancelled '\n",
            "            'the show after three seasons. The network will air the remaining '\n",
            "            'episodes of the third season on Friday nights.',\n",
            " 'question': 'what season of quantico is on tv now',\n",
            " 'title': 'Quantico (TV series)'}\n",
            "{'answer': True,\n",
            " 'passage': 'The British Agricultural Revolution, or Second Agricultural '\n",
            "            'Revolution, was the unprecedented increase in agricultural '\n",
            "            'production in Britain due to increases in labour and land '\n",
            "            'productivity between the mid-17th and late 19th centuries. '\n",
            "            'Agricultural output grew faster than the population over the '\n",
            "            'century to 1770, and thereafter productivity remained among the '\n",
            "            'highest in the world. This increase in the food supply '\n",
            "            'contributed to the rapid growth of population in England and '\n",
            "            'Wales, from 5.5 million in 1700 to over 9 million by 1801, though '\n",
            "            'domestic production gave way increasingly to food imports in the '\n",
            "            'nineteenth century as population more than tripled to over 32 '\n",
            "            'million. The rise in productivity accelerated the decline of the '\n",
            "            'agricultural share of the labour force, adding to the urban '\n",
            "            'workforce on which industrialization depended: the Agricultural '\n",
            "            'Revolution has therefore been cited as a cause of the Industrial '\n",
            "            'Revolution.',\n",
            " 'question': 'what relationship was there between improvements in agriculture '\n",
            "             'and the industrialisation of britain',\n",
            " 'title': 'British Agricultural Revolution'}\n",
            "{'answer': True,\n",
            " 'passage': 'The Supreme Court is the only federal court that is explicitly '\n",
            "            'mandated by the Constitution. During the Constitutional '\n",
            "            'Convention, a proposal was made for the Supreme Court to be the '\n",
            "            'only federal court, having both original jurisdiction and '\n",
            "            'appellate jurisdiction. This proposal was rejected in favor of '\n",
            "            'the provision that exists today. Under this provision, the '\n",
            "            'Congress may create inferior (i.e., lower) courts under both '\n",
            "            'Article III, Section 1, and Article I, Section 8. The Article III '\n",
            "            \"courts, which are also known as ``constitutional courts'', were \"\n",
            "            'first created by the Judiciary Act of 1789. Article I courts, '\n",
            "            \"which are also known as ``legislative courts'', consist of \"\n",
            "            'regulatory agencies, such as the United States Tax Court. Article '\n",
            "            'III courts are the only ones with judicial power, and so '\n",
            "            'decisions of regulatory agencies remain subject to review by '\n",
            "            'Article III courts. However, cases not requiring ``judicial '\n",
            "            \"determination'' may come before Article I courts. In the case of \"\n",
            "            \"Murray's Lessee v. Hoboken Land & Improvement Co. 59 U.S. 272 \"\n",
            "            '(1855), the Supreme Court ruled that cases involving ``a suit at '\n",
            "            \"the common law, or in equity, or admiralty'' inherently involve \"\n",
            "            'judicial determination and must come before Article III courts. '\n",
            "            'Other cases, such as bankruptcy cases, have been held not to '\n",
            "            'involve judicial determination, and may therefore go before '\n",
            "            'Article I courts. Similarly, several courts in the District of '\n",
            "            'Columbia, which is under the exclusive jurisdiction of the '\n",
            "            'Congress, are Article I courts rather than Article III courts. '\n",
            "            'This article was expressly extended to the United States District '\n",
            "            'Court for the District of Puerto Rico by the U.S. Congress '\n",
            "            'through Federal Law 89-571, 80 Stat. 764, signed by President '\n",
            "            'Lyndon B. Johnson in 1966. This transformed the article IV United '\n",
            "            'States territorial court in Puerto Rico, created in 1900, to an '\n",
            "            'Article III federal judicial district court.',\n",
            " 'question': 'the us supreme court is the only court established by '\n",
            "             'constitutional mandate',\n",
            " 'title': 'Article Three of the United States Constitution'}\n"
          ],
          "name": "stdout"
        }
      ]
    },
    {
      "cell_type": "markdown",
      "metadata": {
        "id": "eu93dNW87ru3",
        "colab_type": "text"
      },
      "source": [
        "# 2. Baseline\n",
        "Для того, чтобы сравнивать качество определения ответов, необходимо сначала получить первое приближение. В качестве таких приближений использованы два классификатора: Dummy Classifier и FastText+LogReg."
      ]
    },
    {
      "cell_type": "markdown",
      "metadata": {
        "id": "6pruX9Oe91ce",
        "colab_type": "text"
      },
      "source": [
        "## 2.1 Dummy Classifier\n",
        "Dummy classifier представляет собой классификатор, который каждой новой паре вопрос-контекст предсказывает наиболее частый класс из обучающей выборки. При этом, если в качество алгоритма на тестовой выборке будет равно процентному соотношению самого частого класса в тестовой выборке, т.е. 0.62"
      ]
    },
    {
      "cell_type": "code",
      "metadata": {
        "id": "ytbCNKcI8sKb",
        "colab_type": "code",
        "colab": {}
      },
      "source": [
        "train_questions = [doc['question'] for doc in train_dataset]\n",
        "train_passages = [doc['passage'] for doc in train_dataset]\n",
        "train_answers = [str(doc['answer']) for doc in train_dataset]\n",
        "\n",
        "dev_questions = [doc['question'] for doc in dev_dataset]\n",
        "dev_passages = [doc['passage'] for doc in dev_dataset]\n",
        "dev_answers = [str(doc['answer']) for doc in dev_dataset]"
      ],
      "execution_count": 0,
      "outputs": []
    },
    {
      "cell_type": "code",
      "metadata": {
        "id": "m9pcPUR84a3x",
        "colab_type": "code",
        "outputId": "cdcdb82e-afe3-4ba8-c8e4-b98ddb91fd80",
        "colab": {
          "base_uri": "https://localhost:8080/",
          "height": 34
        }
      },
      "source": [
        "from sklearn.dummy import DummyClassifier\n",
        "from sklearn.metrics import classification_report\n",
        "\n",
        "clf = DummyClassifier(strategy=\"most_frequent\")\n",
        "clf.fit(train_questions, train_answers)"
      ],
      "execution_count": 12,
      "outputs": [
        {
          "output_type": "execute_result",
          "data": {
            "text/plain": [
              "DummyClassifier(constant=None, random_state=None, strategy='most_frequent')"
            ]
          },
          "metadata": {
            "tags": []
          },
          "execution_count": 12
        }
      ]
    },
    {
      "cell_type": "code",
      "metadata": {
        "id": "cAxsKYwx98lj",
        "colab_type": "code",
        "outputId": "92a96d12-ae55-4e92-a8b3-a21330581482",
        "colab": {
          "base_uri": "https://localhost:8080/",
          "height": 228
        }
      },
      "source": [
        "dev_preds = clf.predict(dev_questions)\n",
        "print(classification_report(dev_answers, dev_preds, digits=4))"
      ],
      "execution_count": 13,
      "outputs": [
        {
          "output_type": "stream",
          "text": [
            "              precision    recall  f1-score   support\n",
            "\n",
            "       False     0.0000    0.0000    0.0000      1237\n",
            "        True     0.6217    1.0000    0.7667      2033\n",
            "\n",
            "    accuracy                         0.6217      3270\n",
            "   macro avg     0.3109    0.5000    0.3834      3270\n",
            "weighted avg     0.3865    0.6217    0.4767      3270\n",
            "\n"
          ],
          "name": "stdout"
        },
        {
          "output_type": "stream",
          "text": [
            "/usr/local/lib/python3.6/dist-packages/sklearn/metrics/_classification.py:1272: UndefinedMetricWarning: Precision and F-score are ill-defined and being set to 0.0 in labels with no predicted samples. Use `zero_division` parameter to control this behavior.\n",
            "  _warn_prf(average, modifier, msg_start, len(result))\n"
          ],
          "name": "stderr"
        }
      ]
    },
    {
      "cell_type": "markdown",
      "metadata": {
        "id": "CEYRTAsG-COB",
        "colab_type": "text"
      },
      "source": [
        "## 2.2 Fasttext\n",
        "В качестве более сложной модели, использующей признаки вопроса и контекста используется модель логистической регрессии, построенной на векторах FastText вопроса и контекста. Для токенов каждой последовательности были получены векторные представления, которые затем были осреднены. Полученные два вектора затем конкатенировались и подавались на вход классификатору."
      ]
    },
    {
      "cell_type": "markdown",
      "metadata": {
        "id": "1ONVp7rYisU2",
        "colab_type": "text"
      },
      "source": [
        "#### Setup"
      ]
    },
    {
      "cell_type": "code",
      "metadata": {
        "id": "Ssh1rt_viqMx",
        "colab_type": "code",
        "colab": {
          "base_uri": "https://localhost:8080/",
          "height": 52
        },
        "outputId": "5d6b898d-2993-45a1-f89d-afff8da89695"
      },
      "source": [
        "from typing import List\n",
        "\n",
        "# feature extractor\n",
        "from gensim.models import FastText\n",
        "\n",
        "# предобработка текстов\n",
        "import nltk\n",
        "from nltk.corpus import stopwords\n",
        "import spacy\n",
        "\n",
        "import numpy as np\n",
        "# progress bar\n",
        "from tqdm.auto import tqdm\n",
        "\n",
        "nltk.download('stopwords')\n",
        "model = FastText.load_fasttext_format(\"wiki.en.bin\")"
      ],
      "execution_count": 14,
      "outputs": [
        {
          "output_type": "stream",
          "text": [
            "[nltk_data] Downloading package stopwords to /root/nltk_data...\n",
            "[nltk_data]   Unzipping corpora/stopwords.zip.\n"
          ],
          "name": "stdout"
        }
      ]
    },
    {
      "cell_type": "markdown",
      "metadata": {
        "id": "ytIBc_0LJlL5",
        "colab_type": "text"
      },
      "source": [
        "#### Токенизация, лемматизация и векторизация токенов"
      ]
    },
    {
      "cell_type": "code",
      "metadata": {
        "id": "TSBq6IQ8AiRx",
        "colab_type": "code",
        "outputId": "6ff61744-5dd4-49da-9b25-859f652edd76",
        "colab": {
          "base_uri": "https://localhost:8080/",
          "height": 116,
          "referenced_widgets": [
            "5908e4c7535546a4832d24096c97b37e",
            "b3c6f96fd06a4fbebe0ea21caa9c388c",
            "ec60d6238f8040b7a5c2c449f5ea39ea",
            "f8f6fd1debe94a7392a6dc358707d3b9",
            "1dc9beb1c971406d96f3be68013aa0d2",
            "584f256ec01341b2816592bbdb53cd53",
            "22d46d3c0441410ea5d7e7196ec65524",
            "913f3adfaa7c464aa57d5dbbaf4e0f3b",
            "fb040377ef414bdea69f8734e5d6c078",
            "a00e0afafb6241a99226c62f546b3dec",
            "aea150b357214332b41a3fcaa7f879b6",
            "adea57cc48254229a9c9773e1b039816",
            "b8a5703421fa4355b2c0fa95bc251d46",
            "622b081831f0453c80ac93fdd4fcbe7b",
            "9a4c2ba0723343ec82f11b9f917781a3",
            "da6d4bd78442429a92f0b5f9902dceda"
          ]
        }
      },
      "source": [
        "stopwords_ = set(stopwords.words('english'))\n",
        "nlp = spacy.load(\"en\")\n",
        "\n",
        "def tokenize(text: str) -> List[str]:\n",
        "    \"\"\"\n",
        "    Функция, которая токенизирует и лемматизирует входной текст\n",
        "    return: list of lemmas\n",
        "    \"\"\"\n",
        "    return [word.lemma_ for word in nlp(text) if not word.is_punct]\n",
        "\n",
        "def get_text_vector(tokens: List[str], model) -> np.ndarray:\n",
        "    \"\"\"\n",
        "    Переводит последовательнось лемм в единый вектор\n",
        "    \"\"\"\n",
        "    vectors = []\n",
        "    for token in tokens:\n",
        "        if token in model.wv:\n",
        "            vectors.append(model.wv[token])\n",
        "    # return np.mean(vectors, axis=0)\n",
        "    return np.hstack([np.mean(vectors, axis=0), np.max(vectors, axis=0), np.std(vectors, axis=0)])\n",
        "\n",
        "def preprocess_text(text: str) -> List[str]:\n",
        "    \"\"\"\n",
        "    Предобработка текста. Включает в себя:\n",
        "    1. приведение в нижний регистр\n",
        "    2. токенизацию\n",
        "    3. лемматизацию\n",
        "    4. удаление стоп слов\n",
        "    \"\"\"\n",
        "    text = text.lower()\n",
        "    lemmas = tokenize(text)\n",
        "    return [lemma for lemma in lemmas if lemma not in stopwords_]\n",
        "\n",
        "def get_ds_vectors(dataset: List[dict], model) -> np.ndarray:\n",
        "    \"\"\"\n",
        "    Функция, которая составляет векторное представление для каждой пары \n",
        "    (вопрос, контекст)\n",
        "    \"\"\"\n",
        "    vectors = []\n",
        "    for doc in tqdm(dataset):\n",
        "        text = doc['question'] + \" \" + doc[\"passage\"]\n",
        "        lemmas = preprocess_text(text)\n",
        "        vectors.append(get_text_vector(lemmas, model))\n",
        "\n",
        "    vectors = np.vstack(vectors)\n",
        "\n",
        "    return vectors\n",
        "\n",
        "train_vectors = get_ds_vectors(train_dataset, model)\n",
        "dev_vectors = get_ds_vectors(dev_dataset, model)"
      ],
      "execution_count": 15,
      "outputs": [
        {
          "output_type": "display_data",
          "data": {
            "application/vnd.jupyter.widget-view+json": {
              "model_id": "5908e4c7535546a4832d24096c97b37e",
              "version_minor": 0,
              "version_major": 2
            },
            "text/plain": [
              "HBox(children=(IntProgress(value=0, max=9427), HTML(value='')))"
            ]
          },
          "metadata": {
            "tags": []
          }
        },
        {
          "output_type": "stream",
          "text": [
            "\n"
          ],
          "name": "stdout"
        },
        {
          "output_type": "display_data",
          "data": {
            "application/vnd.jupyter.widget-view+json": {
              "model_id": "fb040377ef414bdea69f8734e5d6c078",
              "version_minor": 0,
              "version_major": 2
            },
            "text/plain": [
              "HBox(children=(IntProgress(value=0, max=3270), HTML(value='')))"
            ]
          },
          "metadata": {
            "tags": []
          }
        },
        {
          "output_type": "stream",
          "text": [
            "\n"
          ],
          "name": "stdout"
        }
      ]
    },
    {
      "cell_type": "code",
      "metadata": {
        "id": "s-hES-I0OD6u",
        "colab_type": "code",
        "outputId": "a4c8398e-82bf-40c5-90ca-930254e1fb51",
        "colab": {
          "base_uri": "https://localhost:8080/",
          "height": 173
        }
      },
      "source": [
        "from sklearn.linear_model import LogisticRegression\n",
        "\n",
        "clf = LogisticRegression(max_iter=500, solver=\"liblinear\")\n",
        "clf.fit(train_vectors, train_answers)\n",
        "dev_preds = clf.predict(dev_vectors)\n",
        "\n",
        "print(classification_report(dev_answers, dev_preds, digits=4))"
      ],
      "execution_count": 16,
      "outputs": [
        {
          "output_type": "stream",
          "text": [
            "              precision    recall  f1-score   support\n",
            "\n",
            "       False     0.5119    0.2951    0.3744      1237\n",
            "        True     0.6590    0.8288    0.7342      2033\n",
            "\n",
            "    accuracy                         0.6269      3270\n",
            "   macro avg     0.5854    0.5619    0.5543      3270\n",
            "weighted avg     0.6033    0.6269    0.5981      3270\n",
            "\n"
          ],
          "name": "stdout"
        }
      ]
    },
    {
      "cell_type": "markdown",
      "metadata": {
        "id": "jPGnPrMqXktg",
        "colab_type": "text"
      },
      "source": [
        "# Часть 3. Эмбеддинги предложений\n",
        "В данном разделе предлагается использовать модель логистической регрессии, обученной на конкатенированных признаках, полученных с помощью BERT. Модель BERT для английского языка была взята из библиотеки Transformers."
      ]
    },
    {
      "cell_type": "code",
      "metadata": {
        "id": "hJJTiuikcCZG",
        "colab_type": "code",
        "outputId": "c032d2c3-9554-4495-86b1-6ab3f30ca00b",
        "colab": {
          "base_uri": "https://localhost:8080/",
          "height": 165,
          "referenced_widgets": [
            "746a71f283cc498abc56bfdb4d79ad9a",
            "7c7e653ccedd4ca88d25c3fa162fd5ac",
            "6214246065dd476884f38155899119c8",
            "48adbf89bf994719b39a9fcf15bc5c50",
            "10b6aac59dfc46f494725aa31667d872",
            "f18a08914a544b09a58f21fbddd5089d",
            "34503b5393c04c10b182da50927a953a",
            "4bdbb99714194c3aa0142da7d77fa170",
            "e504a8d3ca994aafbd208a39afc13761",
            "7824073acebb489cb333011d9fbc0dc3",
            "174d49d2990240e3898056e51902b952",
            "cc37fc0a279b4a8291ed004d89d37025",
            "3f7de007984a48fd8c33fad3770e4e15",
            "9ff24e4ec4064e9e8708981dddc9801e",
            "684b46ef7afa4b8a8cef09582b041295",
            "53e2faf3007e4eccbb46890eb84e2223",
            "4236444d58fb4407adbd664a0a1f6eef",
            "44faa4e91b4446cba381b79c611d802d",
            "ea4bd7eff8b44a55ae4e9f36b4278a90",
            "8ba0fc86927c48c6a8cd67100f6fe93c",
            "58d456be4317474194caf0a7c0e37699",
            "544133a195804ce68a5c026984ddd98e",
            "848aa3fbf4ba4ae9931449eceb774a03",
            "824db2b8f7c54a0dbe98be171fc1546e"
          ]
        }
      },
      "source": [
        "from transformers import BertModel, BertTokenizer\n",
        "from transformers import pipeline\n",
        "import torch \n",
        "\n",
        "bert_tokenizer = BertTokenizer.from_pretrained(\"bert-base-uncased\")\n",
        "bert_model = BertModel.from_pretrained(\"bert-base-uncased\")\n",
        "\n",
        "feature_extraction = pipeline(\"feature-extraction\", model=bert_model, tokenizer=bert_tokenizer, device=0)"
      ],
      "execution_count": 17,
      "outputs": [
        {
          "output_type": "display_data",
          "data": {
            "application/vnd.jupyter.widget-view+json": {
              "model_id": "746a71f283cc498abc56bfdb4d79ad9a",
              "version_minor": 0,
              "version_major": 2
            },
            "text/plain": [
              "HBox(children=(IntProgress(value=0, description='Downloading', max=231508, style=ProgressStyle(description_wid…"
            ]
          },
          "metadata": {
            "tags": []
          }
        },
        {
          "output_type": "stream",
          "text": [
            "\n"
          ],
          "name": "stdout"
        },
        {
          "output_type": "display_data",
          "data": {
            "application/vnd.jupyter.widget-view+json": {
              "model_id": "e504a8d3ca994aafbd208a39afc13761",
              "version_minor": 0,
              "version_major": 2
            },
            "text/plain": [
              "HBox(children=(IntProgress(value=0, description='Downloading', max=433, style=ProgressStyle(description_width=…"
            ]
          },
          "metadata": {
            "tags": []
          }
        },
        {
          "output_type": "stream",
          "text": [
            "\n"
          ],
          "name": "stdout"
        },
        {
          "output_type": "display_data",
          "data": {
            "application/vnd.jupyter.widget-view+json": {
              "model_id": "4236444d58fb4407adbd664a0a1f6eef",
              "version_minor": 0,
              "version_major": 2
            },
            "text/plain": [
              "HBox(children=(IntProgress(value=0, description='Downloading', max=440473133, style=ProgressStyle(description_…"
            ]
          },
          "metadata": {
            "tags": []
          }
        },
        {
          "output_type": "stream",
          "text": [
            "\n"
          ],
          "name": "stdout"
        }
      ]
    },
    {
      "cell_type": "markdown",
      "metadata": {
        "id": "oO2Qfa1_MhXB",
        "colab_type": "text"
      },
      "source": [
        "В качестве векторного представления последовательности токенов было взято среднее векторных представлений токенов, а не вектор соответствующий служебному токену [CLS]. Данное решение было принято в ходе эксперимента, так как модель с классификатор, построенный на выходе токена [CLS] показала accuracy на 0.03 меньше. Векторы вопроса и контекста затем конкатенируются."
      ]
    },
    {
      "cell_type": "code",
      "metadata": {
        "id": "EODxiE71jceg",
        "colab_type": "code",
        "outputId": "9ff8ebb6-6842-4df8-9f34-f69e29fe73c4",
        "colab": {
          "base_uri": "https://localhost:8080/",
          "height": 214,
          "referenced_widgets": [
            "f6a1d20ad0d8497ea5dc2774297f5724",
            "7698f1fffff64d32b439dc3959cf74cf",
            "d06218c0eefb4b0b8789f5f1a4d317a7",
            "4ba4f171e69e45b3b39b12f4bcc265d1",
            "529cd8ff0aeb4b9d8c2bb82b1430e1df",
            "18366c830e0b4fa1ac6280be9c55338b",
            "deaf63843a6345339b47e70d56698707",
            "ac790ff83015411cadf25ebf214c5bf1",
            "1997df3f596641f19fac6b8049ea026a",
            "73246d4679e645029d1eb967ee0bbe5f",
            "0cd2fcd2a1f444bda2f4a294a78664a1",
            "8183342dde814bf28bbdb36998accaff",
            "3ac6088e84f040f09c551a60fb4616e7",
            "709bf75a858f4003a1191015797a83b4",
            "21a1fe502fee4317815c20aadc943a4c",
            "b08fd63282ac408c9ec290459494f011",
            "3a1887d8943840ae8c5c6d5fde9df462",
            "c5be0cef458742e5a708794b20fae77e",
            "1809c36173104c49957230f9ecd2e61b",
            "a10eadc7f09c4c2e8371a5ef51d83252",
            "8895532a440f4efa9655a85fa6c04174",
            "6579b06780a141ba8809f1a14feb1489",
            "f4c17755e6e4463895fd92f7d5aec8fb",
            "f22d0fc558b14305840548d94ca2aea6",
            "4e9889697feb4852bfd8dde5f3ae8efd",
            "6ebdf6b6f52c45e18fe1153a9ffc2c4e",
            "53a9b459271e430c9f7d05d2132d3c2b",
            "b3306d06980c460d94338a67619fb29e",
            "00fcd91089e843898d59ecd0144a4a5b",
            "24ef8c6b15e944429c4354d3ad278d91",
            "cae11ce289804330959e1113f4fb6700",
            "3c5824503ef14ee484e634cd05f40aef"
          ]
        }
      },
      "source": [
        "def extract_features(texts: List[str]) -> np.ndarray:\n",
        "    \"\"\"\n",
        "    Составляет векторное представление для входной последовательности. \n",
        "    \"\"\"\n",
        "    features = []\n",
        "    for text in tqdm(texts):\n",
        "        features.append(np.asarray(feature_extraction(text)).mean(axis=1)[0, :])\n",
        "    return np.vstack(features)\n",
        "\n",
        "# Получим вектора для вопроса и контекста поотдельности\n",
        "train_question_features = extract_features([d['question'] for d in train_dataset])\n",
        "train_passage_features = extract_features([d['passage'] for d in train_dataset])\n",
        "\n",
        "dev_question_features = extract_features([d['question'] for d in dev_dataset])\n",
        "dev_passage_features = extract_features([d['passage'] for d in dev_dataset])"
      ],
      "execution_count": 18,
      "outputs": [
        {
          "output_type": "display_data",
          "data": {
            "application/vnd.jupyter.widget-view+json": {
              "model_id": "f6a1d20ad0d8497ea5dc2774297f5724",
              "version_minor": 0,
              "version_major": 2
            },
            "text/plain": [
              "HBox(children=(IntProgress(value=0, max=9427), HTML(value='')))"
            ]
          },
          "metadata": {
            "tags": []
          }
        },
        {
          "output_type": "stream",
          "text": [
            "\n"
          ],
          "name": "stdout"
        },
        {
          "output_type": "display_data",
          "data": {
            "application/vnd.jupyter.widget-view+json": {
              "model_id": "1997df3f596641f19fac6b8049ea026a",
              "version_minor": 0,
              "version_major": 2
            },
            "text/plain": [
              "HBox(children=(IntProgress(value=0, max=9427), HTML(value='')))"
            ]
          },
          "metadata": {
            "tags": []
          }
        },
        {
          "output_type": "stream",
          "text": [
            "\n"
          ],
          "name": "stdout"
        },
        {
          "output_type": "display_data",
          "data": {
            "application/vnd.jupyter.widget-view+json": {
              "model_id": "3a1887d8943840ae8c5c6d5fde9df462",
              "version_minor": 0,
              "version_major": 2
            },
            "text/plain": [
              "HBox(children=(IntProgress(value=0, max=3270), HTML(value='')))"
            ]
          },
          "metadata": {
            "tags": []
          }
        },
        {
          "output_type": "stream",
          "text": [
            "\n"
          ],
          "name": "stdout"
        },
        {
          "output_type": "display_data",
          "data": {
            "application/vnd.jupyter.widget-view+json": {
              "model_id": "4e9889697feb4852bfd8dde5f3ae8efd",
              "version_minor": 0,
              "version_major": 2
            },
            "text/plain": [
              "HBox(children=(IntProgress(value=0, max=3270), HTML(value='')))"
            ]
          },
          "metadata": {
            "tags": []
          }
        },
        {
          "output_type": "stream",
          "text": [
            "\n"
          ],
          "name": "stdout"
        }
      ]
    },
    {
      "cell_type": "markdown",
      "metadata": {
        "id": "KpYXff3TNT6i",
        "colab_type": "text"
      },
      "source": [
        "#### Train"
      ]
    },
    {
      "cell_type": "code",
      "metadata": {
        "id": "NIeAW_NOZjmO",
        "colab_type": "code",
        "colab": {
          "base_uri": "https://localhost:8080/",
          "height": 173
        },
        "outputId": "ed154e30-63e8-44ed-e1c9-1ac6fe154150"
      },
      "source": [
        "# define classifier\n",
        "clf = LogisticRegression(max_iter=10000, solver=\"liblinear\")\n",
        "\n",
        "# prepare train vetors\n",
        "train_vectors = np.hstack((train_question_features, train_passage_features))\n",
        "\n",
        "# fit logistic regression model\n",
        "clf.fit(train_vectors, train_answers)\n",
        "\n",
        "# validate on dev dataset\n",
        "dev_vectors = np.hstack((dev_question_features, dev_passage_features))\n",
        "dev_preds = clf.predict(dev_vectors)\n",
        "\n",
        "# print out results\n",
        "print(classification_report(dev_answers, dev_preds, digits=4))"
      ],
      "execution_count": 20,
      "outputs": [
        {
          "output_type": "stream",
          "text": [
            "              precision    recall  f1-score   support\n",
            "\n",
            "       False     0.5702    0.4697    0.5151      1237\n",
            "        True     0.7086    0.7846    0.7446      2033\n",
            "\n",
            "    accuracy                         0.6654      3270\n",
            "   macro avg     0.6394    0.6271    0.6299      3270\n",
            "weighted avg     0.6562    0.6654    0.6578      3270\n",
            "\n"
          ],
          "name": "stdout"
        }
      ]
    },
    {
      "cell_type": "markdown",
      "metadata": {
        "id": "QJJLR-zDGURm",
        "colab_type": "text"
      },
      "source": [
        "# Часть 4. DrQA подобная архитектура"
      ]
    },
    {
      "cell_type": "markdown",
      "metadata": {
        "id": "TM5EZUBtQsee",
        "colab_type": "text"
      },
      "source": [
        "Код для DrQA подобной архитектуры расположен в отдельном [репозитории](https://github.com/Muhamob/DrQA-1). Данный репозиторий является копией репозитория с уже реализованной архитектурой DrQA для задачи поиска начала и конца ответа. Части с чтением датасета, моделью и метриками была изменена под новый датасет."
      ]
    },
    {
      "cell_type": "markdown",
      "metadata": {
        "id": "7xNZ13ucUImC",
        "colab_type": "text"
      },
      "source": [
        "### Архитектура\n",
        "\n",
        "Для возможности использования архитектуры DrQA для задачи проверки истинности высказывания, можно в качестве одного из вариантов архитектуры использовать следующий:\n",
        "1. убрать часть с предсказанием начала и конца ответа\n",
        "2. Аггрегировать выходы BiLSTM кодировщика контекста (например, взять среднее или другие аггрегирующие функции)\n",
        "3. Объединить признаки вопроса и контекста (конкатенировать)\n",
        "4. Использовать классификатор на основе получившихся признаков (в данной работе используется линейный слой с 1 выходным признаком).\n",
        "\n",
        "Также можно предлодить другие варианты архитектур. Например использовать векторы *similarity* для реккурентной нейронной сети. Затем, использовать выход последнего звена для предсказания ответа. "
      ]
    },
    {
      "cell_type": "markdown",
      "metadata": {
        "id": "d4s7WEAaRJ5R",
        "colab_type": "text"
      },
      "source": [
        "### Результаты"
      ]
    },
    {
      "cell_type": "markdown",
      "metadata": {
        "id": "-ltsjXb1RQ4P",
        "colab_type": "text"
      },
      "source": [
        "Результаты работы для двух конфигураций следующие:\n",
        "```yaml\n",
        "- model:\n",
        "    doc layers: 2\n",
        "    question layers: 2\n",
        "    hidden size: 64\n",
        "    grad clipping: 3\n",
        "  best_accuracy: 0.6889\n",
        "- model:\n",
        "    doc layers: 3\n",
        "    question layers: 3\n",
        "    hidden size: 64\n",
        "    grad clipping: 3\n",
        "  best_accuracy: 0.6923 \n",
        "```"
      ]
    },
    {
      "cell_type": "markdown",
      "metadata": {
        "id": "PPSgyAuaSPUZ",
        "colab_type": "text"
      },
      "source": [
        "### Недостатки и возможные пути улучшения"
      ]
    },
    {
      "cell_type": "markdown",
      "metadata": {
        "id": "4KeoQKGSSUaQ",
        "colab_type": "text"
      },
      "source": [
        "Датасет для данной задачи является недостаточным, так что при обучении данных моделей, возможно, возникало переобучение. \n",
        "\n",
        "Недочёты моей реализации модели:\n",
        "1. Отсутствие кросс-валидации. Валидация происходит только на одной отложенной выборке\n",
        "2. Отсутствие подбора гиперпараметров\n",
        "\n",
        "Возможности для улучшения качества модели:\n",
        "1. Использование предобученных моделей (например, на датасете SQuAD и др.)\n",
        "2. Подбор гиперпараметров\n",
        "3. Аугментация данных\n",
        "\n",
        "Гипотезы, которые хотелось бы проверить:\n",
        "1. Использование BERT для извлечения признаков токенов\n",
        "2. Использование другой архитектуры (предложена в разделе Архитектура)"
      ]
    },
    {
      "cell_type": "code",
      "metadata": {
        "id": "kuua-4CnQrLa",
        "colab_type": "code",
        "colab": {}
      },
      "source": [
        "\n"
      ],
      "execution_count": 0,
      "outputs": []
    }
  ]
}