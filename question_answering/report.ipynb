{
  "nbformat": 4,
  "nbformat_minor": 0,
  "metadata": {
    "colab": {
      "name": "report.ipynb",
      "provenance": [],
      "collapsed_sections": []
    },
    "kernelspec": {
      "name": "python3",
      "display_name": "Python 3"
    },
    "accelerator": "GPU",
    "widgets": {
      "application/vnd.jupyter.widget-state+json": {
        "45c10887a65c4a86b93c32639b637abd": {
          "model_module": "@jupyter-widgets/controls",
          "model_name": "HBoxModel",
          "state": {
            "_view_name": "HBoxView",
            "_dom_classes": [],
            "_model_name": "HBoxModel",
            "_view_module": "@jupyter-widgets/controls",
            "_model_module_version": "1.5.0",
            "_view_count": null,
            "_view_module_version": "1.5.0",
            "box_style": "",
            "layout": "IPY_MODEL_ba3a764883004190888488523c18f170",
            "_model_module": "@jupyter-widgets/controls",
            "children": [
              "IPY_MODEL_2503720298d5451cbf2bba49d3465a59",
              "IPY_MODEL_0b567b941603409fababdad05cc74a2e"
            ]
          }
        },
        "ba3a764883004190888488523c18f170": {
          "model_module": "@jupyter-widgets/base",
          "model_name": "LayoutModel",
          "state": {
            "_view_name": "LayoutView",
            "grid_template_rows": null,
            "right": null,
            "justify_content": null,
            "_view_module": "@jupyter-widgets/base",
            "overflow": null,
            "_model_module_version": "1.2.0",
            "_view_count": null,
            "flex_flow": null,
            "width": null,
            "min_width": null,
            "border": null,
            "align_items": null,
            "bottom": null,
            "_model_module": "@jupyter-widgets/base",
            "top": null,
            "grid_column": null,
            "overflow_y": null,
            "overflow_x": null,
            "grid_auto_flow": null,
            "grid_area": null,
            "grid_template_columns": null,
            "flex": null,
            "_model_name": "LayoutModel",
            "justify_items": null,
            "grid_row": null,
            "max_height": null,
            "align_content": null,
            "visibility": null,
            "align_self": null,
            "height": null,
            "min_height": null,
            "padding": null,
            "grid_auto_rows": null,
            "grid_gap": null,
            "max_width": null,
            "order": null,
            "_view_module_version": "1.2.0",
            "grid_template_areas": null,
            "object_position": null,
            "object_fit": null,
            "grid_auto_columns": null,
            "margin": null,
            "display": null,
            "left": null
          }
        },
        "2503720298d5451cbf2bba49d3465a59": {
          "model_module": "@jupyter-widgets/controls",
          "model_name": "IntProgressModel",
          "state": {
            "_view_name": "ProgressView",
            "style": "IPY_MODEL_30f0805240fb439fa9542b63f4cefb86",
            "_dom_classes": [],
            "description": "100%",
            "_model_name": "IntProgressModel",
            "bar_style": "success",
            "max": 9427,
            "_view_module": "@jupyter-widgets/controls",
            "_model_module_version": "1.5.0",
            "value": 9427,
            "_view_count": null,
            "_view_module_version": "1.5.0",
            "orientation": "horizontal",
            "min": 0,
            "description_tooltip": null,
            "_model_module": "@jupyter-widgets/controls",
            "layout": "IPY_MODEL_2a3581a51086447c8b70ad6638f262ac"
          }
        },
        "0b567b941603409fababdad05cc74a2e": {
          "model_module": "@jupyter-widgets/controls",
          "model_name": "HTMLModel",
          "state": {
            "_view_name": "HTMLView",
            "style": "IPY_MODEL_f832dc118cf149c699e923f0f29a9f11",
            "_dom_classes": [],
            "description": "",
            "_model_name": "HTMLModel",
            "placeholder": "​",
            "_view_module": "@jupyter-widgets/controls",
            "_model_module_version": "1.5.0",
            "value": " 9427/9427 [05:03&lt;00:00, 31.11it/s]",
            "_view_count": null,
            "_view_module_version": "1.5.0",
            "description_tooltip": null,
            "_model_module": "@jupyter-widgets/controls",
            "layout": "IPY_MODEL_57b5dbd0a7ad44908e26be21708a4fcf"
          }
        },
        "30f0805240fb439fa9542b63f4cefb86": {
          "model_module": "@jupyter-widgets/controls",
          "model_name": "ProgressStyleModel",
          "state": {
            "_view_name": "StyleView",
            "_model_name": "ProgressStyleModel",
            "description_width": "initial",
            "_view_module": "@jupyter-widgets/base",
            "_model_module_version": "1.5.0",
            "_view_count": null,
            "_view_module_version": "1.2.0",
            "bar_color": null,
            "_model_module": "@jupyter-widgets/controls"
          }
        },
        "2a3581a51086447c8b70ad6638f262ac": {
          "model_module": "@jupyter-widgets/base",
          "model_name": "LayoutModel",
          "state": {
            "_view_name": "LayoutView",
            "grid_template_rows": null,
            "right": null,
            "justify_content": null,
            "_view_module": "@jupyter-widgets/base",
            "overflow": null,
            "_model_module_version": "1.2.0",
            "_view_count": null,
            "flex_flow": null,
            "width": null,
            "min_width": null,
            "border": null,
            "align_items": null,
            "bottom": null,
            "_model_module": "@jupyter-widgets/base",
            "top": null,
            "grid_column": null,
            "overflow_y": null,
            "overflow_x": null,
            "grid_auto_flow": null,
            "grid_area": null,
            "grid_template_columns": null,
            "flex": null,
            "_model_name": "LayoutModel",
            "justify_items": null,
            "grid_row": null,
            "max_height": null,
            "align_content": null,
            "visibility": null,
            "align_self": null,
            "height": null,
            "min_height": null,
            "padding": null,
            "grid_auto_rows": null,
            "grid_gap": null,
            "max_width": null,
            "order": null,
            "_view_module_version": "1.2.0",
            "grid_template_areas": null,
            "object_position": null,
            "object_fit": null,
            "grid_auto_columns": null,
            "margin": null,
            "display": null,
            "left": null
          }
        },
        "f832dc118cf149c699e923f0f29a9f11": {
          "model_module": "@jupyter-widgets/controls",
          "model_name": "DescriptionStyleModel",
          "state": {
            "_view_name": "StyleView",
            "_model_name": "DescriptionStyleModel",
            "description_width": "",
            "_view_module": "@jupyter-widgets/base",
            "_model_module_version": "1.5.0",
            "_view_count": null,
            "_view_module_version": "1.2.0",
            "_model_module": "@jupyter-widgets/controls"
          }
        },
        "57b5dbd0a7ad44908e26be21708a4fcf": {
          "model_module": "@jupyter-widgets/base",
          "model_name": "LayoutModel",
          "state": {
            "_view_name": "LayoutView",
            "grid_template_rows": null,
            "right": null,
            "justify_content": null,
            "_view_module": "@jupyter-widgets/base",
            "overflow": null,
            "_model_module_version": "1.2.0",
            "_view_count": null,
            "flex_flow": null,
            "width": null,
            "min_width": null,
            "border": null,
            "align_items": null,
            "bottom": null,
            "_model_module": "@jupyter-widgets/base",
            "top": null,
            "grid_column": null,
            "overflow_y": null,
            "overflow_x": null,
            "grid_auto_flow": null,
            "grid_area": null,
            "grid_template_columns": null,
            "flex": null,
            "_model_name": "LayoutModel",
            "justify_items": null,
            "grid_row": null,
            "max_height": null,
            "align_content": null,
            "visibility": null,
            "align_self": null,
            "height": null,
            "min_height": null,
            "padding": null,
            "grid_auto_rows": null,
            "grid_gap": null,
            "max_width": null,
            "order": null,
            "_view_module_version": "1.2.0",
            "grid_template_areas": null,
            "object_position": null,
            "object_fit": null,
            "grid_auto_columns": null,
            "margin": null,
            "display": null,
            "left": null
          }
        },
        "5c515fe208a844c397813cbef1cc72bb": {
          "model_module": "@jupyter-widgets/controls",
          "model_name": "HBoxModel",
          "state": {
            "_view_name": "HBoxView",
            "_dom_classes": [],
            "_model_name": "HBoxModel",
            "_view_module": "@jupyter-widgets/controls",
            "_model_module_version": "1.5.0",
            "_view_count": null,
            "_view_module_version": "1.5.0",
            "box_style": "",
            "layout": "IPY_MODEL_50b327f346e74daf87d99e4b016efb18",
            "_model_module": "@jupyter-widgets/controls",
            "children": [
              "IPY_MODEL_911f3821933e4c60a5a20ec66024bda4",
              "IPY_MODEL_ab785221fe724ac9a452de86e59d9f1d"
            ]
          }
        },
        "50b327f346e74daf87d99e4b016efb18": {
          "model_module": "@jupyter-widgets/base",
          "model_name": "LayoutModel",
          "state": {
            "_view_name": "LayoutView",
            "grid_template_rows": null,
            "right": null,
            "justify_content": null,
            "_view_module": "@jupyter-widgets/base",
            "overflow": null,
            "_model_module_version": "1.2.0",
            "_view_count": null,
            "flex_flow": null,
            "width": null,
            "min_width": null,
            "border": null,
            "align_items": null,
            "bottom": null,
            "_model_module": "@jupyter-widgets/base",
            "top": null,
            "grid_column": null,
            "overflow_y": null,
            "overflow_x": null,
            "grid_auto_flow": null,
            "grid_area": null,
            "grid_template_columns": null,
            "flex": null,
            "_model_name": "LayoutModel",
            "justify_items": null,
            "grid_row": null,
            "max_height": null,
            "align_content": null,
            "visibility": null,
            "align_self": null,
            "height": null,
            "min_height": null,
            "padding": null,
            "grid_auto_rows": null,
            "grid_gap": null,
            "max_width": null,
            "order": null,
            "_view_module_version": "1.2.0",
            "grid_template_areas": null,
            "object_position": null,
            "object_fit": null,
            "grid_auto_columns": null,
            "margin": null,
            "display": null,
            "left": null
          }
        },
        "911f3821933e4c60a5a20ec66024bda4": {
          "model_module": "@jupyter-widgets/controls",
          "model_name": "IntProgressModel",
          "state": {
            "_view_name": "ProgressView",
            "style": "IPY_MODEL_d46b0df82f684c1da5382afc2deb1bb2",
            "_dom_classes": [],
            "description": "100%",
            "_model_name": "IntProgressModel",
            "bar_style": "success",
            "max": 3270,
            "_view_module": "@jupyter-widgets/controls",
            "_model_module_version": "1.5.0",
            "value": 3270,
            "_view_count": null,
            "_view_module_version": "1.5.0",
            "orientation": "horizontal",
            "min": 0,
            "description_tooltip": null,
            "_model_module": "@jupyter-widgets/controls",
            "layout": "IPY_MODEL_8c5eca7fd1c849bfbf7b8936246fcf8a"
          }
        },
        "ab785221fe724ac9a452de86e59d9f1d": {
          "model_module": "@jupyter-widgets/controls",
          "model_name": "HTMLModel",
          "state": {
            "_view_name": "HTMLView",
            "style": "IPY_MODEL_19b3e37a53e046f2a21caaab815c0f47",
            "_dom_classes": [],
            "description": "",
            "_model_name": "HTMLModel",
            "placeholder": "​",
            "_view_module": "@jupyter-widgets/controls",
            "_model_module_version": "1.5.0",
            "value": " 3270/3270 [04:52&lt;00:00, 11.18it/s]",
            "_view_count": null,
            "_view_module_version": "1.5.0",
            "description_tooltip": null,
            "_model_module": "@jupyter-widgets/controls",
            "layout": "IPY_MODEL_182f04e9eee54ebbb0141660e7f8cede"
          }
        },
        "d46b0df82f684c1da5382afc2deb1bb2": {
          "model_module": "@jupyter-widgets/controls",
          "model_name": "ProgressStyleModel",
          "state": {
            "_view_name": "StyleView",
            "_model_name": "ProgressStyleModel",
            "description_width": "initial",
            "_view_module": "@jupyter-widgets/base",
            "_model_module_version": "1.5.0",
            "_view_count": null,
            "_view_module_version": "1.2.0",
            "bar_color": null,
            "_model_module": "@jupyter-widgets/controls"
          }
        },
        "8c5eca7fd1c849bfbf7b8936246fcf8a": {
          "model_module": "@jupyter-widgets/base",
          "model_name": "LayoutModel",
          "state": {
            "_view_name": "LayoutView",
            "grid_template_rows": null,
            "right": null,
            "justify_content": null,
            "_view_module": "@jupyter-widgets/base",
            "overflow": null,
            "_model_module_version": "1.2.0",
            "_view_count": null,
            "flex_flow": null,
            "width": null,
            "min_width": null,
            "border": null,
            "align_items": null,
            "bottom": null,
            "_model_module": "@jupyter-widgets/base",
            "top": null,
            "grid_column": null,
            "overflow_y": null,
            "overflow_x": null,
            "grid_auto_flow": null,
            "grid_area": null,
            "grid_template_columns": null,
            "flex": null,
            "_model_name": "LayoutModel",
            "justify_items": null,
            "grid_row": null,
            "max_height": null,
            "align_content": null,
            "visibility": null,
            "align_self": null,
            "height": null,
            "min_height": null,
            "padding": null,
            "grid_auto_rows": null,
            "grid_gap": null,
            "max_width": null,
            "order": null,
            "_view_module_version": "1.2.0",
            "grid_template_areas": null,
            "object_position": null,
            "object_fit": null,
            "grid_auto_columns": null,
            "margin": null,
            "display": null,
            "left": null
          }
        },
        "19b3e37a53e046f2a21caaab815c0f47": {
          "model_module": "@jupyter-widgets/controls",
          "model_name": "DescriptionStyleModel",
          "state": {
            "_view_name": "StyleView",
            "_model_name": "DescriptionStyleModel",
            "description_width": "",
            "_view_module": "@jupyter-widgets/base",
            "_model_module_version": "1.5.0",
            "_view_count": null,
            "_view_module_version": "1.2.0",
            "_model_module": "@jupyter-widgets/controls"
          }
        },
        "182f04e9eee54ebbb0141660e7f8cede": {
          "model_module": "@jupyter-widgets/base",
          "model_name": "LayoutModel",
          "state": {
            "_view_name": "LayoutView",
            "grid_template_rows": null,
            "right": null,
            "justify_content": null,
            "_view_module": "@jupyter-widgets/base",
            "overflow": null,
            "_model_module_version": "1.2.0",
            "_view_count": null,
            "flex_flow": null,
            "width": null,
            "min_width": null,
            "border": null,
            "align_items": null,
            "bottom": null,
            "_model_module": "@jupyter-widgets/base",
            "top": null,
            "grid_column": null,
            "overflow_y": null,
            "overflow_x": null,
            "grid_auto_flow": null,
            "grid_area": null,
            "grid_template_columns": null,
            "flex": null,
            "_model_name": "LayoutModel",
            "justify_items": null,
            "grid_row": null,
            "max_height": null,
            "align_content": null,
            "visibility": null,
            "align_self": null,
            "height": null,
            "min_height": null,
            "padding": null,
            "grid_auto_rows": null,
            "grid_gap": null,
            "max_width": null,
            "order": null,
            "_view_module_version": "1.2.0",
            "grid_template_areas": null,
            "object_position": null,
            "object_fit": null,
            "grid_auto_columns": null,
            "margin": null,
            "display": null,
            "left": null
          }
        },
        "a2d4e09226ba4f4e9a7386fb36555228": {
          "model_module": "@jupyter-widgets/controls",
          "model_name": "HBoxModel",
          "state": {
            "_view_name": "HBoxView",
            "_dom_classes": [],
            "_model_name": "HBoxModel",
            "_view_module": "@jupyter-widgets/controls",
            "_model_module_version": "1.5.0",
            "_view_count": null,
            "_view_module_version": "1.5.0",
            "box_style": "",
            "layout": "IPY_MODEL_fe270e33f23749c18d15a2290296af74",
            "_model_module": "@jupyter-widgets/controls",
            "children": [
              "IPY_MODEL_45fba86383934805a44932ba1dbf2298",
              "IPY_MODEL_bf373de0a22242929364e6260b6eec9c"
            ]
          }
        },
        "fe270e33f23749c18d15a2290296af74": {
          "model_module": "@jupyter-widgets/base",
          "model_name": "LayoutModel",
          "state": {
            "_view_name": "LayoutView",
            "grid_template_rows": null,
            "right": null,
            "justify_content": null,
            "_view_module": "@jupyter-widgets/base",
            "overflow": null,
            "_model_module_version": "1.2.0",
            "_view_count": null,
            "flex_flow": null,
            "width": null,
            "min_width": null,
            "border": null,
            "align_items": null,
            "bottom": null,
            "_model_module": "@jupyter-widgets/base",
            "top": null,
            "grid_column": null,
            "overflow_y": null,
            "overflow_x": null,
            "grid_auto_flow": null,
            "grid_area": null,
            "grid_template_columns": null,
            "flex": null,
            "_model_name": "LayoutModel",
            "justify_items": null,
            "grid_row": null,
            "max_height": null,
            "align_content": null,
            "visibility": null,
            "align_self": null,
            "height": null,
            "min_height": null,
            "padding": null,
            "grid_auto_rows": null,
            "grid_gap": null,
            "max_width": null,
            "order": null,
            "_view_module_version": "1.2.0",
            "grid_template_areas": null,
            "object_position": null,
            "object_fit": null,
            "grid_auto_columns": null,
            "margin": null,
            "display": null,
            "left": null
          }
        },
        "45fba86383934805a44932ba1dbf2298": {
          "model_module": "@jupyter-widgets/controls",
          "model_name": "IntProgressModel",
          "state": {
            "_view_name": "ProgressView",
            "style": "IPY_MODEL_b27a39949e2848b1b3ee12ea24f117df",
            "_dom_classes": [],
            "description": "Downloading: 100%",
            "_model_name": "IntProgressModel",
            "bar_style": "success",
            "max": 231508,
            "_view_module": "@jupyter-widgets/controls",
            "_model_module_version": "1.5.0",
            "value": 231508,
            "_view_count": null,
            "_view_module_version": "1.5.0",
            "orientation": "horizontal",
            "min": 0,
            "description_tooltip": null,
            "_model_module": "@jupyter-widgets/controls",
            "layout": "IPY_MODEL_d753d3ec4d294cb495230c169a3a209d"
          }
        },
        "bf373de0a22242929364e6260b6eec9c": {
          "model_module": "@jupyter-widgets/controls",
          "model_name": "HTMLModel",
          "state": {
            "_view_name": "HTMLView",
            "style": "IPY_MODEL_0f530e3c27c246648904ed675aca7fc0",
            "_dom_classes": [],
            "description": "",
            "_model_name": "HTMLModel",
            "placeholder": "​",
            "_view_module": "@jupyter-widgets/controls",
            "_model_module_version": "1.5.0",
            "value": " 232k/232k [00:00&lt;00:00, 257kB/s]",
            "_view_count": null,
            "_view_module_version": "1.5.0",
            "description_tooltip": null,
            "_model_module": "@jupyter-widgets/controls",
            "layout": "IPY_MODEL_dfc6bf3a713946d289f4182428313914"
          }
        },
        "b27a39949e2848b1b3ee12ea24f117df": {
          "model_module": "@jupyter-widgets/controls",
          "model_name": "ProgressStyleModel",
          "state": {
            "_view_name": "StyleView",
            "_model_name": "ProgressStyleModel",
            "description_width": "initial",
            "_view_module": "@jupyter-widgets/base",
            "_model_module_version": "1.5.0",
            "_view_count": null,
            "_view_module_version": "1.2.0",
            "bar_color": null,
            "_model_module": "@jupyter-widgets/controls"
          }
        },
        "d753d3ec4d294cb495230c169a3a209d": {
          "model_module": "@jupyter-widgets/base",
          "model_name": "LayoutModel",
          "state": {
            "_view_name": "LayoutView",
            "grid_template_rows": null,
            "right": null,
            "justify_content": null,
            "_view_module": "@jupyter-widgets/base",
            "overflow": null,
            "_model_module_version": "1.2.0",
            "_view_count": null,
            "flex_flow": null,
            "width": null,
            "min_width": null,
            "border": null,
            "align_items": null,
            "bottom": null,
            "_model_module": "@jupyter-widgets/base",
            "top": null,
            "grid_column": null,
            "overflow_y": null,
            "overflow_x": null,
            "grid_auto_flow": null,
            "grid_area": null,
            "grid_template_columns": null,
            "flex": null,
            "_model_name": "LayoutModel",
            "justify_items": null,
            "grid_row": null,
            "max_height": null,
            "align_content": null,
            "visibility": null,
            "align_self": null,
            "height": null,
            "min_height": null,
            "padding": null,
            "grid_auto_rows": null,
            "grid_gap": null,
            "max_width": null,
            "order": null,
            "_view_module_version": "1.2.0",
            "grid_template_areas": null,
            "object_position": null,
            "object_fit": null,
            "grid_auto_columns": null,
            "margin": null,
            "display": null,
            "left": null
          }
        },
        "0f530e3c27c246648904ed675aca7fc0": {
          "model_module": "@jupyter-widgets/controls",
          "model_name": "DescriptionStyleModel",
          "state": {
            "_view_name": "StyleView",
            "_model_name": "DescriptionStyleModel",
            "description_width": "",
            "_view_module": "@jupyter-widgets/base",
            "_model_module_version": "1.5.0",
            "_view_count": null,
            "_view_module_version": "1.2.0",
            "_model_module": "@jupyter-widgets/controls"
          }
        },
        "dfc6bf3a713946d289f4182428313914": {
          "model_module": "@jupyter-widgets/base",
          "model_name": "LayoutModel",
          "state": {
            "_view_name": "LayoutView",
            "grid_template_rows": null,
            "right": null,
            "justify_content": null,
            "_view_module": "@jupyter-widgets/base",
            "overflow": null,
            "_model_module_version": "1.2.0",
            "_view_count": null,
            "flex_flow": null,
            "width": null,
            "min_width": null,
            "border": null,
            "align_items": null,
            "bottom": null,
            "_model_module": "@jupyter-widgets/base",
            "top": null,
            "grid_column": null,
            "overflow_y": null,
            "overflow_x": null,
            "grid_auto_flow": null,
            "grid_area": null,
            "grid_template_columns": null,
            "flex": null,
            "_model_name": "LayoutModel",
            "justify_items": null,
            "grid_row": null,
            "max_height": null,
            "align_content": null,
            "visibility": null,
            "align_self": null,
            "height": null,
            "min_height": null,
            "padding": null,
            "grid_auto_rows": null,
            "grid_gap": null,
            "max_width": null,
            "order": null,
            "_view_module_version": "1.2.0",
            "grid_template_areas": null,
            "object_position": null,
            "object_fit": null,
            "grid_auto_columns": null,
            "margin": null,
            "display": null,
            "left": null
          }
        },
        "dba9e27359fb4a3b9b97a2ab229ed26f": {
          "model_module": "@jupyter-widgets/controls",
          "model_name": "HBoxModel",
          "state": {
            "_view_name": "HBoxView",
            "_dom_classes": [],
            "_model_name": "HBoxModel",
            "_view_module": "@jupyter-widgets/controls",
            "_model_module_version": "1.5.0",
            "_view_count": null,
            "_view_module_version": "1.5.0",
            "box_style": "",
            "layout": "IPY_MODEL_73afb5fbd8564eb1bcb4141b9f263fa1",
            "_model_module": "@jupyter-widgets/controls",
            "children": [
              "IPY_MODEL_8c55020df224450bb3cb98150b47a555",
              "IPY_MODEL_d91aa4f1eca34ec7b126dad9adf0f40b"
            ]
          }
        },
        "73afb5fbd8564eb1bcb4141b9f263fa1": {
          "model_module": "@jupyter-widgets/base",
          "model_name": "LayoutModel",
          "state": {
            "_view_name": "LayoutView",
            "grid_template_rows": null,
            "right": null,
            "justify_content": null,
            "_view_module": "@jupyter-widgets/base",
            "overflow": null,
            "_model_module_version": "1.2.0",
            "_view_count": null,
            "flex_flow": null,
            "width": null,
            "min_width": null,
            "border": null,
            "align_items": null,
            "bottom": null,
            "_model_module": "@jupyter-widgets/base",
            "top": null,
            "grid_column": null,
            "overflow_y": null,
            "overflow_x": null,
            "grid_auto_flow": null,
            "grid_area": null,
            "grid_template_columns": null,
            "flex": null,
            "_model_name": "LayoutModel",
            "justify_items": null,
            "grid_row": null,
            "max_height": null,
            "align_content": null,
            "visibility": null,
            "align_self": null,
            "height": null,
            "min_height": null,
            "padding": null,
            "grid_auto_rows": null,
            "grid_gap": null,
            "max_width": null,
            "order": null,
            "_view_module_version": "1.2.0",
            "grid_template_areas": null,
            "object_position": null,
            "object_fit": null,
            "grid_auto_columns": null,
            "margin": null,
            "display": null,
            "left": null
          }
        },
        "8c55020df224450bb3cb98150b47a555": {
          "model_module": "@jupyter-widgets/controls",
          "model_name": "IntProgressModel",
          "state": {
            "_view_name": "ProgressView",
            "style": "IPY_MODEL_69f6914e6b7a484eb8b5c6ac44214ba1",
            "_dom_classes": [],
            "description": "Downloading: 100%",
            "_model_name": "IntProgressModel",
            "bar_style": "success",
            "max": 433,
            "_view_module": "@jupyter-widgets/controls",
            "_model_module_version": "1.5.0",
            "value": 433,
            "_view_count": null,
            "_view_module_version": "1.5.0",
            "orientation": "horizontal",
            "min": 0,
            "description_tooltip": null,
            "_model_module": "@jupyter-widgets/controls",
            "layout": "IPY_MODEL_78913aeb538d42afa8e2ea7dae1d8f20"
          }
        },
        "d91aa4f1eca34ec7b126dad9adf0f40b": {
          "model_module": "@jupyter-widgets/controls",
          "model_name": "HTMLModel",
          "state": {
            "_view_name": "HTMLView",
            "style": "IPY_MODEL_911651efea2c4bd4a22c0dbcec1b064e",
            "_dom_classes": [],
            "description": "",
            "_model_name": "HTMLModel",
            "placeholder": "​",
            "_view_module": "@jupyter-widgets/controls",
            "_model_module_version": "1.5.0",
            "value": " 433/433 [00:39&lt;00:00, 10.9B/s]",
            "_view_count": null,
            "_view_module_version": "1.5.0",
            "description_tooltip": null,
            "_model_module": "@jupyter-widgets/controls",
            "layout": "IPY_MODEL_3977a9a9d03d4990a975e094e0b6641b"
          }
        },
        "69f6914e6b7a484eb8b5c6ac44214ba1": {
          "model_module": "@jupyter-widgets/controls",
          "model_name": "ProgressStyleModel",
          "state": {
            "_view_name": "StyleView",
            "_model_name": "ProgressStyleModel",
            "description_width": "initial",
            "_view_module": "@jupyter-widgets/base",
            "_model_module_version": "1.5.0",
            "_view_count": null,
            "_view_module_version": "1.2.0",
            "bar_color": null,
            "_model_module": "@jupyter-widgets/controls"
          }
        },
        "78913aeb538d42afa8e2ea7dae1d8f20": {
          "model_module": "@jupyter-widgets/base",
          "model_name": "LayoutModel",
          "state": {
            "_view_name": "LayoutView",
            "grid_template_rows": null,
            "right": null,
            "justify_content": null,
            "_view_module": "@jupyter-widgets/base",
            "overflow": null,
            "_model_module_version": "1.2.0",
            "_view_count": null,
            "flex_flow": null,
            "width": null,
            "min_width": null,
            "border": null,
            "align_items": null,
            "bottom": null,
            "_model_module": "@jupyter-widgets/base",
            "top": null,
            "grid_column": null,
            "overflow_y": null,
            "overflow_x": null,
            "grid_auto_flow": null,
            "grid_area": null,
            "grid_template_columns": null,
            "flex": null,
            "_model_name": "LayoutModel",
            "justify_items": null,
            "grid_row": null,
            "max_height": null,
            "align_content": null,
            "visibility": null,
            "align_self": null,
            "height": null,
            "min_height": null,
            "padding": null,
            "grid_auto_rows": null,
            "grid_gap": null,
            "max_width": null,
            "order": null,
            "_view_module_version": "1.2.0",
            "grid_template_areas": null,
            "object_position": null,
            "object_fit": null,
            "grid_auto_columns": null,
            "margin": null,
            "display": null,
            "left": null
          }
        },
        "911651efea2c4bd4a22c0dbcec1b064e": {
          "model_module": "@jupyter-widgets/controls",
          "model_name": "DescriptionStyleModel",
          "state": {
            "_view_name": "StyleView",
            "_model_name": "DescriptionStyleModel",
            "description_width": "",
            "_view_module": "@jupyter-widgets/base",
            "_model_module_version": "1.5.0",
            "_view_count": null,
            "_view_module_version": "1.2.0",
            "_model_module": "@jupyter-widgets/controls"
          }
        },
        "3977a9a9d03d4990a975e094e0b6641b": {
          "model_module": "@jupyter-widgets/base",
          "model_name": "LayoutModel",
          "state": {
            "_view_name": "LayoutView",
            "grid_template_rows": null,
            "right": null,
            "justify_content": null,
            "_view_module": "@jupyter-widgets/base",
            "overflow": null,
            "_model_module_version": "1.2.0",
            "_view_count": null,
            "flex_flow": null,
            "width": null,
            "min_width": null,
            "border": null,
            "align_items": null,
            "bottom": null,
            "_model_module": "@jupyter-widgets/base",
            "top": null,
            "grid_column": null,
            "overflow_y": null,
            "overflow_x": null,
            "grid_auto_flow": null,
            "grid_area": null,
            "grid_template_columns": null,
            "flex": null,
            "_model_name": "LayoutModel",
            "justify_items": null,
            "grid_row": null,
            "max_height": null,
            "align_content": null,
            "visibility": null,
            "align_self": null,
            "height": null,
            "min_height": null,
            "padding": null,
            "grid_auto_rows": null,
            "grid_gap": null,
            "max_width": null,
            "order": null,
            "_view_module_version": "1.2.0",
            "grid_template_areas": null,
            "object_position": null,
            "object_fit": null,
            "grid_auto_columns": null,
            "margin": null,
            "display": null,
            "left": null
          }
        },
        "85be8ffa028b4a1cba8c8c98159b4ebe": {
          "model_module": "@jupyter-widgets/controls",
          "model_name": "HBoxModel",
          "state": {
            "_view_name": "HBoxView",
            "_dom_classes": [],
            "_model_name": "HBoxModel",
            "_view_module": "@jupyter-widgets/controls",
            "_model_module_version": "1.5.0",
            "_view_count": null,
            "_view_module_version": "1.5.0",
            "box_style": "",
            "layout": "IPY_MODEL_f8ed548353864ac5871a5b679b869869",
            "_model_module": "@jupyter-widgets/controls",
            "children": [
              "IPY_MODEL_9a1737d2e6594ec0adc1689e3f033a6e",
              "IPY_MODEL_52f5ed09ceb840ac8224babe5283a3c8"
            ]
          }
        },
        "f8ed548353864ac5871a5b679b869869": {
          "model_module": "@jupyter-widgets/base",
          "model_name": "LayoutModel",
          "state": {
            "_view_name": "LayoutView",
            "grid_template_rows": null,
            "right": null,
            "justify_content": null,
            "_view_module": "@jupyter-widgets/base",
            "overflow": null,
            "_model_module_version": "1.2.0",
            "_view_count": null,
            "flex_flow": null,
            "width": null,
            "min_width": null,
            "border": null,
            "align_items": null,
            "bottom": null,
            "_model_module": "@jupyter-widgets/base",
            "top": null,
            "grid_column": null,
            "overflow_y": null,
            "overflow_x": null,
            "grid_auto_flow": null,
            "grid_area": null,
            "grid_template_columns": null,
            "flex": null,
            "_model_name": "LayoutModel",
            "justify_items": null,
            "grid_row": null,
            "max_height": null,
            "align_content": null,
            "visibility": null,
            "align_self": null,
            "height": null,
            "min_height": null,
            "padding": null,
            "grid_auto_rows": null,
            "grid_gap": null,
            "max_width": null,
            "order": null,
            "_view_module_version": "1.2.0",
            "grid_template_areas": null,
            "object_position": null,
            "object_fit": null,
            "grid_auto_columns": null,
            "margin": null,
            "display": null,
            "left": null
          }
        },
        "9a1737d2e6594ec0adc1689e3f033a6e": {
          "model_module": "@jupyter-widgets/controls",
          "model_name": "IntProgressModel",
          "state": {
            "_view_name": "ProgressView",
            "style": "IPY_MODEL_c7a41270813146dba08fd0d9d82cf0ef",
            "_dom_classes": [],
            "description": "Downloading: 100%",
            "_model_name": "IntProgressModel",
            "bar_style": "success",
            "max": 440473133,
            "_view_module": "@jupyter-widgets/controls",
            "_model_module_version": "1.5.0",
            "value": 440473133,
            "_view_count": null,
            "_view_module_version": "1.5.0",
            "orientation": "horizontal",
            "min": 0,
            "description_tooltip": null,
            "_model_module": "@jupyter-widgets/controls",
            "layout": "IPY_MODEL_daa1f516b8e74d5a98ec6860394669c3"
          }
        },
        "52f5ed09ceb840ac8224babe5283a3c8": {
          "model_module": "@jupyter-widgets/controls",
          "model_name": "HTMLModel",
          "state": {
            "_view_name": "HTMLView",
            "style": "IPY_MODEL_cbba9418bfdc4033a1bc8f78ce274593",
            "_dom_classes": [],
            "description": "",
            "_model_name": "HTMLModel",
            "placeholder": "​",
            "_view_module": "@jupyter-widgets/controls",
            "_model_module_version": "1.5.0",
            "value": " 440M/440M [00:37&lt;00:00, 11.7MB/s]",
            "_view_count": null,
            "_view_module_version": "1.5.0",
            "description_tooltip": null,
            "_model_module": "@jupyter-widgets/controls",
            "layout": "IPY_MODEL_007a400bf5c64745824c5a5fa71984dd"
          }
        },
        "c7a41270813146dba08fd0d9d82cf0ef": {
          "model_module": "@jupyter-widgets/controls",
          "model_name": "ProgressStyleModel",
          "state": {
            "_view_name": "StyleView",
            "_model_name": "ProgressStyleModel",
            "description_width": "initial",
            "_view_module": "@jupyter-widgets/base",
            "_model_module_version": "1.5.0",
            "_view_count": null,
            "_view_module_version": "1.2.0",
            "bar_color": null,
            "_model_module": "@jupyter-widgets/controls"
          }
        },
        "daa1f516b8e74d5a98ec6860394669c3": {
          "model_module": "@jupyter-widgets/base",
          "model_name": "LayoutModel",
          "state": {
            "_view_name": "LayoutView",
            "grid_template_rows": null,
            "right": null,
            "justify_content": null,
            "_view_module": "@jupyter-widgets/base",
            "overflow": null,
            "_model_module_version": "1.2.0",
            "_view_count": null,
            "flex_flow": null,
            "width": null,
            "min_width": null,
            "border": null,
            "align_items": null,
            "bottom": null,
            "_model_module": "@jupyter-widgets/base",
            "top": null,
            "grid_column": null,
            "overflow_y": null,
            "overflow_x": null,
            "grid_auto_flow": null,
            "grid_area": null,
            "grid_template_columns": null,
            "flex": null,
            "_model_name": "LayoutModel",
            "justify_items": null,
            "grid_row": null,
            "max_height": null,
            "align_content": null,
            "visibility": null,
            "align_self": null,
            "height": null,
            "min_height": null,
            "padding": null,
            "grid_auto_rows": null,
            "grid_gap": null,
            "max_width": null,
            "order": null,
            "_view_module_version": "1.2.0",
            "grid_template_areas": null,
            "object_position": null,
            "object_fit": null,
            "grid_auto_columns": null,
            "margin": null,
            "display": null,
            "left": null
          }
        },
        "cbba9418bfdc4033a1bc8f78ce274593": {
          "model_module": "@jupyter-widgets/controls",
          "model_name": "DescriptionStyleModel",
          "state": {
            "_view_name": "StyleView",
            "_model_name": "DescriptionStyleModel",
            "description_width": "",
            "_view_module": "@jupyter-widgets/base",
            "_model_module_version": "1.5.0",
            "_view_count": null,
            "_view_module_version": "1.2.0",
            "_model_module": "@jupyter-widgets/controls"
          }
        },
        "007a400bf5c64745824c5a5fa71984dd": {
          "model_module": "@jupyter-widgets/base",
          "model_name": "LayoutModel",
          "state": {
            "_view_name": "LayoutView",
            "grid_template_rows": null,
            "right": null,
            "justify_content": null,
            "_view_module": "@jupyter-widgets/base",
            "overflow": null,
            "_model_module_version": "1.2.0",
            "_view_count": null,
            "flex_flow": null,
            "width": null,
            "min_width": null,
            "border": null,
            "align_items": null,
            "bottom": null,
            "_model_module": "@jupyter-widgets/base",
            "top": null,
            "grid_column": null,
            "overflow_y": null,
            "overflow_x": null,
            "grid_auto_flow": null,
            "grid_area": null,
            "grid_template_columns": null,
            "flex": null,
            "_model_name": "LayoutModel",
            "justify_items": null,
            "grid_row": null,
            "max_height": null,
            "align_content": null,
            "visibility": null,
            "align_self": null,
            "height": null,
            "min_height": null,
            "padding": null,
            "grid_auto_rows": null,
            "grid_gap": null,
            "max_width": null,
            "order": null,
            "_view_module_version": "1.2.0",
            "grid_template_areas": null,
            "object_position": null,
            "object_fit": null,
            "grid_auto_columns": null,
            "margin": null,
            "display": null,
            "left": null
          }
        },
        "c0c985695dc5484caecb975fca582af6": {
          "model_module": "@jupyter-widgets/controls",
          "model_name": "HBoxModel",
          "state": {
            "_view_name": "HBoxView",
            "_dom_classes": [],
            "_model_name": "HBoxModel",
            "_view_module": "@jupyter-widgets/controls",
            "_model_module_version": "1.5.0",
            "_view_count": null,
            "_view_module_version": "1.5.0",
            "box_style": "",
            "layout": "IPY_MODEL_85fb3a8c741b4f2fabbc699d72e9bb20",
            "_model_module": "@jupyter-widgets/controls",
            "children": [
              "IPY_MODEL_4511c009e4964e4c8329a7c98ba427b2",
              "IPY_MODEL_469c0b2276284a45ba947b5cfcd5fd5f"
            ]
          }
        },
        "85fb3a8c741b4f2fabbc699d72e9bb20": {
          "model_module": "@jupyter-widgets/base",
          "model_name": "LayoutModel",
          "state": {
            "_view_name": "LayoutView",
            "grid_template_rows": null,
            "right": null,
            "justify_content": null,
            "_view_module": "@jupyter-widgets/base",
            "overflow": null,
            "_model_module_version": "1.2.0",
            "_view_count": null,
            "flex_flow": null,
            "width": null,
            "min_width": null,
            "border": null,
            "align_items": null,
            "bottom": null,
            "_model_module": "@jupyter-widgets/base",
            "top": null,
            "grid_column": null,
            "overflow_y": null,
            "overflow_x": null,
            "grid_auto_flow": null,
            "grid_area": null,
            "grid_template_columns": null,
            "flex": null,
            "_model_name": "LayoutModel",
            "justify_items": null,
            "grid_row": null,
            "max_height": null,
            "align_content": null,
            "visibility": null,
            "align_self": null,
            "height": null,
            "min_height": null,
            "padding": null,
            "grid_auto_rows": null,
            "grid_gap": null,
            "max_width": null,
            "order": null,
            "_view_module_version": "1.2.0",
            "grid_template_areas": null,
            "object_position": null,
            "object_fit": null,
            "grid_auto_columns": null,
            "margin": null,
            "display": null,
            "left": null
          }
        },
        "4511c009e4964e4c8329a7c98ba427b2": {
          "model_module": "@jupyter-widgets/controls",
          "model_name": "IntProgressModel",
          "state": {
            "_view_name": "ProgressView",
            "style": "IPY_MODEL_1481a1fc77e54bc9add5ba5b88771079",
            "_dom_classes": [],
            "description": "100%",
            "_model_name": "IntProgressModel",
            "bar_style": "success",
            "max": 9427,
            "_view_module": "@jupyter-widgets/controls",
            "_model_module_version": "1.5.0",
            "value": 9427,
            "_view_count": null,
            "_view_module_version": "1.5.0",
            "orientation": "horizontal",
            "min": 0,
            "description_tooltip": null,
            "_model_module": "@jupyter-widgets/controls",
            "layout": "IPY_MODEL_5c95801f299b40baab6379b01e73b995"
          }
        },
        "469c0b2276284a45ba947b5cfcd5fd5f": {
          "model_module": "@jupyter-widgets/controls",
          "model_name": "HTMLModel",
          "state": {
            "_view_name": "HTMLView",
            "style": "IPY_MODEL_079a0a918d1747f9bcfaee4914db9920",
            "_dom_classes": [],
            "description": "",
            "_model_name": "HTMLModel",
            "placeholder": "​",
            "_view_module": "@jupyter-widgets/controls",
            "_model_module_version": "1.5.0",
            "value": " 9427/9427 [02:52&lt;00:00, 54.60it/s]",
            "_view_count": null,
            "_view_module_version": "1.5.0",
            "description_tooltip": null,
            "_model_module": "@jupyter-widgets/controls",
            "layout": "IPY_MODEL_322d0d69a831447b94dfc373c322836c"
          }
        },
        "1481a1fc77e54bc9add5ba5b88771079": {
          "model_module": "@jupyter-widgets/controls",
          "model_name": "ProgressStyleModel",
          "state": {
            "_view_name": "StyleView",
            "_model_name": "ProgressStyleModel",
            "description_width": "initial",
            "_view_module": "@jupyter-widgets/base",
            "_model_module_version": "1.5.0",
            "_view_count": null,
            "_view_module_version": "1.2.0",
            "bar_color": null,
            "_model_module": "@jupyter-widgets/controls"
          }
        },
        "5c95801f299b40baab6379b01e73b995": {
          "model_module": "@jupyter-widgets/base",
          "model_name": "LayoutModel",
          "state": {
            "_view_name": "LayoutView",
            "grid_template_rows": null,
            "right": null,
            "justify_content": null,
            "_view_module": "@jupyter-widgets/base",
            "overflow": null,
            "_model_module_version": "1.2.0",
            "_view_count": null,
            "flex_flow": null,
            "width": null,
            "min_width": null,
            "border": null,
            "align_items": null,
            "bottom": null,
            "_model_module": "@jupyter-widgets/base",
            "top": null,
            "grid_column": null,
            "overflow_y": null,
            "overflow_x": null,
            "grid_auto_flow": null,
            "grid_area": null,
            "grid_template_columns": null,
            "flex": null,
            "_model_name": "LayoutModel",
            "justify_items": null,
            "grid_row": null,
            "max_height": null,
            "align_content": null,
            "visibility": null,
            "align_self": null,
            "height": null,
            "min_height": null,
            "padding": null,
            "grid_auto_rows": null,
            "grid_gap": null,
            "max_width": null,
            "order": null,
            "_view_module_version": "1.2.0",
            "grid_template_areas": null,
            "object_position": null,
            "object_fit": null,
            "grid_auto_columns": null,
            "margin": null,
            "display": null,
            "left": null
          }
        },
        "079a0a918d1747f9bcfaee4914db9920": {
          "model_module": "@jupyter-widgets/controls",
          "model_name": "DescriptionStyleModel",
          "state": {
            "_view_name": "StyleView",
            "_model_name": "DescriptionStyleModel",
            "description_width": "",
            "_view_module": "@jupyter-widgets/base",
            "_model_module_version": "1.5.0",
            "_view_count": null,
            "_view_module_version": "1.2.0",
            "_model_module": "@jupyter-widgets/controls"
          }
        },
        "322d0d69a831447b94dfc373c322836c": {
          "model_module": "@jupyter-widgets/base",
          "model_name": "LayoutModel",
          "state": {
            "_view_name": "LayoutView",
            "grid_template_rows": null,
            "right": null,
            "justify_content": null,
            "_view_module": "@jupyter-widgets/base",
            "overflow": null,
            "_model_module_version": "1.2.0",
            "_view_count": null,
            "flex_flow": null,
            "width": null,
            "min_width": null,
            "border": null,
            "align_items": null,
            "bottom": null,
            "_model_module": "@jupyter-widgets/base",
            "top": null,
            "grid_column": null,
            "overflow_y": null,
            "overflow_x": null,
            "grid_auto_flow": null,
            "grid_area": null,
            "grid_template_columns": null,
            "flex": null,
            "_model_name": "LayoutModel",
            "justify_items": null,
            "grid_row": null,
            "max_height": null,
            "align_content": null,
            "visibility": null,
            "align_self": null,
            "height": null,
            "min_height": null,
            "padding": null,
            "grid_auto_rows": null,
            "grid_gap": null,
            "max_width": null,
            "order": null,
            "_view_module_version": "1.2.0",
            "grid_template_areas": null,
            "object_position": null,
            "object_fit": null,
            "grid_auto_columns": null,
            "margin": null,
            "display": null,
            "left": null
          }
        },
        "f2b68df016c54bdab3868147dd5addd0": {
          "model_module": "@jupyter-widgets/controls",
          "model_name": "HBoxModel",
          "state": {
            "_view_name": "HBoxView",
            "_dom_classes": [],
            "_model_name": "HBoxModel",
            "_view_module": "@jupyter-widgets/controls",
            "_model_module_version": "1.5.0",
            "_view_count": null,
            "_view_module_version": "1.5.0",
            "box_style": "",
            "layout": "IPY_MODEL_7149ba0f1c1149cd9f920e1acaa68c70",
            "_model_module": "@jupyter-widgets/controls",
            "children": [
              "IPY_MODEL_e48c0880165a4c39ba144381c913af2c",
              "IPY_MODEL_82e3a64ace9d4c029050a03333590f26"
            ]
          }
        },
        "7149ba0f1c1149cd9f920e1acaa68c70": {
          "model_module": "@jupyter-widgets/base",
          "model_name": "LayoutModel",
          "state": {
            "_view_name": "LayoutView",
            "grid_template_rows": null,
            "right": null,
            "justify_content": null,
            "_view_module": "@jupyter-widgets/base",
            "overflow": null,
            "_model_module_version": "1.2.0",
            "_view_count": null,
            "flex_flow": null,
            "width": null,
            "min_width": null,
            "border": null,
            "align_items": null,
            "bottom": null,
            "_model_module": "@jupyter-widgets/base",
            "top": null,
            "grid_column": null,
            "overflow_y": null,
            "overflow_x": null,
            "grid_auto_flow": null,
            "grid_area": null,
            "grid_template_columns": null,
            "flex": null,
            "_model_name": "LayoutModel",
            "justify_items": null,
            "grid_row": null,
            "max_height": null,
            "align_content": null,
            "visibility": null,
            "align_self": null,
            "height": null,
            "min_height": null,
            "padding": null,
            "grid_auto_rows": null,
            "grid_gap": null,
            "max_width": null,
            "order": null,
            "_view_module_version": "1.2.0",
            "grid_template_areas": null,
            "object_position": null,
            "object_fit": null,
            "grid_auto_columns": null,
            "margin": null,
            "display": null,
            "left": null
          }
        },
        "e48c0880165a4c39ba144381c913af2c": {
          "model_module": "@jupyter-widgets/controls",
          "model_name": "IntProgressModel",
          "state": {
            "_view_name": "ProgressView",
            "style": "IPY_MODEL_0aea2eeba12944a8955cdd28f68e9d97",
            "_dom_classes": [],
            "description": "100%",
            "_model_name": "IntProgressModel",
            "bar_style": "success",
            "max": 9427,
            "_view_module": "@jupyter-widgets/controls",
            "_model_module_version": "1.5.0",
            "value": 9427,
            "_view_count": null,
            "_view_module_version": "1.5.0",
            "orientation": "horizontal",
            "min": 0,
            "description_tooltip": null,
            "_model_module": "@jupyter-widgets/controls",
            "layout": "IPY_MODEL_0ab8f58d2e6e4a86a91f8e51a6944dca"
          }
        },
        "82e3a64ace9d4c029050a03333590f26": {
          "model_module": "@jupyter-widgets/controls",
          "model_name": "HTMLModel",
          "state": {
            "_view_name": "HTMLView",
            "style": "IPY_MODEL_ec5a36edf84d497194449e294b0c50b6",
            "_dom_classes": [],
            "description": "",
            "_model_name": "HTMLModel",
            "placeholder": "​",
            "_view_module": "@jupyter-widgets/controls",
            "_model_module_version": "1.5.0",
            "value": " 9427/9427 [05:30&lt;00:00, 28.56it/s]",
            "_view_count": null,
            "_view_module_version": "1.5.0",
            "description_tooltip": null,
            "_model_module": "@jupyter-widgets/controls",
            "layout": "IPY_MODEL_df11a2f6fd1d4840912ec9d7abae8f77"
          }
        },
        "0aea2eeba12944a8955cdd28f68e9d97": {
          "model_module": "@jupyter-widgets/controls",
          "model_name": "ProgressStyleModel",
          "state": {
            "_view_name": "StyleView",
            "_model_name": "ProgressStyleModel",
            "description_width": "initial",
            "_view_module": "@jupyter-widgets/base",
            "_model_module_version": "1.5.0",
            "_view_count": null,
            "_view_module_version": "1.2.0",
            "bar_color": null,
            "_model_module": "@jupyter-widgets/controls"
          }
        },
        "0ab8f58d2e6e4a86a91f8e51a6944dca": {
          "model_module": "@jupyter-widgets/base",
          "model_name": "LayoutModel",
          "state": {
            "_view_name": "LayoutView",
            "grid_template_rows": null,
            "right": null,
            "justify_content": null,
            "_view_module": "@jupyter-widgets/base",
            "overflow": null,
            "_model_module_version": "1.2.0",
            "_view_count": null,
            "flex_flow": null,
            "width": null,
            "min_width": null,
            "border": null,
            "align_items": null,
            "bottom": null,
            "_model_module": "@jupyter-widgets/base",
            "top": null,
            "grid_column": null,
            "overflow_y": null,
            "overflow_x": null,
            "grid_auto_flow": null,
            "grid_area": null,
            "grid_template_columns": null,
            "flex": null,
            "_model_name": "LayoutModel",
            "justify_items": null,
            "grid_row": null,
            "max_height": null,
            "align_content": null,
            "visibility": null,
            "align_self": null,
            "height": null,
            "min_height": null,
            "padding": null,
            "grid_auto_rows": null,
            "grid_gap": null,
            "max_width": null,
            "order": null,
            "_view_module_version": "1.2.0",
            "grid_template_areas": null,
            "object_position": null,
            "object_fit": null,
            "grid_auto_columns": null,
            "margin": null,
            "display": null,
            "left": null
          }
        },
        "ec5a36edf84d497194449e294b0c50b6": {
          "model_module": "@jupyter-widgets/controls",
          "model_name": "DescriptionStyleModel",
          "state": {
            "_view_name": "StyleView",
            "_model_name": "DescriptionStyleModel",
            "description_width": "",
            "_view_module": "@jupyter-widgets/base",
            "_model_module_version": "1.5.0",
            "_view_count": null,
            "_view_module_version": "1.2.0",
            "_model_module": "@jupyter-widgets/controls"
          }
        },
        "df11a2f6fd1d4840912ec9d7abae8f77": {
          "model_module": "@jupyter-widgets/base",
          "model_name": "LayoutModel",
          "state": {
            "_view_name": "LayoutView",
            "grid_template_rows": null,
            "right": null,
            "justify_content": null,
            "_view_module": "@jupyter-widgets/base",
            "overflow": null,
            "_model_module_version": "1.2.0",
            "_view_count": null,
            "flex_flow": null,
            "width": null,
            "min_width": null,
            "border": null,
            "align_items": null,
            "bottom": null,
            "_model_module": "@jupyter-widgets/base",
            "top": null,
            "grid_column": null,
            "overflow_y": null,
            "overflow_x": null,
            "grid_auto_flow": null,
            "grid_area": null,
            "grid_template_columns": null,
            "flex": null,
            "_model_name": "LayoutModel",
            "justify_items": null,
            "grid_row": null,
            "max_height": null,
            "align_content": null,
            "visibility": null,
            "align_self": null,
            "height": null,
            "min_height": null,
            "padding": null,
            "grid_auto_rows": null,
            "grid_gap": null,
            "max_width": null,
            "order": null,
            "_view_module_version": "1.2.0",
            "grid_template_areas": null,
            "object_position": null,
            "object_fit": null,
            "grid_auto_columns": null,
            "margin": null,
            "display": null,
            "left": null
          }
        },
        "7264a2d6e0dc402aa41225749f4197f0": {
          "model_module": "@jupyter-widgets/controls",
          "model_name": "HBoxModel",
          "state": {
            "_view_name": "HBoxView",
            "_dom_classes": [],
            "_model_name": "HBoxModel",
            "_view_module": "@jupyter-widgets/controls",
            "_model_module_version": "1.5.0",
            "_view_count": null,
            "_view_module_version": "1.5.0",
            "box_style": "",
            "layout": "IPY_MODEL_e27faa4e33dd4138b53fb10295811f0b",
            "_model_module": "@jupyter-widgets/controls",
            "children": [
              "IPY_MODEL_9d830afd2ac6456e844fd53e425410bb",
              "IPY_MODEL_c59f261712bc412b8fe12471224c8c27"
            ]
          }
        },
        "e27faa4e33dd4138b53fb10295811f0b": {
          "model_module": "@jupyter-widgets/base",
          "model_name": "LayoutModel",
          "state": {
            "_view_name": "LayoutView",
            "grid_template_rows": null,
            "right": null,
            "justify_content": null,
            "_view_module": "@jupyter-widgets/base",
            "overflow": null,
            "_model_module_version": "1.2.0",
            "_view_count": null,
            "flex_flow": null,
            "width": null,
            "min_width": null,
            "border": null,
            "align_items": null,
            "bottom": null,
            "_model_module": "@jupyter-widgets/base",
            "top": null,
            "grid_column": null,
            "overflow_y": null,
            "overflow_x": null,
            "grid_auto_flow": null,
            "grid_area": null,
            "grid_template_columns": null,
            "flex": null,
            "_model_name": "LayoutModel",
            "justify_items": null,
            "grid_row": null,
            "max_height": null,
            "align_content": null,
            "visibility": null,
            "align_self": null,
            "height": null,
            "min_height": null,
            "padding": null,
            "grid_auto_rows": null,
            "grid_gap": null,
            "max_width": null,
            "order": null,
            "_view_module_version": "1.2.0",
            "grid_template_areas": null,
            "object_position": null,
            "object_fit": null,
            "grid_auto_columns": null,
            "margin": null,
            "display": null,
            "left": null
          }
        },
        "9d830afd2ac6456e844fd53e425410bb": {
          "model_module": "@jupyter-widgets/controls",
          "model_name": "IntProgressModel",
          "state": {
            "_view_name": "ProgressView",
            "style": "IPY_MODEL_14979d17aabc42d883d8a8b62e85725e",
            "_dom_classes": [],
            "description": "100%",
            "_model_name": "IntProgressModel",
            "bar_style": "success",
            "max": 3270,
            "_view_module": "@jupyter-widgets/controls",
            "_model_module_version": "1.5.0",
            "value": 3270,
            "_view_count": null,
            "_view_module_version": "1.5.0",
            "orientation": "horizontal",
            "min": 0,
            "description_tooltip": null,
            "_model_module": "@jupyter-widgets/controls",
            "layout": "IPY_MODEL_068123d05cf54d4bb22d714e04d5fc28"
          }
        },
        "c59f261712bc412b8fe12471224c8c27": {
          "model_module": "@jupyter-widgets/controls",
          "model_name": "HTMLModel",
          "state": {
            "_view_name": "HTMLView",
            "style": "IPY_MODEL_ba0d574d37c54f6abedd9442fbd85d32",
            "_dom_classes": [],
            "description": "",
            "_model_name": "HTMLModel",
            "placeholder": "​",
            "_view_module": "@jupyter-widgets/controls",
            "_model_module_version": "1.5.0",
            "value": " 3270/3270 [00:57&lt;00:00, 56.40it/s]",
            "_view_count": null,
            "_view_module_version": "1.5.0",
            "description_tooltip": null,
            "_model_module": "@jupyter-widgets/controls",
            "layout": "IPY_MODEL_db86340f027c4b479536ff50af38aac6"
          }
        },
        "14979d17aabc42d883d8a8b62e85725e": {
          "model_module": "@jupyter-widgets/controls",
          "model_name": "ProgressStyleModel",
          "state": {
            "_view_name": "StyleView",
            "_model_name": "ProgressStyleModel",
            "description_width": "initial",
            "_view_module": "@jupyter-widgets/base",
            "_model_module_version": "1.5.0",
            "_view_count": null,
            "_view_module_version": "1.2.0",
            "bar_color": null,
            "_model_module": "@jupyter-widgets/controls"
          }
        },
        "068123d05cf54d4bb22d714e04d5fc28": {
          "model_module": "@jupyter-widgets/base",
          "model_name": "LayoutModel",
          "state": {
            "_view_name": "LayoutView",
            "grid_template_rows": null,
            "right": null,
            "justify_content": null,
            "_view_module": "@jupyter-widgets/base",
            "overflow": null,
            "_model_module_version": "1.2.0",
            "_view_count": null,
            "flex_flow": null,
            "width": null,
            "min_width": null,
            "border": null,
            "align_items": null,
            "bottom": null,
            "_model_module": "@jupyter-widgets/base",
            "top": null,
            "grid_column": null,
            "overflow_y": null,
            "overflow_x": null,
            "grid_auto_flow": null,
            "grid_area": null,
            "grid_template_columns": null,
            "flex": null,
            "_model_name": "LayoutModel",
            "justify_items": null,
            "grid_row": null,
            "max_height": null,
            "align_content": null,
            "visibility": null,
            "align_self": null,
            "height": null,
            "min_height": null,
            "padding": null,
            "grid_auto_rows": null,
            "grid_gap": null,
            "max_width": null,
            "order": null,
            "_view_module_version": "1.2.0",
            "grid_template_areas": null,
            "object_position": null,
            "object_fit": null,
            "grid_auto_columns": null,
            "margin": null,
            "display": null,
            "left": null
          }
        },
        "ba0d574d37c54f6abedd9442fbd85d32": {
          "model_module": "@jupyter-widgets/controls",
          "model_name": "DescriptionStyleModel",
          "state": {
            "_view_name": "StyleView",
            "_model_name": "DescriptionStyleModel",
            "description_width": "",
            "_view_module": "@jupyter-widgets/base",
            "_model_module_version": "1.5.0",
            "_view_count": null,
            "_view_module_version": "1.2.0",
            "_model_module": "@jupyter-widgets/controls"
          }
        },
        "db86340f027c4b479536ff50af38aac6": {
          "model_module": "@jupyter-widgets/base",
          "model_name": "LayoutModel",
          "state": {
            "_view_name": "LayoutView",
            "grid_template_rows": null,
            "right": null,
            "justify_content": null,
            "_view_module": "@jupyter-widgets/base",
            "overflow": null,
            "_model_module_version": "1.2.0",
            "_view_count": null,
            "flex_flow": null,
            "width": null,
            "min_width": null,
            "border": null,
            "align_items": null,
            "bottom": null,
            "_model_module": "@jupyter-widgets/base",
            "top": null,
            "grid_column": null,
            "overflow_y": null,
            "overflow_x": null,
            "grid_auto_flow": null,
            "grid_area": null,
            "grid_template_columns": null,
            "flex": null,
            "_model_name": "LayoutModel",
            "justify_items": null,
            "grid_row": null,
            "max_height": null,
            "align_content": null,
            "visibility": null,
            "align_self": null,
            "height": null,
            "min_height": null,
            "padding": null,
            "grid_auto_rows": null,
            "grid_gap": null,
            "max_width": null,
            "order": null,
            "_view_module_version": "1.2.0",
            "grid_template_areas": null,
            "object_position": null,
            "object_fit": null,
            "grid_auto_columns": null,
            "margin": null,
            "display": null,
            "left": null
          }
        },
        "bccfb0f7450c41b980b3d9e8ecbdc11f": {
          "model_module": "@jupyter-widgets/controls",
          "model_name": "HBoxModel",
          "state": {
            "_view_name": "HBoxView",
            "_dom_classes": [],
            "_model_name": "HBoxModel",
            "_view_module": "@jupyter-widgets/controls",
            "_model_module_version": "1.5.0",
            "_view_count": null,
            "_view_module_version": "1.5.0",
            "box_style": "",
            "layout": "IPY_MODEL_bd0b47e8fa9e4059a5e9d13f08725235",
            "_model_module": "@jupyter-widgets/controls",
            "children": [
              "IPY_MODEL_0be970e8660b4c7e8caa504b6469a161",
              "IPY_MODEL_67c661ce778a46208781ec694c006cb9"
            ]
          }
        },
        "bd0b47e8fa9e4059a5e9d13f08725235": {
          "model_module": "@jupyter-widgets/base",
          "model_name": "LayoutModel",
          "state": {
            "_view_name": "LayoutView",
            "grid_template_rows": null,
            "right": null,
            "justify_content": null,
            "_view_module": "@jupyter-widgets/base",
            "overflow": null,
            "_model_module_version": "1.2.0",
            "_view_count": null,
            "flex_flow": null,
            "width": null,
            "min_width": null,
            "border": null,
            "align_items": null,
            "bottom": null,
            "_model_module": "@jupyter-widgets/base",
            "top": null,
            "grid_column": null,
            "overflow_y": null,
            "overflow_x": null,
            "grid_auto_flow": null,
            "grid_area": null,
            "grid_template_columns": null,
            "flex": null,
            "_model_name": "LayoutModel",
            "justify_items": null,
            "grid_row": null,
            "max_height": null,
            "align_content": null,
            "visibility": null,
            "align_self": null,
            "height": null,
            "min_height": null,
            "padding": null,
            "grid_auto_rows": null,
            "grid_gap": null,
            "max_width": null,
            "order": null,
            "_view_module_version": "1.2.0",
            "grid_template_areas": null,
            "object_position": null,
            "object_fit": null,
            "grid_auto_columns": null,
            "margin": null,
            "display": null,
            "left": null
          }
        },
        "0be970e8660b4c7e8caa504b6469a161": {
          "model_module": "@jupyter-widgets/controls",
          "model_name": "IntProgressModel",
          "state": {
            "_view_name": "ProgressView",
            "style": "IPY_MODEL_771f941145c64bc6b9b89f8534941521",
            "_dom_classes": [],
            "description": "100%",
            "_model_name": "IntProgressModel",
            "bar_style": "success",
            "max": 3270,
            "_view_module": "@jupyter-widgets/controls",
            "_model_module_version": "1.5.0",
            "value": 3270,
            "_view_count": null,
            "_view_module_version": "1.5.0",
            "orientation": "horizontal",
            "min": 0,
            "description_tooltip": null,
            "_model_module": "@jupyter-widgets/controls",
            "layout": "IPY_MODEL_d7b0c51b99984eaea41d6b8f9c36259b"
          }
        },
        "67c661ce778a46208781ec694c006cb9": {
          "model_module": "@jupyter-widgets/controls",
          "model_name": "HTMLModel",
          "state": {
            "_view_name": "HTMLView",
            "style": "IPY_MODEL_f9817f6ba907420e865a87d791269352",
            "_dom_classes": [],
            "description": "",
            "_model_name": "HTMLModel",
            "placeholder": "​",
            "_view_module": "@jupyter-widgets/controls",
            "_model_module_version": "1.5.0",
            "value": " 3270/3270 [01:53&lt;00:00, 28.88it/s]",
            "_view_count": null,
            "_view_module_version": "1.5.0",
            "description_tooltip": null,
            "_model_module": "@jupyter-widgets/controls",
            "layout": "IPY_MODEL_603b81911146405daf52407b50021d55"
          }
        },
        "771f941145c64bc6b9b89f8534941521": {
          "model_module": "@jupyter-widgets/controls",
          "model_name": "ProgressStyleModel",
          "state": {
            "_view_name": "StyleView",
            "_model_name": "ProgressStyleModel",
            "description_width": "initial",
            "_view_module": "@jupyter-widgets/base",
            "_model_module_version": "1.5.0",
            "_view_count": null,
            "_view_module_version": "1.2.0",
            "bar_color": null,
            "_model_module": "@jupyter-widgets/controls"
          }
        },
        "d7b0c51b99984eaea41d6b8f9c36259b": {
          "model_module": "@jupyter-widgets/base",
          "model_name": "LayoutModel",
          "state": {
            "_view_name": "LayoutView",
            "grid_template_rows": null,
            "right": null,
            "justify_content": null,
            "_view_module": "@jupyter-widgets/base",
            "overflow": null,
            "_model_module_version": "1.2.0",
            "_view_count": null,
            "flex_flow": null,
            "width": null,
            "min_width": null,
            "border": null,
            "align_items": null,
            "bottom": null,
            "_model_module": "@jupyter-widgets/base",
            "top": null,
            "grid_column": null,
            "overflow_y": null,
            "overflow_x": null,
            "grid_auto_flow": null,
            "grid_area": null,
            "grid_template_columns": null,
            "flex": null,
            "_model_name": "LayoutModel",
            "justify_items": null,
            "grid_row": null,
            "max_height": null,
            "align_content": null,
            "visibility": null,
            "align_self": null,
            "height": null,
            "min_height": null,
            "padding": null,
            "grid_auto_rows": null,
            "grid_gap": null,
            "max_width": null,
            "order": null,
            "_view_module_version": "1.2.0",
            "grid_template_areas": null,
            "object_position": null,
            "object_fit": null,
            "grid_auto_columns": null,
            "margin": null,
            "display": null,
            "left": null
          }
        },
        "f9817f6ba907420e865a87d791269352": {
          "model_module": "@jupyter-widgets/controls",
          "model_name": "DescriptionStyleModel",
          "state": {
            "_view_name": "StyleView",
            "_model_name": "DescriptionStyleModel",
            "description_width": "",
            "_view_module": "@jupyter-widgets/base",
            "_model_module_version": "1.5.0",
            "_view_count": null,
            "_view_module_version": "1.2.0",
            "_model_module": "@jupyter-widgets/controls"
          }
        },
        "603b81911146405daf52407b50021d55": {
          "model_module": "@jupyter-widgets/base",
          "model_name": "LayoutModel",
          "state": {
            "_view_name": "LayoutView",
            "grid_template_rows": null,
            "right": null,
            "justify_content": null,
            "_view_module": "@jupyter-widgets/base",
            "overflow": null,
            "_model_module_version": "1.2.0",
            "_view_count": null,
            "flex_flow": null,
            "width": null,
            "min_width": null,
            "border": null,
            "align_items": null,
            "bottom": null,
            "_model_module": "@jupyter-widgets/base",
            "top": null,
            "grid_column": null,
            "overflow_y": null,
            "overflow_x": null,
            "grid_auto_flow": null,
            "grid_area": null,
            "grid_template_columns": null,
            "flex": null,
            "_model_name": "LayoutModel",
            "justify_items": null,
            "grid_row": null,
            "max_height": null,
            "align_content": null,
            "visibility": null,
            "align_self": null,
            "height": null,
            "min_height": null,
            "padding": null,
            "grid_auto_rows": null,
            "grid_gap": null,
            "max_width": null,
            "order": null,
            "_view_module_version": "1.2.0",
            "grid_template_areas": null,
            "object_position": null,
            "object_fit": null,
            "grid_auto_columns": null,
            "margin": null,
            "display": null,
            "left": null
          }
        }
      }
    }
  },
  "cells": [
    {
      "cell_type": "markdown",
      "metadata": {
        "id": "Hyk2vRT_8rGb",
        "colab_type": "text"
      },
      "source": [
        "# Отчёт по домашнему заданию"
      ]
    },
    {
      "cell_type": "markdown",
      "metadata": {
        "id": "7cCUqt-0-kkZ",
        "colab_type": "text"
      },
      "source": [
        "## Setup"
      ]
    },
    {
      "cell_type": "code",
      "metadata": {
        "id": "9vB534oz9rm6",
        "colab_type": "code",
        "outputId": "abab894c-e2ed-4e33-9610-6adf26501a53",
        "colab": {
          "base_uri": "https://localhost:8080/",
          "height": 124
        }
      },
      "source": [
        "from google.colab import drive\n",
        "drive.mount('/content/gdrive')"
      ],
      "execution_count": 0,
      "outputs": [
        {
          "output_type": "stream",
          "text": [
            "Go to this URL in a browser: https://accounts.google.com/o/oauth2/auth?client_id=947318989803-6bn6qk8qdgf4n4g3pfee6491hc0brc4i.apps.googleusercontent.com&redirect_uri=urn%3aietf%3awg%3aoauth%3a2.0%3aoob&response_type=code&scope=email%20https%3a%2f%2fwww.googleapis.com%2fauth%2fdocs.test%20https%3a%2f%2fwww.googleapis.com%2fauth%2fdrive%20https%3a%2f%2fwww.googleapis.com%2fauth%2fdrive.photos.readonly%20https%3a%2f%2fwww.googleapis.com%2fauth%2fpeopleapi.readonly\n",
            "\n",
            "Enter your authorization code:\n",
            "··········\n",
            "Mounted at /content/gdrive\n"
          ],
          "name": "stdout"
        }
      ]
    },
    {
      "cell_type": "code",
      "metadata": {
        "id": "ba9K8Kp59xhX",
        "colab_type": "code",
        "colab": {}
      },
      "source": [
        "!cp /content/gdrive/My\\ Drive/abbyy-nlp/train.jsonl /content\n",
        "!cp /content/gdrive/My\\ Drive/abbyy-nlp/dev.jsonl /content\n",
        "# !cp /content/gdrive/My\\ Drive/abbyy-nlp/wiki.en.zip /content\n",
        "# !unzip wiki.en.zip\n",
        "\n",
        "# !pip install gensim\n",
        "# !pip install transformers\n",
        "# !pip install nltk"
      ],
      "execution_count": 0,
      "outputs": []
    },
    {
      "cell_type": "markdown",
      "metadata": {
        "id": "bS95jZvZ-vMz",
        "colab_type": "text"
      },
      "source": [
        "## Load dataset"
      ]
    },
    {
      "cell_type": "code",
      "metadata": {
        "id": "AiHwkxFt8qgj",
        "colab_type": "code",
        "colab": {}
      },
      "source": [
        "from pprint import pprint\n",
        "import json\n",
        "\n",
        "with open(\"train.jsonl\", ) as reader:\n",
        "    train_dataset = list(map(json.loads, reader))\n",
        "\n",
        "with open(\"dev.jsonl\", ) as reader:\n",
        "    dev_dataset = list(map(json.loads, reader))\n"
      ],
      "execution_count": 0,
      "outputs": []
    },
    {
      "cell_type": "code",
      "metadata": {
        "id": "BHJRa9k-xken",
        "colab_type": "code",
        "outputId": "92b45b6c-e408-4469-ce90-be047a859549",
        "colab": {
          "base_uri": "https://localhost:8080/",
          "height": 972
        }
      },
      "source": [
        "from random import randint\n",
        "\n",
        "n_samples = 2\n",
        "print(\"Примеры из обучающей выборки: \\n\")\n",
        "_ = [pprint(train_dataset[randint(0, len(train_dataset)-1)]) for _ in range(n_samples)]\n",
        "print(\"\\n\", \"=\"*50, \"\\n\")\n",
        "print(\"Примеры из тестовой выборки: \\n\")\n",
        "_ = [pprint(dev_dataset[randint(0, len(dev_dataset)-1)]) for _ in range(n_samples)]"
      ],
      "execution_count": 0,
      "outputs": [
        {
          "output_type": "stream",
          "text": [
            "Примеры из обучающей выборки: \n",
            "\n",
            "{'answer': False,\n",
            " 'passage': 'At present, the euro is legal tender in 19 out of 28 European '\n",
            "            'Union member states, in addition to 5 countries not part of the '\n",
            "            'EU (Monaco, San Marino, Vatican City, Andorra and Montenegro). '\n",
            "            'The Republic of Kosovo also uses the euro, but is only partially '\n",
            "            'recognised as an independent state.',\n",
            " 'question': 'the currency of all eu countries is the euro',\n",
            " 'title': 'List of currencies in Europe'}\n",
            "{'answer': True,\n",
            " 'passage': 'The Czech Republic (/ˈtʃɛk -/ ( listen); Czech: Česká republika '\n",
            "            '(ˈtʃɛskaː ˈrɛpublɪka) ( listen)), also known by its short-form '\n",
            "            'name, Czechia (/ˈtʃɛkiə/ ( listen); Czech: Česko (ˈtʃɛsko) ( '\n",
            "            'listen)), is a landlocked country in Central Europe bordered by '\n",
            "            'Germany to the west, Austria to the south, Slovakia to the east '\n",
            "            'and Poland to the northeast. The Czech Republic covers an area of '\n",
            "            '78,866 square kilometres (30,450 sq mi) with a mostly temperate '\n",
            "            'continental climate and oceanic climate. It is a unitary '\n",
            "            'parliamentary republic, with 10.6 million inhabitants; its '\n",
            "            'capital and largest city is Prague, with 1.3 million residents. '\n",
            "            'Other major cities are Brno, Ostrava and Pilsen. The Czech '\n",
            "            'Republic is a member of the European Union (EU), NATO, the OECD, '\n",
            "            'the United Nations, the OSCE, and the Council of Europe.',\n",
            " 'question': 'is the czech republic part of the eu',\n",
            " 'title': 'Czech Republic'}\n",
            "\n",
            " ================================================== \n",
            "\n",
            "Примеры из тестовой выборки: \n",
            "\n",
            "{'answer': False,\n",
            " 'passage': 'In April 2012, Boo was the subject of a death hoax after #RIPBOO '\n",
            "            'appeared on Facebook. Tweets followed as Gizmodo writer Sam '\n",
            "            'Biddle tweeted that Boo had died. It was later confirmed by the '\n",
            "            'Chronicle Book staff that Boo was alive and well.',\n",
            " 'question': \"did boo the world's cutest dog die\",\n",
            " 'title': 'Boo (dog)'}\n",
            "{'answer': False,\n",
            " 'passage': 'Elderflower cordial is a soft drink made largely from a refined '\n",
            "            'sugar and water solution and uses the flowers of the European '\n",
            "            'elderberry, (Sambucus nigra L.). Historically the cordial has '\n",
            "            'been popular in North Western Europe where it has a strong '\n",
            "            'Victorian heritage. However, versions of an elderflower cordial '\n",
            "            'recipe can be traced back to Roman times. Nowadays it can be '\n",
            "            'found in almost all of the former Roman Empire territory, '\n",
            "            'predominantly in Central Europe, especially in England, Germany, '\n",
            "            'Austria, Slovenia, Romania, Hungary and Slovakia, where people '\n",
            "            'have acquired a special taste for it and still make it in the '\n",
            "            'traditional way. In some countries the drink can be found as an '\n",
            "            'aromatic syrup, sold as a concentrated squash that is mixed with '\n",
            "            'still or sparkling water. Elderflower pressé is a premixed form '\n",
            "            'of this.',\n",
            " 'question': 'is elderflower cordial the same as elderflower syrup',\n",
            " 'title': 'Elderflower cordial'}\n"
          ],
          "name": "stdout"
        }
      ]
    },
    {
      "cell_type": "markdown",
      "metadata": {
        "id": "_G9Wfo3Q-7Po",
        "colab_type": "text"
      },
      "source": [
        "# Часть 1. [1 балл] Эксплоративный анализ"
      ]
    },
    {
      "cell_type": "markdown",
      "metadata": {
        "id": "4DpEdWY6_gRZ",
        "colab_type": "text"
      },
      "source": [
        "## 1.1 Доля yes и no классов в корпусе"
      ]
    },
    {
      "cell_type": "code",
      "metadata": {
        "id": "mOmrzmJT-wz5",
        "colab_type": "code",
        "outputId": "40275b38-c8be-4489-8264-f7b13e7db7a2",
        "colab": {
          "base_uri": "https://localhost:8080/",
          "height": 121
        }
      },
      "source": [
        "get_yes_ratio = lambda ds: sum(map(lambda x: x['answer'], ds)) / len(ds)\n",
        "\n",
        "print(\"Обучающая выборка\")\n",
        "print(\"\\t yes:\", get_yes_ratio(train_dataset))\n",
        "print(f\"\\t no:\", 1 - get_yes_ratio(train_dataset))\n",
        "\n",
        "print(\"Тестовая выборка\")\n",
        "print(f\"\\t yes:\", get_yes_ratio(dev_dataset))\n",
        "print(f\"\\t no:\", 1 - get_yes_ratio(dev_dataset))"
      ],
      "execution_count": 0,
      "outputs": [
        {
          "output_type": "stream",
          "text": [
            "Обучающая выборка\n",
            "\t yes: 0.6231038506417736\n",
            "\t no: 0.37689614935822635\n",
            "Тестовая выборка\n",
            "\t yes: 0.6217125382262997\n",
            "\t no: 0.3782874617737003\n"
          ],
          "name": "stdout"
        }
      ]
    },
    {
      "cell_type": "markdown",
      "metadata": {
        "id": "LWCu48piBJBN",
        "colab_type": "text"
      },
      "source": [
        "## 1.2-3 Средняя длина вопроса и параграфа"
      ]
    },
    {
      "cell_type": "code",
      "metadata": {
        "id": "HUFAgLDiBEPW",
        "colab_type": "code",
        "outputId": "a8f0ecac-3e9b-4c5a-a498-6d812ce33082",
        "colab": {
          "base_uri": "https://localhost:8080/",
          "height": 260
        }
      },
      "source": [
        "from nltk.tokenize import TweetTokenizer\n",
        "\n",
        "tokenizer = TweetTokenizer()\n",
        "get_word_count = lambda paragraph, field: len(tokenizer.tokenize(paragraph[field]))\n",
        "get_avg_word_count = lambda ds, field: sum(map(lambda x: get_word_count(x, field), ds)) / len(ds)\n",
        "get_avg_char_count = lambda ds, field: sum(map(lambda x: len(x[field]), ds)) / len(ds)\n",
        "\n",
        "print(\"Средняя длина вопроса:\")\n",
        "print(\"\\t в обучающей выборке:\")\n",
        "print(\"\\t\\t word:\", get_avg_word_count(train_dataset, 'question'))\n",
        "print(\"\\t\\t char:\", get_avg_char_count(train_dataset, 'question'))\n",
        "\n",
        "print(\"\\t в тестовой выборке:\")\n",
        "print(\"\\t\\t word:\", get_avg_word_count(dev_dataset, 'question'))\n",
        "print(\"\\t\\t char:\", get_avg_char_count(dev_dataset, 'question'))\n",
        "\n",
        "print(\"Средняя длина параграфа:\")\n",
        "print(\"\\t в обучающей выборке:\")\n",
        "print(\"\\t\\t word:\", get_avg_word_count(train_dataset, 'passage'))\n",
        "print(\"\\t\\t char:\", get_avg_char_count(train_dataset, 'passage'))\n",
        "\n",
        "print(\"\\t в тестовой выборке:\")\n",
        "print(\"\\t\\t word:\", get_avg_word_count(dev_dataset, 'passage'))\n",
        "print(\"\\t\\t char:\", get_avg_char_count(dev_dataset, 'passage'))"
      ],
      "execution_count": 0,
      "outputs": [
        {
          "output_type": "stream",
          "text": [
            "Средняя длина вопроса:\n",
            "\t в обучающей выборке:\n",
            "\t\t word: 8.831971995332555\n",
            "\t\t char: 43.99193805028111\n",
            "\t в тестовой выборке:\n",
            "\t\t word: 8.726299694189603\n",
            "\t\t char: 43.206422018348626\n",
            "Средняя длина параграфа:\n",
            "\t в обучающей выборке:\n",
            "\t\t word: 109.20685265726105\n",
            "\t\t char: 565.6130264134931\n",
            "\t в тестовой выборке:\n",
            "\t\t word: 108.27033639143731\n",
            "\t\t char: 559.0522935779817\n"
          ],
          "name": "stdout"
        }
      ]
    },
    {
      "cell_type": "markdown",
      "metadata": {
        "id": "kyFERhPswTVV",
        "colab_type": "text"
      },
      "source": [
        "## Эвристики, по которым был собран датасет"
      ]
    },
    {
      "cell_type": "markdown",
      "metadata": {
        "id": "RL8LSH6QzDdJ",
        "colab_type": "text"
      },
      "source": [
        "Авторы статьи оставляли только те вопросы, которые начинались с одного из слова {“did”, “do”, “does”, “is”, “are”, “was”, “were”, “have”, “has”, “can”, “could”, “will”, “would”}. После этого фильтровались вопросы, которые при запросе в поиске гугл, не выдавали страницу с википедией среди первых 5 выдач."
      ]
    },
    {
      "cell_type": "code",
      "metadata": {
        "id": "AhY8_YmUvSZv",
        "colab_type": "code",
        "colab": {}
      },
      "source": [
        "from collections import Counter\n",
        "\n",
        "starter_tokens = {\"did\", \"do\", \"does\", \"is\", \"are\", \"was\", \"were\", \"have\", \"has\", \"can\", \"could\", \"will\", \"would\"}\n",
        "first_question_words = Counter([doc['question'].split()[0] for doc in train_dataset])"
      ],
      "execution_count": 0,
      "outputs": []
    },
    {
      "cell_type": "markdown",
      "metadata": {
        "id": "TSmPh26K45dp",
        "colab_type": "text"
      },
      "source": [
        "### 20 наиболее часто встречающихся первых токенов вопроса"
      ]
    },
    {
      "cell_type": "code",
      "metadata": {
        "id": "Tbjo8PKM4G7e",
        "colab_type": "code",
        "outputId": "19a389e9-a538-4160-9b80-a4d48f60e289",
        "colab": {
          "base_uri": "https://localhost:8080/",
          "height": 364
        }
      },
      "source": [
        "pprint(first_question_words.most_common(20))"
      ],
      "execution_count": 0,
      "outputs": [
        {
          "output_type": "stream",
          "text": [
            "[('is', 4190),\n",
            " ('can', 1136),\n",
            " ('does', 952),\n",
            " ('are', 693),\n",
            " ('do', 664),\n",
            " ('did', 461),\n",
            " ('was', 335),\n",
            " ('has', 302),\n",
            " ('will', 181),\n",
            " ('the', 91),\n",
            " ('have', 70),\n",
            " ('in', 35),\n",
            " ('were', 25),\n",
            " ('if', 17),\n",
            " ('a', 16),\n",
            " ('what', 11),\n",
            " ('when', 10),\n",
            " ('could', 9),\n",
            " ('who', 5),\n",
            " ('where', 5)]\n"
          ],
          "name": "stdout"
        }
      ]
    },
    {
      "cell_type": "markdown",
      "metadata": {
        "id": "bn4YNUiz4_0i",
        "colab_type": "text"
      },
      "source": [
        "### Процент вопросов, начинающихся со слов \"did\", \"do\", \"does\", \"is\", \"are\", \"was\", \"were\", \"have\", \"has\", \"can\", \"could\", \"will\", \"would\""
      ]
    },
    {
      "cell_type": "code",
      "metadata": {
        "id": "VqUVSvRl4Ipo",
        "colab_type": "code",
        "outputId": "8202699a-df7a-4708-f79d-e6c013d21352",
        "colab": {
          "base_uri": "https://localhost:8080/",
          "height": 34
        }
      },
      "source": [
        "sum([first_question_words[word] for word in starter_tokens]) / len(train_dataset)"
      ],
      "execution_count": 0,
      "outputs": [
        {
          "output_type": "execute_result",
          "data": {
            "text/plain": [
              "0.9570382942611647"
            ]
          },
          "metadata": {
            "tags": []
          },
          "execution_count": 9
        }
      ]
    },
    {
      "cell_type": "markdown",
      "metadata": {
        "id": "ombGYE_Q5PvQ",
        "colab_type": "text"
      },
      "source": [
        "### Примеры вопросов, начинающихся не на данные слова"
      ]
    },
    {
      "cell_type": "code",
      "metadata": {
        "id": "bwR7sFhC1frF",
        "colab_type": "code",
        "outputId": "58bf6b7b-2045-4e5e-f419-8946e7df3338",
        "colab": {
          "base_uri": "https://localhost:8080/",
          "height": 799
        }
      },
      "source": [
        "from random import choices\n",
        "indices = [i for i, x in enumerate([doc['question'].split()[0] not in starter_tokens for doc in train_dataset]) if x]\n",
        "subsample = choices(indices, k=3)\n",
        "_ = [pprint(train_dataset[i]) for i in subsample]"
      ],
      "execution_count": 0,
      "outputs": [
        {
          "output_type": "stream",
          "text": [
            "{'answer': True,\n",
            " 'passage': 'The Domain Name System (DNS) is a hierarchical decentralized '\n",
            "            'naming system for computers, services, or other resources '\n",
            "            'connected to the Internet or a private network. It associates '\n",
            "            'various information with domain names assigned to each of the '\n",
            "            'participating entities. Most prominently, it translates more '\n",
            "            'readily memorized domain names to the numerical IP addresses '\n",
            "            'needed for locating and identifying computer services and devices '\n",
            "            'with the underlying network protocols. By providing a worldwide, '\n",
            "            'distributed directory service, the Domain Name System is an '\n",
            "            'essential component of the functionality on the Internet, that '\n",
            "            'has been in use since 1985.',\n",
            " 'question': 'the domain name system (dns) converts domain names to ip '\n",
            "             'addresses',\n",
            " 'title': 'Domain Name System'}\n",
            "{'answer': True,\n",
            " 'passage': 'In New York City, Henderson shared an apartment with a pianist '\n",
            "            'who worked as a musician in a river boat orchestra. When his '\n",
            "            'roommate was too sick to perform, Henderson took his place, which '\n",
            "            'soon gave him a job as a full-time replacement. In the fall of '\n",
            "            '1920 he found work as a song demonstrator with the Pace and Handy '\n",
            "            'Music Co. Henderson now found that music would be more profitable '\n",
            "            'than chemistry and left his job as a lab chemist to begin a life '\n",
            "            'in music. When Pace left the company to start Black Swan Records, '\n",
            "            'he took Henderson with him to be musical director, a job which '\n",
            "            'lasted from 1921-1923. From 1920-1923, he primarily played piano '\n",
            "            'accompaniment for blues singers. Henderson toured with the Black '\n",
            "            'Swan Troubadours featuring Ethel Waters from October 1921 to July '\n",
            "            '1922.',\n",
            " 'question': 'fletcher henderson began his musical career with black swan '\n",
            "             'records',\n",
            " 'title': 'Fletcher Henderson'}\n",
            "{'answer': True,\n",
            " 'passage': 'Oedipus Rex, also known by its Greek title, Oedipus Tyrannus '\n",
            "            '(Ancient Greek: Οἰδίπους Τύραννος IPA: (oidípuːs týranːos)), or '\n",
            "            'Oedipus the King, is an Athenian tragedy by Sophocles that was '\n",
            "            'first performed around 429 BC. Originally, to the ancient Greeks, '\n",
            "            'the title was simply Oedipus (Οἰδίπους), as it is referred to by '\n",
            "            'Aristotle in the Poetics. It is thought to have been renamed '\n",
            "            \"Oedipus Tyrannus to distinguish it from another of Sophocles' \"\n",
            "            \"plays, Oedipus at Colonus. In antiquity, the term ``tyrant'' \"\n",
            "            'referred to a ruler, but it did not necessarily have a negative '\n",
            "            'connotation.',\n",
            " 'question': 'oedipus rex and oedipus the king the same story',\n",
            " 'title': 'Oedipus Rex'}\n"
          ],
          "name": "stdout"
        }
      ]
    },
    {
      "cell_type": "markdown",
      "metadata": {
        "id": "eu93dNW87ru3",
        "colab_type": "text"
      },
      "source": [
        "# 2. Baseline"
      ]
    },
    {
      "cell_type": "markdown",
      "metadata": {
        "id": "6pruX9Oe91ce",
        "colab_type": "text"
      },
      "source": [
        "## 2.1 Dummy Classifier"
      ]
    },
    {
      "cell_type": "code",
      "metadata": {
        "id": "ytbCNKcI8sKb",
        "colab_type": "code",
        "colab": {}
      },
      "source": [
        "train_questions = [doc['question'] for doc in train_dataset]\n",
        "train_passages = [doc['passage'] for doc in train_dataset]\n",
        "train_answers = [str(doc['answer']) for doc in train_dataset]\n",
        "\n",
        "dev_questions = [doc['question'] for doc in dev_dataset]\n",
        "dev_passages = [doc['passage'] for doc in dev_dataset]\n",
        "dev_answers = [str(doc['answer']) for doc in dev_dataset]"
      ],
      "execution_count": 0,
      "outputs": []
    },
    {
      "cell_type": "markdown",
      "metadata": {
        "id": "TeT5pQR895Hy",
        "colab_type": "text"
      },
      "source": [
        "### train"
      ]
    },
    {
      "cell_type": "code",
      "metadata": {
        "id": "m9pcPUR84a3x",
        "colab_type": "code",
        "outputId": "11b465a0-5efe-408b-8347-970c93507d09",
        "colab": {
          "base_uri": "https://localhost:8080/",
          "height": 34
        }
      },
      "source": [
        "from sklearn.dummy import DummyClassifier\n",
        "from sklearn.metrics import classification_report\n",
        "\n",
        "clf = DummyClassifier(\"most_frequent\")\n",
        "clf.fit(train_questions, train_answers)"
      ],
      "execution_count": 0,
      "outputs": [
        {
          "output_type": "execute_result",
          "data": {
            "text/plain": [
              "DummyClassifier(constant=None, random_state=None, strategy='most_frequent')"
            ]
          },
          "metadata": {
            "tags": []
          },
          "execution_count": 7
        }
      ]
    },
    {
      "cell_type": "markdown",
      "metadata": {
        "id": "cem0zp3i99J_",
        "colab_type": "text"
      },
      "source": [
        "### Evaluation"
      ]
    },
    {
      "cell_type": "code",
      "metadata": {
        "id": "cAxsKYwx98lj",
        "colab_type": "code",
        "outputId": "124463d4-5c4b-4788-b391-0a6e9213ca80",
        "colab": {
          "base_uri": "https://localhost:8080/",
          "height": 228
        }
      },
      "source": [
        "dev_preds = clf.predict(dev_questions)\n",
        "print(classification_report(dev_answers, dev_preds))"
      ],
      "execution_count": 0,
      "outputs": [
        {
          "output_type": "stream",
          "text": [
            "              precision    recall  f1-score   support\n",
            "\n",
            "       False       0.00      0.00      0.00      1237\n",
            "        True       0.62      1.00      0.77      2033\n",
            "\n",
            "    accuracy                           0.62      3270\n",
            "   macro avg       0.31      0.50      0.38      3270\n",
            "weighted avg       0.39      0.62      0.48      3270\n",
            "\n"
          ],
          "name": "stdout"
        },
        {
          "output_type": "stream",
          "text": [
            "/usr/local/lib/python3.6/dist-packages/sklearn/metrics/_classification.py:1272: UndefinedMetricWarning: Precision and F-score are ill-defined and being set to 0.0 in labels with no predicted samples. Use `zero_division` parameter to control this behavior.\n",
            "  _warn_prf(average, modifier, msg_start, len(result))\n"
          ],
          "name": "stderr"
        }
      ]
    },
    {
      "cell_type": "markdown",
      "metadata": {
        "id": "CEYRTAsG-COB",
        "colab_type": "text"
      },
      "source": [
        "## 2.2 Fasttext"
      ]
    },
    {
      "cell_type": "code",
      "metadata": {
        "id": "cIf5s9EeAWtU",
        "colab_type": "code",
        "colab": {}
      },
      "source": [
        "from gensim.models import FastText\n",
        "\n",
        "model = FastText.load_fasttext_format(\"wiki.en.bin\")"
      ],
      "execution_count": 0,
      "outputs": []
    },
    {
      "cell_type": "code",
      "metadata": {
        "id": "TSBq6IQ8AiRx",
        "colab_type": "code",
        "outputId": "9cc0b8dc-90bd-4887-8ba5-c85a7c30e53b",
        "colab": {
          "base_uri": "https://localhost:8080/",
          "height": 185,
          "referenced_widgets": [
            "45c10887a65c4a86b93c32639b637abd",
            "ba3a764883004190888488523c18f170",
            "2503720298d5451cbf2bba49d3465a59",
            "0b567b941603409fababdad05cc74a2e",
            "30f0805240fb439fa9542b63f4cefb86",
            "2a3581a51086447c8b70ad6638f262ac",
            "f832dc118cf149c699e923f0f29a9f11",
            "57b5dbd0a7ad44908e26be21708a4fcf",
            "5c515fe208a844c397813cbef1cc72bb",
            "50b327f346e74daf87d99e4b016efb18",
            "911f3821933e4c60a5a20ec66024bda4",
            "ab785221fe724ac9a452de86e59d9f1d",
            "d46b0df82f684c1da5382afc2deb1bb2",
            "8c5eca7fd1c849bfbf7b8936246fcf8a",
            "19b3e37a53e046f2a21caaab815c0f47",
            "182f04e9eee54ebbb0141660e7f8cede"
          ]
        }
      },
      "source": [
        "from typing import List\n",
        "import numpy as np\n",
        "from tqdm.auto import tqdm\n",
        "from nltk.tokenize import RegexpTokenizer\n",
        "from nltk.stem import WordNetLemmatizer\n",
        "import nltk\n",
        "from nltk.corpus import stopwords\n",
        "nltk.download('wordnet')\n",
        "nltk.download('stopwords')\n",
        "\n",
        "tokenizer = RegexpTokenizer(r'\\w+')\n",
        "lemmatizer = WordNetLemmatizer()\n",
        "stopwords_ = set(stopwords.words('english'))\n",
        "\n",
        "def get_text_vector(tokens: List[str], model):\n",
        "    vectors = []\n",
        "    for token in tokens:\n",
        "        if token in model.wv:\n",
        "            vectors.append(model.wv[token])\n",
        "    # return np.mean(vectors, axis=0)\n",
        "    return np.hstack([np.mean(vectors, axis=0), np.max(vectors, axis=0), np.std(vectors, axis=0)])\n",
        "\n",
        "def preprocess_text(text: str):\n",
        "    text = text.lower()\n",
        "    tokens = tokenizer.tokenize(text)\n",
        "    lemmas = map(lemmatizer.lemmatize, tokens)\n",
        "    return [lemma for lemma in lemmas if lemma not in stopwords_]\n",
        "\n",
        "def get_ds_vectors(dataset, model):\n",
        "    vectors = []\n",
        "    for doc in tqdm(dataset):\n",
        "        text = doc['question'] + \" \" + doc[\"passage\"]\n",
        "        lemmas = preprocess_text(text)\n",
        "        vectors.append(get_text_vector(lemmas, model))\n",
        "\n",
        "    vectors = np.vstack(vectors)\n",
        "\n",
        "    return vectors\n",
        "\n",
        "train_vectors = get_ds_vectors(train_dataset, model)\n",
        "dev_vectors = get_ds_vectors(dev_dataset, model)"
      ],
      "execution_count": 0,
      "outputs": [
        {
          "output_type": "stream",
          "text": [
            "[nltk_data] Downloading package wordnet to /root/nltk_data...\n",
            "[nltk_data]   Package wordnet is already up-to-date!\n",
            "[nltk_data] Downloading package stopwords to /root/nltk_data...\n",
            "[nltk_data]   Package stopwords is already up-to-date!\n"
          ],
          "name": "stdout"
        },
        {
          "output_type": "display_data",
          "data": {
            "application/vnd.jupyter.widget-view+json": {
              "model_id": "45c10887a65c4a86b93c32639b637abd",
              "version_minor": 0,
              "version_major": 2
            },
            "text/plain": [
              "HBox(children=(IntProgress(value=0, max=9427), HTML(value='')))"
            ]
          },
          "metadata": {
            "tags": []
          }
        },
        {
          "output_type": "stream",
          "text": [
            "\n"
          ],
          "name": "stdout"
        },
        {
          "output_type": "display_data",
          "data": {
            "application/vnd.jupyter.widget-view+json": {
              "model_id": "5c515fe208a844c397813cbef1cc72bb",
              "version_minor": 0,
              "version_major": 2
            },
            "text/plain": [
              "HBox(children=(IntProgress(value=0, max=3270), HTML(value='')))"
            ]
          },
          "metadata": {
            "tags": []
          }
        },
        {
          "output_type": "stream",
          "text": [
            "\n"
          ],
          "name": "stdout"
        }
      ]
    },
    {
      "cell_type": "code",
      "metadata": {
        "id": "s-hES-I0OD6u",
        "colab_type": "code",
        "outputId": "336e2044-dafd-451d-cd1d-775d724d010b",
        "colab": {
          "base_uri": "https://localhost:8080/",
          "height": 173
        }
      },
      "source": [
        "from sklearn.linear_model import LogisticRegression\n",
        "\n",
        "clf = LogisticRegression(max_iter=500, solver=\"liblinear\")\n",
        "clf.fit(train_vectors, train_answers)\n",
        "dev_preds = clf.predict(dev_vectors)\n",
        "\n",
        "print(classification_report(dev_answers, dev_preds))"
      ],
      "execution_count": 0,
      "outputs": [
        {
          "output_type": "stream",
          "text": [
            "              precision    recall  f1-score   support\n",
            "\n",
            "       False       0.50      0.30      0.38      1237\n",
            "        True       0.66      0.81      0.73      2033\n",
            "\n",
            "    accuracy                           0.62      3270\n",
            "   macro avg       0.58      0.56      0.55      3270\n",
            "weighted avg       0.60      0.62      0.60      3270\n",
            "\n"
          ],
          "name": "stdout"
        }
      ]
    },
    {
      "cell_type": "markdown",
      "metadata": {
        "id": "jPGnPrMqXktg",
        "colab_type": "text"
      },
      "source": [
        "# Часть 3 Эмбеддинги предложений"
      ]
    },
    {
      "cell_type": "code",
      "metadata": {
        "id": "hJJTiuikcCZG",
        "colab_type": "code",
        "outputId": "62406f6f-384b-44a4-fd94-6dd8e13d5d43",
        "colab": {
          "base_uri": "https://localhost:8080/",
          "height": 165,
          "referenced_widgets": [
            "a2d4e09226ba4f4e9a7386fb36555228",
            "fe270e33f23749c18d15a2290296af74",
            "45fba86383934805a44932ba1dbf2298",
            "bf373de0a22242929364e6260b6eec9c",
            "b27a39949e2848b1b3ee12ea24f117df",
            "d753d3ec4d294cb495230c169a3a209d",
            "0f530e3c27c246648904ed675aca7fc0",
            "dfc6bf3a713946d289f4182428313914",
            "dba9e27359fb4a3b9b97a2ab229ed26f",
            "73afb5fbd8564eb1bcb4141b9f263fa1",
            "8c55020df224450bb3cb98150b47a555",
            "d91aa4f1eca34ec7b126dad9adf0f40b",
            "69f6914e6b7a484eb8b5c6ac44214ba1",
            "78913aeb538d42afa8e2ea7dae1d8f20",
            "911651efea2c4bd4a22c0dbcec1b064e",
            "3977a9a9d03d4990a975e094e0b6641b",
            "85be8ffa028b4a1cba8c8c98159b4ebe",
            "f8ed548353864ac5871a5b679b869869",
            "9a1737d2e6594ec0adc1689e3f033a6e",
            "52f5ed09ceb840ac8224babe5283a3c8",
            "c7a41270813146dba08fd0d9d82cf0ef",
            "daa1f516b8e74d5a98ec6860394669c3",
            "cbba9418bfdc4033a1bc8f78ce274593",
            "007a400bf5c64745824c5a5fa71984dd"
          ]
        }
      },
      "source": [
        "from transformers import BertModel, BertTokenizer\n",
        "from transformers import pipeline\n",
        "import torch \n",
        "import numpy as np\n",
        "from tqdm.auto import tqdm\n",
        "\n",
        "bert_tokenizer = BertTokenizer.from_pretrained(\"bert-base-uncased\")\n",
        "bert_model = BertModel.from_pretrained(\"bert-base-uncased\")\n",
        "\n",
        "feature_extraction = pipeline(\"feature-extraction\", model=bert_model, tokenizer=bert_tokenizer, device=0)"
      ],
      "execution_count": 0,
      "outputs": [
        {
          "output_type": "display_data",
          "data": {
            "application/vnd.jupyter.widget-view+json": {
              "model_id": "a2d4e09226ba4f4e9a7386fb36555228",
              "version_minor": 0,
              "version_major": 2
            },
            "text/plain": [
              "HBox(children=(IntProgress(value=0, description='Downloading', max=231508, style=ProgressStyle(description_wid…"
            ]
          },
          "metadata": {
            "tags": []
          }
        },
        {
          "output_type": "stream",
          "text": [
            "\n"
          ],
          "name": "stdout"
        },
        {
          "output_type": "display_data",
          "data": {
            "application/vnd.jupyter.widget-view+json": {
              "model_id": "dba9e27359fb4a3b9b97a2ab229ed26f",
              "version_minor": 0,
              "version_major": 2
            },
            "text/plain": [
              "HBox(children=(IntProgress(value=0, description='Downloading', max=433, style=ProgressStyle(description_width=…"
            ]
          },
          "metadata": {
            "tags": []
          }
        },
        {
          "output_type": "stream",
          "text": [
            "\n"
          ],
          "name": "stdout"
        },
        {
          "output_type": "display_data",
          "data": {
            "application/vnd.jupyter.widget-view+json": {
              "model_id": "85be8ffa028b4a1cba8c8c98159b4ebe",
              "version_minor": 0,
              "version_major": 2
            },
            "text/plain": [
              "HBox(children=(IntProgress(value=0, description='Downloading', max=440473133, style=ProgressStyle(description_…"
            ]
          },
          "metadata": {
            "tags": []
          }
        },
        {
          "output_type": "stream",
          "text": [
            "\n"
          ],
          "name": "stdout"
        }
      ]
    },
    {
      "cell_type": "code",
      "metadata": {
        "id": "EODxiE71jceg",
        "colab_type": "code",
        "outputId": "9158dc53-4733-4bcb-ac53-d059f49a937b",
        "colab": {
          "base_uri": "https://localhost:8080/",
          "height": 214,
          "referenced_widgets": [
            "c0c985695dc5484caecb975fca582af6",
            "85fb3a8c741b4f2fabbc699d72e9bb20",
            "4511c009e4964e4c8329a7c98ba427b2",
            "469c0b2276284a45ba947b5cfcd5fd5f",
            "1481a1fc77e54bc9add5ba5b88771079",
            "5c95801f299b40baab6379b01e73b995",
            "079a0a918d1747f9bcfaee4914db9920",
            "322d0d69a831447b94dfc373c322836c",
            "f2b68df016c54bdab3868147dd5addd0",
            "7149ba0f1c1149cd9f920e1acaa68c70",
            "e48c0880165a4c39ba144381c913af2c",
            "82e3a64ace9d4c029050a03333590f26",
            "0aea2eeba12944a8955cdd28f68e9d97",
            "0ab8f58d2e6e4a86a91f8e51a6944dca",
            "ec5a36edf84d497194449e294b0c50b6",
            "df11a2f6fd1d4840912ec9d7abae8f77",
            "7264a2d6e0dc402aa41225749f4197f0",
            "e27faa4e33dd4138b53fb10295811f0b",
            "9d830afd2ac6456e844fd53e425410bb",
            "c59f261712bc412b8fe12471224c8c27",
            "14979d17aabc42d883d8a8b62e85725e",
            "068123d05cf54d4bb22d714e04d5fc28",
            "ba0d574d37c54f6abedd9442fbd85d32",
            "db86340f027c4b479536ff50af38aac6",
            "bccfb0f7450c41b980b3d9e8ecbdc11f",
            "bd0b47e8fa9e4059a5e9d13f08725235",
            "0be970e8660b4c7e8caa504b6469a161",
            "67c661ce778a46208781ec694c006cb9",
            "771f941145c64bc6b9b89f8534941521",
            "d7b0c51b99984eaea41d6b8f9c36259b",
            "f9817f6ba907420e865a87d791269352",
            "603b81911146405daf52407b50021d55"
          ]
        }
      },
      "source": [
        "# np.asarray(feature_extraction([d['question'] for d in train_dataset[:10]], pad_to_max_length=True)).shape\n",
        "def extract_features(texts):\n",
        "    features = []\n",
        "    for text in tqdm(texts):\n",
        "        features.append(np.asarray(feature_extraction(text)).mean(axis=1)[0, :])\n",
        "    return np.vstack(features)\n",
        "\n",
        "train_question_features = extract_features([d['question'] for d in train_dataset])\n",
        "train_passage_features = extract_features([d['passage'] for d in train_dataset])\n",
        "\n",
        "dev_question_features = extract_features([d['question'] for d in dev_dataset])\n",
        "dev_passage_features = extract_features([d['passage'] for d in dev_dataset])"
      ],
      "execution_count": 0,
      "outputs": [
        {
          "output_type": "display_data",
          "data": {
            "application/vnd.jupyter.widget-view+json": {
              "model_id": "c0c985695dc5484caecb975fca582af6",
              "version_minor": 0,
              "version_major": 2
            },
            "text/plain": [
              "HBox(children=(IntProgress(value=0, max=9427), HTML(value='')))"
            ]
          },
          "metadata": {
            "tags": []
          }
        },
        {
          "output_type": "stream",
          "text": [
            "\n"
          ],
          "name": "stdout"
        },
        {
          "output_type": "display_data",
          "data": {
            "application/vnd.jupyter.widget-view+json": {
              "model_id": "f2b68df016c54bdab3868147dd5addd0",
              "version_minor": 0,
              "version_major": 2
            },
            "text/plain": [
              "HBox(children=(IntProgress(value=0, max=9427), HTML(value='')))"
            ]
          },
          "metadata": {
            "tags": []
          }
        },
        {
          "output_type": "stream",
          "text": [
            "\n"
          ],
          "name": "stdout"
        },
        {
          "output_type": "display_data",
          "data": {
            "application/vnd.jupyter.widget-view+json": {
              "model_id": "7264a2d6e0dc402aa41225749f4197f0",
              "version_minor": 0,
              "version_major": 2
            },
            "text/plain": [
              "HBox(children=(IntProgress(value=0, max=3270), HTML(value='')))"
            ]
          },
          "metadata": {
            "tags": []
          }
        },
        {
          "output_type": "stream",
          "text": [
            "\n"
          ],
          "name": "stdout"
        },
        {
          "output_type": "display_data",
          "data": {
            "application/vnd.jupyter.widget-view+json": {
              "model_id": "bccfb0f7450c41b980b3d9e8ecbdc11f",
              "version_minor": 0,
              "version_major": 2
            },
            "text/plain": [
              "HBox(children=(IntProgress(value=0, max=3270), HTML(value='')))"
            ]
          },
          "metadata": {
            "tags": []
          }
        },
        {
          "output_type": "stream",
          "text": [
            "\n"
          ],
          "name": "stdout"
        }
      ]
    },
    {
      "cell_type": "code",
      "metadata": {
        "id": "LSi0NWTY37fg",
        "colab_type": "code",
        "colab": {}
      },
      "source": [
        "# np.save(\"/content/gdrive/My Drive/abbyy-nlp/train_question_features.npy\", train_question_features)\n",
        "# np.save(\"/content/gdrive/My Drive/abbyy-nlp/train_passage_features.npy\", train_passage_features)\n",
        "# np.save(\"/content/gdrive/My Drive/abbyy-nlp/dev_question_features.npy\", dev_question_features)\n",
        "# np.save(\"/content/gdrive/My Drive/abbyy-nlp/dev_passage_features.npy\", dev_passage_features)"
      ],
      "execution_count": 0,
      "outputs": []
    },
    {
      "cell_type": "code",
      "metadata": {
        "id": "NIeAW_NOZjmO",
        "colab_type": "code",
        "colab": {}
      },
      "source": [
        "from sklearn.linear_model import LogisticRegression\n",
        "from sklearn.neural_network import MLPClassifier\n",
        "\n",
        "clf = LogisticRegression(max_iter=10000, solver=\"liblinear\")\n",
        "train_vectors = np.hstack((train_question_features, train_passage_features))\n",
        "clf.fit(train_vectors, train_answers)\n",
        "dev_vectors = np.hstack((dev_question_features, dev_passage_features))\n",
        "dev_preds = clf.predict(dev_vectors)\n",
        "\n",
        "print(classification_report(dev_answers, dev_preds))"
      ],
      "execution_count": 0,
      "outputs": []
    },
    {
      "cell_type": "markdown",
      "metadata": {
        "id": "QJJLR-zDGURm",
        "colab_type": "text"
      },
      "source": [
        "# Часть 4. DrQA подобная архитектура"
      ]
    },
    {
      "cell_type": "code",
      "metadata": {
        "id": "nJGxHl2HAs3E",
        "colab_type": "code",
        "outputId": "1006694d-1a59-4138-fd92-68e1b16d3743",
        "colab": {
          "base_uri": "https://localhost:8080/",
          "height": 139
        }
      },
      "source": [
        "! git clone https://github.com/Muhamob/DrQA-1.git\n",
        "! mv DrQA\\-1/ drqa_light"
      ],
      "execution_count": 0,
      "outputs": [
        {
          "output_type": "stream",
          "text": [
            "Cloning into 'DrQA-1'...\n",
            "remote: Enumerating objects: 244, done.\u001b[K\n",
            "remote: Counting objects:   0% (1/244)\u001b[K\rremote: Counting objects:   1% (3/244)\u001b[K\rremote: Counting objects:   2% (5/244)\u001b[K\rremote: Counting objects:   3% (8/244)\u001b[K\rremote: Counting objects:   4% (10/244)\u001b[K\rremote: Counting objects:   5% (13/244)\u001b[K\rremote: Counting objects:   6% (15/244)\u001b[K\rremote: Counting objects:   7% (18/244)\u001b[K\rremote: Counting objects:   8% (20/244)\u001b[K\rremote: Counting objects:   9% (22/244)\u001b[K\rremote: Counting objects:  10% (25/244)\u001b[K\rremote: Counting objects:  11% (27/244)\u001b[K\rremote: Counting objects:  12% (30/244)\u001b[K\rremote: Counting objects:  13% (32/244)\u001b[K\rremote: Counting objects:  14% (35/244)\u001b[K\rremote: Counting objects:  15% (37/244)\u001b[K\rremote: Counting objects:  16% (40/244)\u001b[K\rremote: Counting objects:  17% (42/244)\u001b[K\rremote: Counting objects:  18% (44/244)\u001b[K\rremote: Counting objects:  19% (47/244)\u001b[K\rremote: Counting objects:  20% (49/244)\u001b[K\rremote: Counting objects:  21% (52/244)\u001b[K\rremote: Counting objects:  22% (54/244)\u001b[K\rremote: Counting objects:  23% (57/244)\u001b[K\rremote: Counting objects:  24% (59/244)\u001b[K\rremote: Counting objects:  25% (61/244)\u001b[K\rremote: Counting objects:  26% (64/244)\u001b[K\rremote: Counting objects:  27% (66/244)\u001b[K\rremote: Counting objects:  28% (69/244)\u001b[K\rremote: Counting objects:  29% (71/244)\u001b[K\rremote: Counting objects:  30% (74/244)\u001b[K\rremote: Counting objects:  31% (76/244)\u001b[K\rremote: Counting objects:  32% (79/244)\u001b[K\rremote: Counting objects:  33% (81/244)\u001b[K\rremote: Counting objects:  34% (83/244)\u001b[K\rremote: Counting objects:  35% (86/244)\u001b[K\rremote: Counting objects:  36% (88/244)\u001b[K\rremote: Counting objects:  37% (91/244)\u001b[K\rremote: Counting objects:  38% (93/244)\u001b[K\rremote: Counting objects:  39% (96/244)\u001b[K\rremote: Counting objects:  40% (98/244)\u001b[K\rremote: Counting objects:  41% (101/244)\u001b[K\rremote: Counting objects:  42% (103/244)\u001b[K\rremote: Counting objects:  43% (105/244)\u001b[K\rremote: Counting objects:  44% (108/244)\u001b[K\rremote: Counting objects:  45% (110/244)\u001b[K\rremote: Counting objects:  46% (113/244)\u001b[K\rremote: Counting objects:  47% (115/244)\u001b[K\rremote: Counting objects:  48% (118/244)\u001b[K\rremote: Counting objects:  49% (120/244)\u001b[K\rremote: Counting objects:  50% (122/244)\u001b[K\rremote: Counting objects:  51% (125/244)\u001b[K\rremote: Counting objects:  52% (127/244)\u001b[K\rremote: Counting objects:  53% (130/244)\u001b[K\rremote: Counting objects:  54% (132/244)\u001b[K\rremote: Counting objects:  55% (135/244)\u001b[K\rremote: Counting objects:  56% (137/244)\u001b[K\rremote: Counting objects:  57% (140/244)\u001b[K\rremote: Counting objects:  58% (142/244)\u001b[K\rremote: Counting objects:  59% (144/244)\u001b[K\rremote: Counting objects:  60% (147/244)\u001b[K\rremote: Counting objects:  61% (149/244)\u001b[K\rremote: Counting objects:  62% (152/244)\u001b[K\rremote: Counting objects:  63% (154/244)\u001b[K\rremote: Counting objects:  64% (157/244)\u001b[K\rremote: Counting objects:  65% (159/244)\u001b[K\rremote: Counting objects:  66% (162/244)\u001b[K\rremote: Counting objects:  67% (164/244)\u001b[K\rremote: Counting objects:  68% (166/244)\u001b[K\rremote: Counting objects:  69% (169/244)\u001b[K\rremote: Counting objects:  70% (171/244)\u001b[K\rremote: Counting objects:  71% (174/244)\u001b[K\rremote: Counting objects:  72% (176/244)\u001b[K\rremote: Counting objects:  73% (179/244)\u001b[K\rremote: Counting objects:  74% (181/244)\u001b[K\rremote: Counting objects:  75% (183/244)\u001b[K\rremote: Counting objects:  76% (186/244)\u001b[K\rremote: Counting objects:  77% (188/244)\u001b[K\rremote: Counting objects:  78% (191/244)\u001b[K\rremote: Counting objects:  79% (193/244)\u001b[K\rremote: Counting objects:  80% (196/244)\u001b[K\rremote: Counting objects:  81% (198/244)\u001b[K\rremote: Counting objects:  82% (201/244)\u001b[K\rremote: Counting objects:  83% (203/244)\u001b[K\rremote: Counting objects:  84% (205/244)\u001b[K\rremote: Counting objects:  85% (208/244)\u001b[K\rremote: Counting objects:  86% (210/244)\u001b[K\rremote: Counting objects:  87% (213/244)\u001b[K\rremote: Counting objects:  88% (215/244)\u001b[K\rremote: Counting objects:  89% (218/244)\u001b[K\rremote: Counting objects:  90% (220/244)\u001b[K\rremote: Counting objects:  91% (223/244)\u001b[K\rremote: Counting objects:  92% (225/244)\u001b[K\rremote: Counting objects:  93% (227/244)\u001b[K\rremote: Counting objects:  94% (230/244)\u001b[K\rremote: Counting objects:  95% (232/244)\u001b[K\rremote: Counting objects:  96% (235/244)\u001b[K\rremote: Counting objects:  97% (237/244)\u001b[K\rremote: Counting objects:  98% (240/244)\u001b[K\rremote: Counting objects:  99% (242/244)\u001b[K\rremote: Counting objects: 100% (244/244)\u001b[K\rremote: Counting objects: 100% (244/244), done.\u001b[K\n",
            "remote: Compressing objects:   0% (1/158)\u001b[K\rremote: Compressing objects:   1% (2/158)\u001b[K\rremote: Compressing objects:   2% (4/158)\u001b[K\rremote: Compressing objects:   3% (5/158)\u001b[K\rremote: Compressing objects:   4% (7/158)\u001b[K\rremote: Compressing objects:   5% (8/158)\u001b[K\rremote: Compressing objects:   6% (10/158)\u001b[K\rremote: Compressing objects:   7% (12/158)\u001b[K\rremote: Compressing objects:   8% (13/158)\u001b[K\rremote: Compressing objects:   9% (15/158)\u001b[K\rremote: Compressing objects:  10% (16/158)\u001b[K\rremote: Compressing objects:  11% (18/158)\u001b[K\rremote: Compressing objects:  12% (19/158)\u001b[K\rremote: Compressing objects:  13% (21/158)\u001b[K\rremote: Compressing objects:  14% (23/158)\u001b[K\rremote: Compressing objects:  15% (24/158)\u001b[K\rremote: Compressing objects:  16% (26/158)\u001b[K\rremote: Compressing objects:  17% (27/158)\u001b[K\rremote: Compressing objects:  18% (29/158)\u001b[K\rremote: Compressing objects:  19% (31/158)\u001b[K\rremote: Compressing objects:  20% (32/158)\u001b[K\rremote: Compressing objects:  21% (34/158)\u001b[K\rremote: Compressing objects:  22% (35/158)\u001b[K\rremote: Compressing objects:  23% (37/158)\u001b[K\rremote: Compressing objects:  24% (38/158)\u001b[K\rremote: Compressing objects:  25% (40/158)\u001b[K\rremote: Compressing objects:  26% (42/158)\u001b[K\rremote: Compressing objects:  27% (43/158)\u001b[K\rremote: Compressing objects:  28% (45/158)\u001b[K\rremote: Compressing objects:  29% (46/158)\u001b[K\rremote: Compressing objects:  30% (48/158)\u001b[K\rremote: Compressing objects:  31% (49/158)\u001b[K\rremote: Compressing objects:  32% (51/158)\u001b[K\rremote: Compressing objects:  33% (53/158)\u001b[K\rremote: Compressing objects:  34% (54/158)\u001b[K\rremote: Compressing objects:  35% (56/158)\u001b[K\rremote: Compressing objects:  36% (57/158)\u001b[K\rremote: Compressing objects:  37% (59/158)\u001b[K\rremote: Compressing objects:  38% (61/158)\u001b[K\rremote: Compressing objects:  39% (62/158)\u001b[K\rremote: Compressing objects:  40% (64/158)\u001b[K\rremote: Compressing objects:  41% (65/158)\u001b[K\rremote: Compressing objects:  42% (67/158)\u001b[K\rremote: Compressing objects:  43% (68/158)\u001b[K\rremote: Compressing objects:  44% (70/158)\u001b[K\rremote: Compressing objects:  45% (72/158)\u001b[K\rremote: Compressing objects:  46% (73/158)\u001b[K\rremote: Compressing objects:  47% (75/158)\u001b[K\rremote: Compressing objects:  48% (76/158)\u001b[K\rremote: Compressing objects:  49% (78/158)\u001b[K\rremote: Compressing objects:  50% (79/158)\u001b[K\rremote: Compressing objects:  51% (81/158)\u001b[K\rremote: Compressing objects:  52% (83/158)\u001b[K\rremote: Compressing objects:  53% (84/158)\u001b[K\rremote: Compressing objects:  54% (86/158)\u001b[K\rremote: Compressing objects:  55% (87/158)\u001b[K\rremote: Compressing objects:  56% (89/158)\u001b[K\rremote: Compressing objects:  57% (91/158)\u001b[K\rremote: Compressing objects:  58% (92/158)\u001b[K\rremote: Compressing objects:  59% (94/158)\u001b[K\rremote: Compressing objects:  60% (95/158)\u001b[K\rremote: Compressing objects:  61% (97/158)\u001b[K\rremote: Compressing objects:  62% (98/158)\u001b[K\rremote: Compressing objects:  63% (100/158)\u001b[K\rremote: Compressing objects:  64% (102/158)\u001b[K\rremote: Compressing objects:  65% (103/158)\u001b[K\rremote: Compressing objects:  66% (105/158)\u001b[K\rremote: Compressing objects:  67% (106/158)\u001b[K\rremote: Compressing objects:  68% (108/158)\u001b[K\rremote: Compressing objects:  69% (110/158)\u001b[K\rremote: Compressing objects:  70% (111/158)\u001b[K\rremote: Compressing objects:  71% (113/158)\u001b[K\rremote: Compressing objects:  72% (114/158)\u001b[K\rremote: Compressing objects:  73% (116/158)\u001b[K\rremote: Compressing objects:  74% (117/158)\u001b[K\rremote: Compressing objects:  75% (119/158)\u001b[K\rremote: Compressing objects:  76% (121/158)\u001b[K\rremote: Compressing objects:  77% (122/158)\u001b[K\rremote: Compressing objects:  78% (124/158)\u001b[K\rremote: Compressing objects:  79% (125/158)\u001b[K\rremote: Compressing objects:  80% (127/158)\u001b[K\rremote: Compressing objects:  81% (128/158)\u001b[K\rremote: Compressing objects:  82% (130/158)\u001b[K\rremote: Compressing objects:  83% (132/158)\u001b[K\rremote: Compressing objects:  84% (133/158)\u001b[K\rremote: Compressing objects:  85% (135/158)\u001b[K\rremote: Compressing objects:  86% (136/158)\u001b[K\rremote: Compressing objects:  87% (138/158)\u001b[K\rremote: Compressing objects:  88% (140/158)\u001b[K\rremote: Compressing objects:  89% (141/158)\u001b[K\rremote: Compressing objects:  90% (143/158)\u001b[K\rremote: Compressing objects:  91% (144/158)\u001b[K\rremote: Compressing objects:  92% (146/158)\u001b[K\rremote: Compressing objects:  93% (147/158)\u001b[K\rremote: Compressing objects:  94% (149/158)\u001b[K\rremote: Compressing objects:  95% (151/158)\u001b[K\rremote: Compressing objects:  96% (152/158)\u001b[K\rremote: Compressing objects:  97% (154/158)\u001b[K\rremote: Compressing objects:  98% (155/158)\u001b[K\rremote: Compressing objects:  99% (157/158)\u001b[K\rremote: Compressing objects: 100% (158/158)\u001b[K\rremote: Compressing objects: 100% (158/158), done.\u001b[K\n",
            "Receiving objects:   0% (1/395)   \rReceiving objects:   1% (4/395)   \rReceiving objects:   2% (8/395)   \rReceiving objects:   3% (12/395)   \rReceiving objects:   4% (16/395)   \rReceiving objects:   5% (20/395)   \rReceiving objects:   6% (24/395)   \rReceiving objects:   7% (28/395)   \rReceiving objects:   8% (32/395)   \rReceiving objects:   9% (36/395)   \rReceiving objects:  10% (40/395)   \rReceiving objects:  11% (44/395)   \rReceiving objects:  12% (48/395)   \rReceiving objects:  13% (52/395)   \rReceiving objects:  14% (56/395)   \rReceiving objects:  15% (60/395)   \rReceiving objects:  16% (64/395)   \rReceiving objects:  17% (68/395)   \rReceiving objects:  18% (72/395)   \rReceiving objects:  19% (76/395)   \rReceiving objects:  20% (79/395)   \rReceiving objects:  21% (83/395)   \rReceiving objects:  22% (87/395)   \rReceiving objects:  23% (91/395)   \rReceiving objects:  24% (95/395)   \rReceiving objects:  25% (99/395)   \rReceiving objects:  26% (103/395)   \rReceiving objects:  27% (107/395)   \rReceiving objects:  28% (111/395)   \rReceiving objects:  29% (115/395)   \rReceiving objects:  30% (119/395)   \rReceiving objects:  31% (123/395)   \rReceiving objects:  32% (127/395)   \rReceiving objects:  33% (131/395)   \rReceiving objects:  34% (135/395)   \rReceiving objects:  35% (139/395)   \rReceiving objects:  36% (143/395)   \rReceiving objects:  37% (147/395)   \rReceiving objects:  38% (151/395)   \rReceiving objects:  39% (155/395)   \rReceiving objects:  40% (158/395)   \rReceiving objects:  41% (162/395)   \rReceiving objects:  42% (166/395)   \rReceiving objects:  43% (170/395)   \rReceiving objects:  44% (174/395)   \rReceiving objects:  45% (178/395)   \rReceiving objects:  46% (182/395)   \rReceiving objects:  47% (186/395)   \rReceiving objects:  48% (190/395)   \rReceiving objects:  49% (194/395)   \rReceiving objects:  50% (198/395)   \rReceiving objects:  51% (202/395)   \rReceiving objects:  52% (206/395)   \rReceiving objects:  53% (210/395)   \rReceiving objects:  54% (214/395)   \rReceiving objects:  55% (218/395)   \rReceiving objects:  56% (222/395)   \rReceiving objects:  57% (226/395)   \rReceiving objects:  58% (230/395)   \rReceiving objects:  59% (234/395)   \rReceiving objects:  60% (237/395)   \rReceiving objects:  61% (241/395)   \rReceiving objects:  62% (245/395)   \rReceiving objects:  63% (249/395)   \rReceiving objects:  64% (253/395)   \rReceiving objects:  65% (257/395)   \rReceiving objects:  66% (261/395)   \rReceiving objects:  67% (265/395)   \rReceiving objects:  68% (269/395)   \rReceiving objects:  69% (273/395)   \rReceiving objects:  70% (277/395)   \rReceiving objects:  71% (281/395)   \rReceiving objects:  72% (285/395)   \rReceiving objects:  73% (289/395)   \rReceiving objects:  74% (293/395)   \rReceiving objects:  75% (297/395)   \rReceiving objects:  76% (301/395)   \rReceiving objects:  77% (305/395)   \rReceiving objects:  78% (309/395)   \rReceiving objects:  79% (313/395)   \rReceiving objects:  80% (316/395)   \rReceiving objects:  81% (320/395)   \rReceiving objects:  82% (324/395)   \rReceiving objects:  83% (328/395)   \rReceiving objects:  84% (332/395)   \rReceiving objects:  85% (336/395)   \rReceiving objects:  86% (340/395)   \rReceiving objects:  87% (344/395)   \rremote: Total 395 (delta 182), reused 145 (delta 85), pack-reused 151\u001b[K\n",
            "Receiving objects:  88% (348/395)   \rReceiving objects:  89% (352/395)   \rReceiving objects:  90% (356/395)   \rReceiving objects:  91% (360/395)   \rReceiving objects:  92% (364/395)   \rReceiving objects:  93% (368/395)   \rReceiving objects:  94% (372/395)   \rReceiving objects:  95% (376/395)   \rReceiving objects:  96% (380/395)   \rReceiving objects:  97% (384/395)   \rReceiving objects:  98% (388/395)   \rReceiving objects:  99% (392/395)   \rReceiving objects: 100% (395/395)   \rReceiving objects: 100% (395/395), 125.50 KiB | 11.41 MiB/s, done.\n",
            "Resolving deltas:   0% (0/258)   \rResolving deltas:   2% (6/258)   \rResolving deltas:   3% (8/258)   \rResolving deltas:   4% (12/258)   \rResolving deltas:   6% (17/258)   \rResolving deltas:  10% (27/258)   \rResolving deltas:  13% (34/258)   \rResolving deltas:  15% (39/258)   \rResolving deltas:  16% (42/258)   \rResolving deltas:  18% (47/258)   \rResolving deltas:  20% (54/258)   \rResolving deltas:  23% (61/258)   \rResolving deltas:  25% (66/258)   \rResolving deltas:  29% (75/258)   \rResolving deltas:  56% (146/258)   \rResolving deltas:  61% (158/258)   \rResolving deltas:  65% (168/258)   \rResolving deltas:  66% (172/258)   \rResolving deltas:  76% (198/258)   \rResolving deltas:  79% (206/258)   \rResolving deltas:  81% (209/258)   \rResolving deltas:  96% (250/258)   \rResolving deltas:  99% (257/258)   \rResolving deltas: 100% (258/258)   \rResolving deltas: 100% (258/258), done.\n"
          ],
          "name": "stdout"
        }
      ]
    },
    {
      "cell_type": "code",
      "metadata": {
        "id": "DLX4jS3zTr9F",
        "colab_type": "code",
        "colab": {}
      },
      "source": [
        "# !cp -r drqa_light/glove /content/gdrive/My\\ Drive/abbyy-nlp/\n",
        "!mkdir drqa_light/glove\n",
        "!cp -r /content/gdrive/My\\ Drive/abbyy-nlp/glove/glove.840B.300d.txt drqa_light/glove/"
      ],
      "execution_count": 0,
      "outputs": []
    },
    {
      "cell_type": "code",
      "metadata": {
        "id": "tmG6GeZkVksU",
        "colab_type": "code",
        "outputId": "62196883-3dc4-431b-ca81-58bc328194e3",
        "colab": {
          "base_uri": "https://localhost:8080/",
          "height": 1000
        }
      },
      "source": [
        "!pip install -r drqa_light/requirements.txt"
      ],
      "execution_count": 0,
      "outputs": [
        {
          "output_type": "stream",
          "text": [
            "Requirement already satisfied: numpy in /usr/local/lib/python3.6/dist-packages (from -r drqa_light/requirements.txt (line 1)) (1.18.3)\n",
            "Collecting msgpack-python\n",
            "\u001b[?25l  Downloading https://files.pythonhosted.org/packages/8a/20/6eca772d1a5830336f84aca1d8198e5a3f4715cd1c7fc36d3cc7f7185091/msgpack-python-0.5.6.tar.gz (138kB)\n",
            "\u001b[K     |████████████████████████████████| 143kB 4.8MB/s \n",
            "\u001b[?25hCollecting spacy<=1.9\n",
            "\u001b[?25l  Downloading https://files.pythonhosted.org/packages/63/ce/afee53c365617e5f3e58825d71421bce14949a15f7150742d2a7b8859c53/spacy-1.9.0.tar.gz (3.4MB)\n",
            "\u001b[K     |████████████████████████████████| 3.4MB 12.7MB/s \n",
            "\u001b[?25hCollecting murmurhash<0.27,>=0.26\n",
            "  Downloading https://files.pythonhosted.org/packages/ff/53/1f428861e59c2382e22b8839d03cc315e1a7633a827497b3d389b8d8772d/murmurhash-0.26.4.tar.gz\n",
            "Collecting cymem<1.32,>=1.30\n",
            "  Downloading https://files.pythonhosted.org/packages/a5/0f/d29aa68c55db37844c77e7e96143bd96651fd0f4453c9f6ee043ac846b77/cymem-1.31.2-cp36-cp36m-manylinux1_x86_64.whl\n",
            "Collecting preshed<2.0.0,>=1.0.0\n",
            "\u001b[?25l  Downloading https://files.pythonhosted.org/packages/12/88/57a818051f3d71e800bfb7ba4df56d3ea5793482ef11f1d2109b726f3bac/preshed-1.0.1-cp36-cp36m-manylinux1_x86_64.whl (80kB)\n",
            "\u001b[K     |████████████████████████████████| 81kB 11.2MB/s \n",
            "\u001b[?25hCollecting thinc<6.6.0,>=6.5.0\n",
            "\u001b[?25l  Downloading https://files.pythonhosted.org/packages/f7/9b/78fab962e0c8b55e3a745ebf2458708dfc7922c55eca3a9bff0233b25294/thinc-6.5.2.tar.gz (926kB)\n",
            "\u001b[K     |████████████████████████████████| 931kB 44.9MB/s \n",
            "\u001b[?25hCollecting plac<1.0.0,>=0.9.6\n",
            "  Downloading https://files.pythonhosted.org/packages/9e/9b/62c60d2f5bc135d2aa1d8c8a86aaf84edb719a59c7f11a4316259e61a298/plac-0.9.6-py2.py3-none-any.whl\n",
            "Collecting pip<10.0.0,>=9.0.0\n",
            "\u001b[?25l  Downloading https://files.pythonhosted.org/packages/ac/95/a05b56bb975efa78d3557efa36acaf9cf5d2fd0ee0062060493687432e03/pip-9.0.3-py2.py3-none-any.whl (1.4MB)\n",
            "\u001b[K     |████████████████████████████████| 1.4MB 55.7MB/s \n",
            "\u001b[?25hRequirement already satisfied: six in /usr/local/lib/python3.6/dist-packages (from spacy<=1.9->-r drqa_light/requirements.txt (line 3)) (1.12.0)\n",
            "Requirement already satisfied: pathlib in /usr/local/lib/python3.6/dist-packages (from spacy<=1.9->-r drqa_light/requirements.txt (line 3)) (1.0.1)\n",
            "Collecting ujson>=1.35\n",
            "\u001b[?25l  Downloading https://files.pythonhosted.org/packages/a8/e4/a79c57e22d6d09bbeb5e8febb8cfa0fe10ede69eed9c3458d3ec99014e20/ujson-2.0.3-cp36-cp36m-manylinux1_x86_64.whl (174kB)\n",
            "\u001b[K     |████████████████████████████████| 184kB 57.9MB/s \n",
            "\u001b[?25hCollecting dill<0.3,>=0.2\n",
            "\u001b[?25l  Downloading https://files.pythonhosted.org/packages/fe/42/bfe2e0857bc284cbe6a011d93f2a9ad58a22cb894461b199ae72cfef0f29/dill-0.2.9.tar.gz (150kB)\n",
            "\u001b[K     |████████████████████████████████| 153kB 56.3MB/s \n",
            "\u001b[?25hRequirement already satisfied: requests<3.0.0,>=2.13.0 in /usr/local/lib/python3.6/dist-packages (from spacy<=1.9->-r drqa_light/requirements.txt (line 3)) (2.23.0)\n",
            "Collecting regex<2017.12.1,>=2017.4.1\n",
            "\u001b[?25l  Downloading https://files.pythonhosted.org/packages/b4/fb/e894cf877cc3ad788892899c23e2a73e3e54524c4ec6e5d3826fe153af80/regex-2017.11.09.tar.gz (608kB)\n",
            "\u001b[K     |████████████████████████████████| 614kB 49.7MB/s \n",
            "\u001b[?25hCollecting ftfy<5.0.0,>=4.4.2\n",
            "\u001b[?25l  Downloading https://files.pythonhosted.org/packages/21/5d/9385540977b00df1f3a0c0f07b7e6c15b5e7a3109d7f6ae78a0a764dab22/ftfy-4.4.3.tar.gz (50kB)\n",
            "\u001b[K     |████████████████████████████████| 51kB 8.1MB/s \n",
            "\u001b[?25hRequirement already satisfied: wrapt in /usr/local/lib/python3.6/dist-packages (from thinc<6.6.0,>=6.5.0->spacy<=1.9->-r drqa_light/requirements.txt (line 3)) (1.12.1)\n",
            "Requirement already satisfied: tqdm<5.0.0,>=4.10.0 in /usr/local/lib/python3.6/dist-packages (from thinc<6.6.0,>=6.5.0->spacy<=1.9->-r drqa_light/requirements.txt (line 3)) (4.38.0)\n",
            "Collecting cytoolz<0.9,>=0.8\n",
            "\u001b[?25l  Downloading https://files.pythonhosted.org/packages/0f/e6/ccc124714dcc1bd511e64ddafb4d5d20ada2533b92e3173a4cf09e0d0831/cytoolz-0.8.2.tar.gz (386kB)\n",
            "\u001b[K     |████████████████████████████████| 389kB 54.3MB/s \n",
            "\u001b[?25hRequirement already satisfied: termcolor in /usr/local/lib/python3.6/dist-packages (from thinc<6.6.0,>=6.5.0->spacy<=1.9->-r drqa_light/requirements.txt (line 3)) (1.1.0)\n",
            "Requirement already satisfied: chardet<4,>=3.0.2 in /usr/local/lib/python3.6/dist-packages (from requests<3.0.0,>=2.13.0->spacy<=1.9->-r drqa_light/requirements.txt (line 3)) (3.0.4)\n",
            "Requirement already satisfied: idna<3,>=2.5 in /usr/local/lib/python3.6/dist-packages (from requests<3.0.0,>=2.13.0->spacy<=1.9->-r drqa_light/requirements.txt (line 3)) (2.9)\n",
            "Requirement already satisfied: urllib3!=1.25.0,!=1.25.1,<1.26,>=1.21.1 in /usr/local/lib/python3.6/dist-packages (from requests<3.0.0,>=2.13.0->spacy<=1.9->-r drqa_light/requirements.txt (line 3)) (1.24.3)\n",
            "Requirement already satisfied: certifi>=2017.4.17 in /usr/local/lib/python3.6/dist-packages (from requests<3.0.0,>=2.13.0->spacy<=1.9->-r drqa_light/requirements.txt (line 3)) (2020.4.5.1)\n",
            "Requirement already satisfied: html5lib in /usr/local/lib/python3.6/dist-packages (from ftfy<5.0.0,>=4.4.2->spacy<=1.9->-r drqa_light/requirements.txt (line 3)) (1.0.1)\n",
            "Requirement already satisfied: wcwidth in /usr/local/lib/python3.6/dist-packages (from ftfy<5.0.0,>=4.4.2->spacy<=1.9->-r drqa_light/requirements.txt (line 3)) (0.1.9)\n",
            "Requirement already satisfied: toolz>=0.8.0 in /usr/local/lib/python3.6/dist-packages (from cytoolz<0.9,>=0.8->thinc<6.6.0,>=6.5.0->spacy<=1.9->-r drqa_light/requirements.txt (line 3)) (0.10.0)\n",
            "Requirement already satisfied: webencodings in /usr/local/lib/python3.6/dist-packages (from html5lib->ftfy<5.0.0,>=4.4.2->spacy<=1.9->-r drqa_light/requirements.txt (line 3)) (0.5.1)\n",
            "Building wheels for collected packages: msgpack-python, spacy, murmurhash, thinc, dill, regex, ftfy, cytoolz\n",
            "  Building wheel for msgpack-python (setup.py) ... \u001b[?25l\u001b[?25hdone\n",
            "  Created wheel for msgpack-python: filename=msgpack_python-0.5.6-cp36-cp36m-linux_x86_64.whl size=299092 sha256=2c22901f04c0bad2c9b54f7238ad7bd9b6bdb39e8cb73f460205408e84dc02f6\n",
            "  Stored in directory: /root/.cache/pip/wheels/d5/de/86/7fa56fda12511be47ea0808f3502bc879df4e63ab168ec0406\n",
            "  Building wheel for spacy (setup.py) ... \u001b[?25l\u001b[?25hdone\n",
            "  Created wheel for spacy: filename=spacy-1.9.0-cp36-cp36m-linux_x86_64.whl size=7776139 sha256=d58a6bc454915d610b3673f3b8ce911847bc2a0c7fa398f78402bdc4a3cf85f1\n",
            "  Stored in directory: /root/.cache/pip/wheels/7e/b1/94/5e66dac91b157627f0dfc81b3af926e16919e7c0ef9f7e0616\n",
            "  Building wheel for murmurhash (setup.py) ... \u001b[?25l\u001b[?25hdone\n",
            "  Created wheel for murmurhash: filename=murmurhash-0.26.4-cp36-cp36m-linux_x86_64.whl size=41077 sha256=a89a639b049ef77863b5fac442fa04afddd12f2037f41feef1ae481d78fcf574\n",
            "  Stored in directory: /root/.cache/pip/wheels/90/af/51/9efd49862c6dcb6439baaa235714fc4de5cecf3e01613b2fef\n",
            "  Building wheel for thinc (setup.py) ... \u001b[?25l\u001b[?25hdone\n",
            "  Created wheel for thinc: filename=thinc-6.5.2-cp36-cp36m-linux_x86_64.whl size=2313245 sha256=51a2d07eb1588caa1023c910e2be12a7e7411b7254a18ef0133b6fb33bf929e7\n",
            "  Stored in directory: /root/.cache/pip/wheels/1f/36/8b/306d475aa414ff9fcec211da3da5d5e59582219d57f7ea9fa1\n",
            "  Building wheel for dill (setup.py) ... \u001b[?25l\u001b[?25hdone\n",
            "  Created wheel for dill: filename=dill-0.2.9-cp36-none-any.whl size=77404 sha256=38223dda7d7a3eb2ace2ae96f8b9ed15561ad40c5f8c265e9e12e54fe6b71112\n",
            "  Stored in directory: /root/.cache/pip/wheels/5b/d7/0f/e58eae695403de585269f4e4a94e0cd6ca60ec0c202936fa4a\n",
            "  Building wheel for regex (setup.py) ... \u001b[?25l\u001b[?25hdone\n",
            "  Created wheel for regex: filename=regex-2017.11.9-cp36-cp36m-linux_x86_64.whl size=538836 sha256=deaecacd6920b351ecdf0472e863c5df47b59bd8ea7b33a36f27640d7dbabdc0\n",
            "  Stored in directory: /root/.cache/pip/wheels/5c/ae/8f/cab02cdf653ac0a2e9d9ec302721ae3c20052a36951addd111\n",
            "  Building wheel for ftfy (setup.py) ... \u001b[?25l\u001b[?25hdone\n",
            "  Created wheel for ftfy: filename=ftfy-4.4.3-cp36-none-any.whl size=41068 sha256=7ffbd5117a05336b0191359e74cf975652ba3b683e444bed21a8a83a05e07f99\n",
            "  Stored in directory: /root/.cache/pip/wheels/37/54/00/d320239bfc8aad1455314f302dd82a75253fc585e17b81704e\n",
            "  Building wheel for cytoolz (setup.py) ... \u001b[?25l\u001b[?25hdone\n",
            "  Created wheel for cytoolz: filename=cytoolz-0.8.2-cp36-cp36m-linux_x86_64.whl size=1093046 sha256=31043581572d1f6af20b317946a16637ec9d6aee097afb5d181a5453f79bd6b0\n",
            "  Stored in directory: /root/.cache/pip/wheels/f8/b1/86/c92e4d36b690208fff8471711b85eaa6bc6d19860a86199a09\n",
            "Successfully built msgpack-python spacy murmurhash thinc dill regex ftfy cytoolz\n",
            "\u001b[31mERROR: multiprocess 0.70.9 has requirement dill>=0.3.1, but you'll have dill 0.2.9 which is incompatible.\u001b[0m\n",
            "\u001b[31mERROR: fastai 1.0.60 has requirement spacy>=2.0.18, but you'll have spacy 1.9.0 which is incompatible.\u001b[0m\n",
            "\u001b[31mERROR: en-core-web-sm 2.2.5 has requirement spacy>=2.2.2, but you'll have spacy 1.9.0 which is incompatible.\u001b[0m\n",
            "Installing collected packages: msgpack-python, murmurhash, cymem, preshed, cytoolz, plac, dill, thinc, pip, ujson, regex, ftfy, spacy\n",
            "  Found existing installation: murmurhash 1.0.2\n",
            "    Uninstalling murmurhash-1.0.2:\n",
            "      Successfully uninstalled murmurhash-1.0.2\n",
            "  Found existing installation: cymem 2.0.3\n",
            "    Uninstalling cymem-2.0.3:\n",
            "      Successfully uninstalled cymem-2.0.3\n",
            "  Found existing installation: preshed 3.0.2\n",
            "    Uninstalling preshed-3.0.2:\n",
            "      Successfully uninstalled preshed-3.0.2\n",
            "  Found existing installation: plac 1.1.3\n",
            "    Uninstalling plac-1.1.3:\n",
            "      Successfully uninstalled plac-1.1.3\n",
            "  Found existing installation: dill 0.3.1.1\n",
            "    Uninstalling dill-0.3.1.1:\n",
            "      Successfully uninstalled dill-0.3.1.1\n",
            "  Found existing installation: thinc 7.4.0\n",
            "    Uninstalling thinc-7.4.0:\n",
            "      Successfully uninstalled thinc-7.4.0\n",
            "  Found existing installation: pip 19.3.1\n",
            "    Uninstalling pip-19.3.1:\n",
            "      Successfully uninstalled pip-19.3.1\n",
            "  Found existing installation: regex 2019.12.20\n",
            "    Uninstalling regex-2019.12.20:\n",
            "      Successfully uninstalled regex-2019.12.20\n",
            "  Found existing installation: spacy 2.2.4\n",
            "    Uninstalling spacy-2.2.4:\n",
            "      Successfully uninstalled spacy-2.2.4\n",
            "Successfully installed cymem-1.31.2 cytoolz-0.8.2 dill-0.2.9 ftfy-4.4.3 msgpack-python-0.5.6 murmurhash-0.26.4 pip-9.0.3 plac-0.9.6 preshed-1.0.1 regex-2017.11.9 spacy-1.9.0 thinc-6.5.2 ujson-2.0.3\n"
          ],
          "name": "stdout"
        }
      ]
    },
    {
      "cell_type": "code",
      "metadata": {
        "id": "hdWsWFQ0PCXH",
        "colab_type": "code",
        "colab": {}
      },
      "source": [
        "# %cd drqa_light\n",
        "# !./download.sh\n",
        "# %cd .."
      ],
      "execution_count": 0,
      "outputs": []
    },
    {
      "cell_type": "code",
      "metadata": {
        "id": "BNcTkdeqWvTs",
        "colab_type": "code",
        "outputId": "69e1d662-6ab0-4faf-90a5-9e5da25f8b68",
        "colab": {
          "base_uri": "https://localhost:8080/",
          "height": 523
        }
      },
      "source": [
        "%cd drqa_light\n",
        "!git pull\n",
        "!mkdir SQuAD/\n",
        "!python prepro.py --trn_file ../train.jsonl --dev_file ../dev.jsonl --wv_file glove/glove.840B.300d.txt\n",
        "%cd .."
      ],
      "execution_count": 0,
      "outputs": [
        {
          "output_type": "stream",
          "text": [
            "/content/drqa_light\n",
            "Already up to date.\n",
            "05/05/2020 08:51:17 {'trn_file': '../train.jsonl', 'dev_file': '../dev.jsonl', 'wv_file': 'glove/glove.840B.300d.txt', 'wv_dim': 300, 'wv_cased': True, 'sort_all': False, 'sample_size': 0, 'threads': 2, 'batch_size': 64}\n",
            "05/05/2020 08:51:17 start data preparing...\n",
            "05/05/2020 08:51:17 json data flattened.\n",
            "\n",
            "\u001b[93m    Warning: no model found for 'en'\u001b[0m\n",
            "\n",
            "    Only loading the 'en' tokenizer.\n",
            "\n",
            "\n",
            "\u001b[93m    Warning: no model found for 'en'\u001b[0m\n",
            "\n",
            "    Only loading the 'en' tokenizer.\n",
            "\n",
            "train: 100% 9427/9427 [00:11<00:00, 839.05it/s]\n",
            "dev  : 100% 3270/3270 [00:03<00:00, 915.39it/s]\n",
            "05/05/2020 08:51:32 drop 0 inconsistent samples.\n",
            "05/05/2020 08:51:32 tokens generated\n",
            "05/05/2020 08:52:05 glove vocab loaded.\n",
            "05/05/2020 08:52:05 vocab coverage 57018/61545 | OOV occurrence 7483/1500604 (0.4987%)\n",
            "05/05/2020 08:52:06 Vocabulary size: 57018\n",
            "05/05/2020 08:52:06 Found 9 POS tags.\n",
            "05/05/2020 08:52:06 Found 1 entity tags: ['']\n",
            "05/05/2020 08:52:07 converted to ids.\n",
            "05/05/2020 08:52:41 got embedding matrix.\n",
            "05/05/2020 08:52:44 saved to disk.\n",
            "/content\n"
          ],
          "name": "stdout"
        }
      ]
    },
    {
      "cell_type": "code",
      "metadata": {
        "id": "V8O1cOB3bK4z",
        "colab_type": "code",
        "outputId": "224ac19b-b169-434a-afda-35bec010c80d",
        "colab": {
          "base_uri": "https://localhost:8080/",
          "height": 434
        }
      },
      "source": [
        "%cd drqa_light\n",
        "!git pull\n",
        "!rm -rf models/\n",
        "!mkdir models/\n",
        "!python train.py \\\n",
        "    --log_per_updates 1 \\\n",
        "    --doc_layers 2 \\\n",
        "    --question_layers 2 \\\n",
        "    --hidden_size 64 \\\n",
        "    --grad_clipping 3\n",
        "%cd .."
      ],
      "execution_count": 0,
      "outputs": [
        {
          "output_type": "stream",
          "text": [
            "[Errno 2] No such file or directory: 'drqa_light'\n",
            "/content\n",
            "fatal: not a git repository (or any of the parent directories): .git\n"
          ],
          "name": "stdout"
        },
        {
          "output_type": "error",
          "ename": "KeyboardInterrupt",
          "evalue": "ignored",
          "traceback": [
            "\u001b[0;31m---------------------------------------------------------------------------\u001b[0m",
            "\u001b[0;31mKeyboardInterrupt\u001b[0m                         Traceback (most recent call last)",
            "\u001b[0;32m<ipython-input-1-ef5cea3e6c99>\u001b[0m in \u001b[0;36m<module>\u001b[0;34m()\u001b[0m\n\u001b[1;32m      1\u001b[0m \u001b[0mget_ipython\u001b[0m\u001b[0;34m(\u001b[0m\u001b[0;34m)\u001b[0m\u001b[0;34m.\u001b[0m\u001b[0mmagic\u001b[0m\u001b[0;34m(\u001b[0m\u001b[0;34m'cd drqa_light'\u001b[0m\u001b[0;34m)\u001b[0m\u001b[0;34m\u001b[0m\u001b[0;34m\u001b[0m\u001b[0m\n\u001b[1;32m      2\u001b[0m \u001b[0mget_ipython\u001b[0m\u001b[0;34m(\u001b[0m\u001b[0;34m)\u001b[0m\u001b[0;34m.\u001b[0m\u001b[0msystem\u001b[0m\u001b[0;34m(\u001b[0m\u001b[0;34m'git pull'\u001b[0m\u001b[0;34m)\u001b[0m\u001b[0;34m\u001b[0m\u001b[0;34m\u001b[0m\u001b[0m\n\u001b[0;32m----> 3\u001b[0;31m \u001b[0mget_ipython\u001b[0m\u001b[0;34m(\u001b[0m\u001b[0;34m)\u001b[0m\u001b[0;34m.\u001b[0m\u001b[0msystem\u001b[0m\u001b[0;34m(\u001b[0m\u001b[0;34m'rm -rf models/'\u001b[0m\u001b[0;34m)\u001b[0m\u001b[0;34m\u001b[0m\u001b[0;34m\u001b[0m\u001b[0m\n\u001b[0m\u001b[1;32m      4\u001b[0m \u001b[0mget_ipython\u001b[0m\u001b[0;34m(\u001b[0m\u001b[0;34m)\u001b[0m\u001b[0;34m.\u001b[0m\u001b[0msystem\u001b[0m\u001b[0;34m(\u001b[0m\u001b[0;34m'mkdir models/'\u001b[0m\u001b[0;34m)\u001b[0m\u001b[0;34m\u001b[0m\u001b[0;34m\u001b[0m\u001b[0m\n\u001b[1;32m      5\u001b[0m \u001b[0mget_ipython\u001b[0m\u001b[0;34m(\u001b[0m\u001b[0;34m)\u001b[0m\u001b[0;34m.\u001b[0m\u001b[0msystem\u001b[0m\u001b[0;34m(\u001b[0m\u001b[0;34m'python train.py     --log_per_updates 1     --doc_layers 2     --question_layers 2     --hidden_size 64     --grad_clipping 3'\u001b[0m\u001b[0;34m)\u001b[0m\u001b[0;34m\u001b[0m\u001b[0;34m\u001b[0m\u001b[0m\n",
            "\u001b[0;32m/usr/local/lib/python3.6/dist-packages/google/colab/_shell.py\u001b[0m in \u001b[0;36msystem\u001b[0;34m(self, *args, **kwargs)\u001b[0m\n\u001b[1;32m    100\u001b[0m       \u001b[0mkwargs\u001b[0m\u001b[0;34m.\u001b[0m\u001b[0mupdate\u001b[0m\u001b[0;34m(\u001b[0m\u001b[0;34m{\u001b[0m\u001b[0;34m'also_return_output'\u001b[0m\u001b[0;34m:\u001b[0m \u001b[0;32mTrue\u001b[0m\u001b[0;34m}\u001b[0m\u001b[0;34m)\u001b[0m\u001b[0;34m\u001b[0m\u001b[0;34m\u001b[0m\u001b[0m\n\u001b[1;32m    101\u001b[0m \u001b[0;34m\u001b[0m\u001b[0m\n\u001b[0;32m--> 102\u001b[0;31m     \u001b[0moutput\u001b[0m \u001b[0;34m=\u001b[0m \u001b[0m_system_commands\u001b[0m\u001b[0;34m.\u001b[0m\u001b[0m_system_compat\u001b[0m\u001b[0;34m(\u001b[0m\u001b[0mself\u001b[0m\u001b[0;34m,\u001b[0m \u001b[0;34m*\u001b[0m\u001b[0margs\u001b[0m\u001b[0;34m,\u001b[0m \u001b[0;34m**\u001b[0m\u001b[0mkwargs\u001b[0m\u001b[0;34m)\u001b[0m  \u001b[0;31m# pylint:disable=protected-access\u001b[0m\u001b[0;34m\u001b[0m\u001b[0;34m\u001b[0m\u001b[0m\n\u001b[0m\u001b[1;32m    103\u001b[0m \u001b[0;34m\u001b[0m\u001b[0m\n\u001b[1;32m    104\u001b[0m     \u001b[0;32mif\u001b[0m \u001b[0mpip_warn\u001b[0m\u001b[0;34m:\u001b[0m\u001b[0;34m\u001b[0m\u001b[0;34m\u001b[0m\u001b[0m\n",
            "\u001b[0;32m/usr/local/lib/python3.6/dist-packages/google/colab/_system_commands.py\u001b[0m in \u001b[0;36m_system_compat\u001b[0;34m(shell, cmd, also_return_output)\u001b[0m\n\u001b[1;32m    436\u001b[0m   \u001b[0;31m# stack.\u001b[0m\u001b[0;34m\u001b[0m\u001b[0;34m\u001b[0m\u001b[0;34m\u001b[0m\u001b[0m\n\u001b[1;32m    437\u001b[0m   result = _run_command(\n\u001b[0;32m--> 438\u001b[0;31m       shell.var_expand(cmd, depth=2), clear_streamed_output=False)\n\u001b[0m\u001b[1;32m    439\u001b[0m   \u001b[0mshell\u001b[0m\u001b[0;34m.\u001b[0m\u001b[0muser_ns\u001b[0m\u001b[0;34m[\u001b[0m\u001b[0;34m'_exit_code'\u001b[0m\u001b[0;34m]\u001b[0m \u001b[0;34m=\u001b[0m \u001b[0mresult\u001b[0m\u001b[0;34m.\u001b[0m\u001b[0mreturncode\u001b[0m\u001b[0;34m\u001b[0m\u001b[0;34m\u001b[0m\u001b[0m\n\u001b[1;32m    440\u001b[0m   \u001b[0;32mif\u001b[0m \u001b[0;34m-\u001b[0m\u001b[0mresult\u001b[0m\u001b[0;34m.\u001b[0m\u001b[0mreturncode\u001b[0m \u001b[0;32min\u001b[0m \u001b[0m_INTERRUPTED_SIGNALS\u001b[0m\u001b[0;34m:\u001b[0m\u001b[0;34m\u001b[0m\u001b[0;34m\u001b[0m\u001b[0m\n",
            "\u001b[0;32m/usr/local/lib/python3.6/dist-packages/google/colab/_system_commands.py\u001b[0m in \u001b[0;36m_run_command\u001b[0;34m(cmd, clear_streamed_output)\u001b[0m\n\u001b[1;32m    193\u001b[0m       \u001b[0mos\u001b[0m\u001b[0;34m.\u001b[0m\u001b[0mclose\u001b[0m\u001b[0;34m(\u001b[0m\u001b[0mchild_pty\u001b[0m\u001b[0;34m)\u001b[0m\u001b[0;34m\u001b[0m\u001b[0;34m\u001b[0m\u001b[0m\n\u001b[1;32m    194\u001b[0m \u001b[0;34m\u001b[0m\u001b[0m\n\u001b[0;32m--> 195\u001b[0;31m       \u001b[0;32mreturn\u001b[0m \u001b[0m_monitor_process\u001b[0m\u001b[0;34m(\u001b[0m\u001b[0mparent_pty\u001b[0m\u001b[0;34m,\u001b[0m \u001b[0mepoll\u001b[0m\u001b[0;34m,\u001b[0m \u001b[0mp\u001b[0m\u001b[0;34m,\u001b[0m \u001b[0mcmd\u001b[0m\u001b[0;34m,\u001b[0m \u001b[0mupdate_stdin_widget\u001b[0m\u001b[0;34m)\u001b[0m\u001b[0;34m\u001b[0m\u001b[0;34m\u001b[0m\u001b[0m\n\u001b[0m\u001b[1;32m    196\u001b[0m   \u001b[0;32mfinally\u001b[0m\u001b[0;34m:\u001b[0m\u001b[0;34m\u001b[0m\u001b[0;34m\u001b[0m\u001b[0m\n\u001b[1;32m    197\u001b[0m     \u001b[0mepoll\u001b[0m\u001b[0;34m.\u001b[0m\u001b[0mclose\u001b[0m\u001b[0;34m(\u001b[0m\u001b[0;34m)\u001b[0m\u001b[0;34m\u001b[0m\u001b[0;34m\u001b[0m\u001b[0m\n",
            "\u001b[0;32m/usr/lib/python3.6/contextlib.py\u001b[0m in \u001b[0;36m__exit__\u001b[0;34m(self, type, value, traceback)\u001b[0m\n\u001b[1;32m     86\u001b[0m         \u001b[0;32mif\u001b[0m \u001b[0mtype\u001b[0m \u001b[0;32mis\u001b[0m \u001b[0;32mNone\u001b[0m\u001b[0;34m:\u001b[0m\u001b[0;34m\u001b[0m\u001b[0;34m\u001b[0m\u001b[0m\n\u001b[1;32m     87\u001b[0m             \u001b[0;32mtry\u001b[0m\u001b[0;34m:\u001b[0m\u001b[0;34m\u001b[0m\u001b[0;34m\u001b[0m\u001b[0m\n\u001b[0;32m---> 88\u001b[0;31m                 \u001b[0mnext\u001b[0m\u001b[0;34m(\u001b[0m\u001b[0mself\u001b[0m\u001b[0;34m.\u001b[0m\u001b[0mgen\u001b[0m\u001b[0;34m)\u001b[0m\u001b[0;34m\u001b[0m\u001b[0;34m\u001b[0m\u001b[0m\n\u001b[0m\u001b[1;32m     89\u001b[0m             \u001b[0;32mexcept\u001b[0m \u001b[0mStopIteration\u001b[0m\u001b[0;34m:\u001b[0m\u001b[0;34m\u001b[0m\u001b[0;34m\u001b[0m\u001b[0m\n\u001b[1;32m     90\u001b[0m                 \u001b[0;32mreturn\u001b[0m \u001b[0;32mFalse\u001b[0m\u001b[0;34m\u001b[0m\u001b[0;34m\u001b[0m\u001b[0m\n",
            "\u001b[0;32m/usr/local/lib/python3.6/dist-packages/google/colab/_system_commands.py\u001b[0m in \u001b[0;36m_display_stdin_widget\u001b[0;34m(delay_millis)\u001b[0m\n\u001b[1;32m    353\u001b[0m \u001b[0;34m\u001b[0m\u001b[0m\n\u001b[1;32m    354\u001b[0m   \u001b[0mhide_args\u001b[0m \u001b[0;34m=\u001b[0m \u001b[0;34m[\u001b[0m\u001b[0;34m'cell_remove_stdin'\u001b[0m\u001b[0;34m,\u001b[0m \u001b[0;34m{\u001b[0m\u001b[0;34m}\u001b[0m\u001b[0;34m]\u001b[0m\u001b[0;34m\u001b[0m\u001b[0;34m\u001b[0m\u001b[0m\n\u001b[0;32m--> 355\u001b[0;31m   \u001b[0m_message\u001b[0m\u001b[0;34m.\u001b[0m\u001b[0mblocking_request\u001b[0m\u001b[0;34m(\u001b[0m\u001b[0;34m*\u001b[0m\u001b[0mhide_args\u001b[0m\u001b[0;34m,\u001b[0m \u001b[0mparent\u001b[0m\u001b[0;34m=\u001b[0m\u001b[0mshell\u001b[0m\u001b[0;34m.\u001b[0m\u001b[0mparent_header\u001b[0m\u001b[0;34m)\u001b[0m\u001b[0;34m\u001b[0m\u001b[0;34m\u001b[0m\u001b[0m\n\u001b[0m\u001b[1;32m    356\u001b[0m \u001b[0;34m\u001b[0m\u001b[0m\n\u001b[1;32m    357\u001b[0m \u001b[0;34m\u001b[0m\u001b[0m\n",
            "\u001b[0;32m/usr/local/lib/python3.6/dist-packages/google/colab/_message.py\u001b[0m in \u001b[0;36mblocking_request\u001b[0;34m(request_type, request, timeout_sec, parent)\u001b[0m\n\u001b[1;32m    169\u001b[0m   \u001b[0;31m# unique.\u001b[0m\u001b[0;34m\u001b[0m\u001b[0;34m\u001b[0m\u001b[0;34m\u001b[0m\u001b[0m\n\u001b[1;32m    170\u001b[0m   \u001b[0mrequest_id\u001b[0m \u001b[0;34m=\u001b[0m \u001b[0msend_request\u001b[0m\u001b[0;34m(\u001b[0m\u001b[0mrequest_type\u001b[0m\u001b[0;34m,\u001b[0m \u001b[0mrequest\u001b[0m\u001b[0;34m,\u001b[0m \u001b[0mparent\u001b[0m\u001b[0;34m=\u001b[0m\u001b[0mparent\u001b[0m\u001b[0;34m)\u001b[0m\u001b[0;34m\u001b[0m\u001b[0;34m\u001b[0m\u001b[0m\n\u001b[0;32m--> 171\u001b[0;31m   \u001b[0;32mreturn\u001b[0m \u001b[0mread_reply_from_input\u001b[0m\u001b[0;34m(\u001b[0m\u001b[0mrequest_id\u001b[0m\u001b[0;34m,\u001b[0m \u001b[0mtimeout_sec\u001b[0m\u001b[0;34m)\u001b[0m\u001b[0;34m\u001b[0m\u001b[0;34m\u001b[0m\u001b[0m\n\u001b[0m",
            "\u001b[0;32m/usr/local/lib/python3.6/dist-packages/google/colab/_message.py\u001b[0m in \u001b[0;36mread_reply_from_input\u001b[0;34m(message_id, timeout_sec)\u001b[0m\n\u001b[1;32m     99\u001b[0m     \u001b[0mreply\u001b[0m \u001b[0;34m=\u001b[0m \u001b[0m_read_next_input_message\u001b[0m\u001b[0;34m(\u001b[0m\u001b[0;34m)\u001b[0m\u001b[0;34m\u001b[0m\u001b[0;34m\u001b[0m\u001b[0m\n\u001b[1;32m    100\u001b[0m     \u001b[0;32mif\u001b[0m \u001b[0mreply\u001b[0m \u001b[0;34m==\u001b[0m \u001b[0m_NOT_READY\u001b[0m \u001b[0;32mor\u001b[0m \u001b[0;32mnot\u001b[0m \u001b[0misinstance\u001b[0m\u001b[0;34m(\u001b[0m\u001b[0mreply\u001b[0m\u001b[0;34m,\u001b[0m \u001b[0mdict\u001b[0m\u001b[0;34m)\u001b[0m\u001b[0;34m:\u001b[0m\u001b[0;34m\u001b[0m\u001b[0;34m\u001b[0m\u001b[0m\n\u001b[0;32m--> 101\u001b[0;31m       \u001b[0mtime\u001b[0m\u001b[0;34m.\u001b[0m\u001b[0msleep\u001b[0m\u001b[0;34m(\u001b[0m\u001b[0;36m0.025\u001b[0m\u001b[0;34m)\u001b[0m\u001b[0;34m\u001b[0m\u001b[0;34m\u001b[0m\u001b[0m\n\u001b[0m\u001b[1;32m    102\u001b[0m       \u001b[0;32mcontinue\u001b[0m\u001b[0;34m\u001b[0m\u001b[0;34m\u001b[0m\u001b[0m\n\u001b[1;32m    103\u001b[0m     if (reply.get('type') == 'colab_reply' and\n",
            "\u001b[0;31mKeyboardInterrupt\u001b[0m: "
          ]
        }
      ]
    }
  ]
}