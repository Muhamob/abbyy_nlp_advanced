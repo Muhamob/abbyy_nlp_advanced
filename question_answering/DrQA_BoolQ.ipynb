{
  "nbformat": 4,
  "nbformat_minor": 0,
  "metadata": {
    "colab": {
      "name": "DrQA_BoolQ.ipynb",
      "provenance": [],
      "collapsed_sections": []
    },
    "kernelspec": {
      "name": "python3",
      "display_name": "Python 3"
    },
    "accelerator": "GPU"
  },
  "cells": [
    {
      "cell_type": "code",
      "metadata": {
        "id": "zJMwP0DatG3G",
        "colab_type": "code",
        "outputId": "f2875082-960d-41f0-e6df-997ff7f022ff",
        "colab": {
          "base_uri": "https://localhost:8080/",
          "height": 245
        }
      },
      "source": [
        "from google.colab import drive\n",
        "drive.mount('/content/gdrive')\n",
        "\n",
        "!cp /content/gdrive/My\\ Drive/abbyy-nlp/train.jsonl /content\n",
        "!cp /content/gdrive/My\\ Drive/abbyy-nlp/dev.jsonl /content\n",
        "\n",
        "import json\n",
        "\n",
        "with open(\"train.jsonl\", ) as reader:\n",
        "    train_dataset = list(map(json.loads, reader))\n",
        "\n",
        "with open(\"dev.jsonl\", ) as reader:\n",
        "    dev_dataset = list(map(json.loads, reader))\n",
        "\n",
        "! git clone https://github.com/Muhamob/DrQA-1.git\n",
        "! mv DrQA\\-1/ drqa_light"
      ],
      "execution_count": 1,
      "outputs": [
        {
          "output_type": "stream",
          "text": [
            "Go to this URL in a browser: https://accounts.google.com/o/oauth2/auth?client_id=947318989803-6bn6qk8qdgf4n4g3pfee6491hc0brc4i.apps.googleusercontent.com&redirect_uri=urn%3aietf%3awg%3aoauth%3a2.0%3aoob&response_type=code&scope=email%20https%3a%2f%2fwww.googleapis.com%2fauth%2fdocs.test%20https%3a%2f%2fwww.googleapis.com%2fauth%2fdrive%20https%3a%2f%2fwww.googleapis.com%2fauth%2fdrive.photos.readonly%20https%3a%2f%2fwww.googleapis.com%2fauth%2fpeopleapi.readonly\n",
            "\n",
            "Enter your authorization code:\n",
            "··········\n",
            "Mounted at /content/gdrive\n",
            "Cloning into 'DrQA-1'...\n",
            "remote: Enumerating objects: 246, done.\u001b[K\n",
            "remote: Counting objects: 100% (246/246), done.\u001b[K\n",
            "remote: Compressing objects: 100% (160/160), done.\u001b[K\n",
            "remote: Total 397 (delta 185), reused 144 (delta 85), pack-reused 151\u001b[K\n",
            "Receiving objects: 100% (397/397), 127.49 KiB | 1.01 MiB/s, done.\n",
            "Resolving deltas: 100% (261/261), done.\n"
          ],
          "name": "stdout"
        }
      ]
    },
    {
      "cell_type": "code",
      "metadata": {
        "id": "nydxjVsqtZto",
        "colab_type": "code",
        "outputId": "78c198c2-9ee8-46a6-8215-b70e1f2c222c",
        "colab": {
          "base_uri": "https://localhost:8080/",
          "height": 558
        }
      },
      "source": [
        "! echo \"Clonning repository with refactored DrQA code\"\n",
        "! rm -rf drqa_light\n",
        "! git clone https://github.com/Muhamob/DrQA-1.git\n",
        "! git checkout boolq\n",
        "! mv DrQA\\-1/ drqa_light\n",
        "\n",
        "%cd drqa_light\n",
        "! git fetch\n",
        "! git checkout boolq\n",
        "%cd ..\n",
        "\n",
        "! echo \"Copying glove vectors from gdrive\"\n",
        "!mkdir drqa_light/glove\n",
        "!cp -r /content/gdrive/My\\ Drive/abbyy-nlp/glove/glove.840B.300d.txt drqa_light/glove/\n",
        "\n",
        "! echo \"Install requirements\"\n",
        "!pip install -r drqa_light/requirements.txt\n",
        "\n",
        "! echo \"Preparing dataset\"\n",
        "%cd drqa_light\n",
        "!git pull\n",
        "!mkdir SQuAD/\n",
        "!python prepro.py --trn_file /content/train.jsonl --dev_file /content/dev.jsonl --wv_file glove/glove.840B.300d.txt\n",
        "%cd .."
      ],
      "execution_count": 3,
      "outputs": [
        {
          "output_type": "stream",
          "text": [
            "Preparing dataset\n",
            "/content/drqa_light/drqa_light\n",
            "Already up to date.\n",
            "mkdir: cannot create directory ‘SQuAD/’: File exists\n",
            "05/05/2020 10:32:51 {'trn_file': '/content/train.jsonl', 'dev_file': '/content/dev.jsonl', 'wv_file': 'glove/glove.840B.300d.txt', 'wv_dim': 300, 'wv_cased': True, 'sort_all': False, 'sample_size': 0, 'threads': 2, 'batch_size': 64}\n",
            "05/05/2020 10:32:51 start data preparing...\n",
            "05/05/2020 10:32:51 json data flattened.\n",
            "\n",
            "\u001b[93m    Warning: no model found for 'en'\u001b[0m\n",
            "\n",
            "    Only loading the 'en' tokenizer.\n",
            "\n",
            "\n",
            "\u001b[93m    Warning: no model found for 'en'\u001b[0m\n",
            "\n",
            "    Only loading the 'en' tokenizer.\n",
            "\n",
            "train: 100% 9427/9427 [00:11<00:00, 848.81it/s]\n",
            "dev  : 100% 3270/3270 [00:03<00:00, 922.15it/s]\n",
            "05/05/2020 10:33:06 drop 0 inconsistent samples.\n",
            "05/05/2020 10:33:06 tokens generated\n",
            "05/05/2020 10:35:42 glove vocab loaded.\n",
            "05/05/2020 10:35:42 vocab coverage 57018/61545 | OOV occurrence 7483/1500604 (0.4987%)\n",
            "05/05/2020 10:35:43 Vocabulary size: 57018\n",
            "05/05/2020 10:35:43 Found 9 POS tags.\n",
            "05/05/2020 10:35:43 Found 1 entity tags: ['']\n",
            "05/05/2020 10:35:44 converted to ids.\n",
            "05/05/2020 10:37:58 got embedding matrix.\n",
            "05/05/2020 10:38:01 saved to disk.\n",
            "/content/drqa_light\n"
          ],
          "name": "stdout"
        }
      ]
    },
    {
      "cell_type": "code",
      "metadata": {
        "id": "KMatgJ_vtzka",
        "colab_type": "code",
        "outputId": "d2018db7-c04f-46d7-aa0f-fc64b5fb3113",
        "colab": {
          "base_uri": "https://localhost:8080/",
          "height": 315
        }
      },
      "source": [
        "%cd drqa_light\n",
        "!git branch\n",
        "!git pull\n",
        "!rm -rf models/\n",
        "!mkdir models/\n",
        "!python train.py \\\n",
        "    --log_per_updates 1 \\\n",
        "    --doc_layers 2 \\\n",
        "    --question_layers 2 \\\n",
        "    --hidden_size 64 \\\n",
        "    --grad_clipping 3\n",
        "%cd .."
      ],
      "execution_count": 4,
      "outputs": [
        {
          "output_type": "stream",
          "text": [
            "/content/drqa_light/drqa_light\n",
            "* \u001b[32mboolq\u001b[m\n",
            "  master\u001b[m\n",
            "Already up to date.\n",
            "05/05/2020 10:38:32 [Program starts. Loading data...]\n",
            "05/05/2020 10:38:37 {'log_per_updates': 1, 'data_file': 'SQuAD/data.msgpack', 'model_dir': '/content/drqa_light/drqa_light/models', 'save_last_only': False, 'save_dawn_logs': False, 'seed': 1013, 'cuda': True, 'epochs': 40, 'batch_size': 32, 'resume': '', 'resume_options': False, 'reduce_lr': 0.0, 'optimizer': 'adamax', 'grad_clipping': 3.0, 'weight_decay': 0, 'learning_rate': 0.1, 'momentum': 0, 'tune_partial': 1000, 'fix_embeddings': False, 'rnn_padding': False, 'question_merge': 'self_attn', 'doc_layers': 2, 'question_layers': 2, 'hidden_size': 64, 'num_features': 4, 'pos': True, 'ner': True, 'use_qemb': True, 'concat_rnn_layers': True, 'dropout_emb': 0.4, 'dropout_rnn': 0.4, 'dropout_rnn_output': True, 'max_len': 15, 'rnn_type': 'lstm', 'pretrained_words': True, 'vocab_size': 57018, 'embedding_dim': 300, 'pos_size': 9, 'ner_size': 1}\n",
            "05/05/2020 10:38:37 [Data loaded.]\n",
            "05/05/2020 10:38:46 Epoch 1\n",
            "Traceback (most recent call last):\n",
            "  File \"train.py\", line 385, in <module>\n",
            "  File \"train.py\", line 66, in main\n",
            "    for i, batch in enumerate(batches):\n",
            "  File \"train.py\", line 296, in __iter__\n",
            "    context_ent[i, j, ent] = 1\n",
            "KeyboardInterrupt\n",
            "/content/drqa_light\n"
          ],
          "name": "stdout"
        }
      ]
    },
    {
      "cell_type": "code",
      "metadata": {
        "id": "VSVk7duPt0OL",
        "colab_type": "code",
        "colab": {}
      },
      "source": [
        ""
      ],
      "execution_count": 0,
      "outputs": []
    }
  ]
}